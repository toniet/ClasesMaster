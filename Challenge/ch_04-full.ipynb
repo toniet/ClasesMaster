{
 "cells": [
  {
   "cell_type": "markdown",
   "metadata": {},
   "source": [
    "## Match searches with bookings\n",
    "\n",
    "- For every search in the searches file, find out whether the search ended up in a booking or not (using the info in the bookings file). For instance, search and booking origin and destination should match. \n",
    "\n",
    "- For the bookings file, origin and destination are the columns dep_port and arr_port, respectively. \n",
    "\n",
    "- Generate a CSV file with the search data, and an additional field, containing 1 if the search ended up in a booking, and 0 otherwise.\n",
    "\n"
   ]
  },
  {
   "cell_type": "raw",
   "metadata": {},
   "source": [
    "1) Get familiar with data\n",
    "2) Prepare the data for processing\n",
    "\n",
    "3) Make action plan\n",
    "4) Develop the code that works with a sample\n",
    "\n",
    "5) Adjust the code to work with Big data\n",
    "6) Test big data approach on a sample\n",
    "\n",
    "7) Run program with big data"
   ]
  },
  {
   "cell_type": "markdown",
   "metadata": {},
   "source": [
    "## 2) Prepare the data for processing"
   ]
  },
  {
   "cell_type": "markdown",
   "metadata": {},
   "source": [
    "### Booking"
   ]
  },
  {
   "cell_type": "markdown",
   "metadata": {},
   "source": [
    "#### We didnt check for duplicates so far... What if the file is has duplicated lines?"
   ]
  },
  {
   "cell_type": "raw",
   "metadata": {},
   "source": [
    "# pd.set_option('display.max_columns', None)"
   ]
  },
  {
   "cell_type": "code",
   "execution_count": 2,
   "metadata": {},
   "outputs": [
    {
     "name": "stdout",
     "output_type": "stream",
     "text": [
      "\u001b[0m\u001b[01;31mbookings.csv.bz2\u001b[0m         ch_03-Empty.ipynb   \u001b[01;31msearches.csv.bz2\u001b[0m\r\n",
      "\u001b[01;31mbookings.sample.csv.bz2\u001b[0m  ch_04-Empty.ipynb   top_airports.csv\r\n",
      "ch_01-Empty.ipynb        ch_05b-empty.ipynb  Untitled.ipynb\r\n",
      "ch_02-Empty.ipynb        ch_05-empty.ipynb\r\n"
     ]
    }
   ],
   "source": [
    "ls"
   ]
  },
  {
   "cell_type": "code",
   "execution_count": 1,
   "metadata": {},
   "outputs": [],
   "source": [
    "import pandas as pd"
   ]
  },
  {
   "cell_type": "code",
   "execution_count": 2,
   "metadata": {},
   "outputs": [
    {
     "name": "stdout",
     "output_type": "stream",
     "text": [
      "/Users/aalmagro/Documents/KSchool/023/Amadeus_challenge\r\n"
     ]
    }
   ],
   "source": [
    "!pwd"
   ]
  },
  {
   "cell_type": "code",
   "execution_count": 5,
   "metadata": {},
   "outputs": [],
   "source": [
    "path_bookings = 'challenge/bookings.csv.bz2'\n",
    "path_searches = 'challenge/searches.csv.bz2'\n",
    "path_bookings_no_dup = 'bookings_wn_dup.csv'\n",
    "path_searches_no_dup ='searches_wn_dup.csv'"
   ]
  },
  {
   "cell_type": "code",
   "execution_count": 3,
   "metadata": {
    "collapsed": true
   },
   "outputs": [
    {
     "name": "stdout",
     "output_type": "stream",
     "text": [
      "0 0\n",
      "1 100000\n",
      "2 200000\n",
      "3 300000\n",
      "4 400000\n",
      "5 500000\n",
      "6 600000\n",
      "7 700000\n",
      "8 800000\n",
      "9 900000\n",
      "10 1000000\n",
      "11 1000000\n",
      "12 1000000\n",
      "13 1000000\n",
      "14 1000000\n",
      "15 1000000\n",
      "16 1000000\n",
      "17 1000000\n",
      "18 1000000\n",
      "19 1000000\n",
      "20 1000000\n",
      "21 1000000\n",
      "22 1000000\n",
      "23 1000000\n",
      "24 1000000\n",
      "25 1000000\n",
      "26 1000000\n",
      "27 1000000\n",
      "28 1000000\n",
      "29 1000000\n",
      "30 1000000\n",
      "31 1000000\n",
      "32 1000000\n",
      "33 1000000\n",
      "34 1000000\n",
      "35 1000000\n",
      "36 1000000\n",
      "37 1000000\n",
      "38 1000000\n",
      "39 1000000\n",
      "40 1000000\n",
      "41 1000000\n",
      "42 1000000\n",
      "43 1000000\n",
      "44 1000000\n",
      "45 1000000\n",
      "46 1000000\n",
      "47 1000000\n",
      "48 1000000\n",
      "49 1000000\n",
      "50 1000000\n",
      "51 1000003\n",
      "52 1000003\n",
      "53 1000003\n",
      "54 1000003\n",
      "55 1000003\n",
      "56 1000003\n",
      "57 1000003\n",
      "58 1000003\n",
      "59 1000003\n",
      "60 1000003\n",
      "61 1000003\n",
      "62 1000003\n",
      "63 1000003\n",
      "64 1000003\n",
      "65 1000003\n",
      "66 1000003\n",
      "67 1000003\n",
      "68 1000003\n",
      "69 1000003\n",
      "70 1000003\n",
      "71 1000003\n",
      "72 1000003\n",
      "73 1000003\n",
      "74 1000003\n",
      "75 1000003\n",
      "76 1000003\n",
      "77 1000003\n",
      "78 1000003\n",
      "79 1000003\n",
      "80 1000003\n",
      "81 1000003\n",
      "82 1000003\n",
      "83 1000003\n",
      "84 1000003\n",
      "85 1000003\n",
      "86 1000003\n",
      "87 1000003\n",
      "88 1000003\n",
      "89 1000003\n",
      "90 1000003\n",
      "91 1000003\n",
      "92 1000003\n",
      "93 1000003\n",
      "94 1000003\n",
      "95 1000003\n",
      "96 1000003\n",
      "97 1000003\n",
      "98 1000003\n",
      "99 1000003\n",
      "100 1000003\n",
      "CPU times: user 8min 56s, sys: 48.6 s, total: 9min 44s\n",
      "Wall time: 10min 6s\n"
     ]
    }
   ],
   "source": [
    "%%time\n",
    "bi=pd.read_csv(path_bookings, sep=\"^\", \n",
    "               chunksize=100000, low_memory=False, \n",
    "               dtype=str)\n",
    "all_chunks=pd.DataFrame()\n",
    "\n",
    "for i, chunk in enumerate(bi):\n",
    "    print(i, len(all_chunks))\n",
    "    all_chunks=all_chunks.append(chunk)\n",
    "    all_chunks.drop_duplicates(inplace=True)\n",
    "all_chunks.columns=all_chunks.columns.str.strip()   \n",
    "all_chunks.to_csv(path_bookings_no_dup, sep='^', \n",
    "                  index=False)"
   ]
  },
  {
   "cell_type": "code",
   "execution_count": 9,
   "metadata": {},
   "outputs": [
    {
     "name": "stdout",
     "output_type": "stream",
     "text": [
      "0 0\n",
      "1 358999\n",
      "2 358999\n",
      "CPU times: user 25.3 s, sys: 1.61 s, total: 26.9 s\n",
      "Wall time: 27.6 s\n"
     ]
    }
   ],
   "source": [
    "%%time\n",
    "bi=pd.read_csv(path_searches, sep=\"^\", chunksize=500000, low_memory=False, dtype=str)\n",
    "all_chunks=pd.DataFrame()\n",
    "\n",
    "for i, chunk in enumerate(bi):\n",
    "    print(i, len(all_chunks))\n",
    "    all_chunks=all_chunks.append(chunk)\n",
    "    all_chunks.drop_duplicates(inplace=True)\n",
    "    if i==2:\n",
    "        break\n",
    "all_chunks.columns=all_chunks.columns.str.strip()\n",
    "all_chunks[\"Origin\"]=all_chunks[\"Origin\"].str.strip().str.upper()\n",
    "all_chunks[\"Destination\"]=all_chunks[\"Destination\"].str.strip().str.upper()\n",
    "    \n",
    "all_chunks.to_csv(path_searches_no_dup, sep='^', index=False)"
   ]
  },
  {
   "cell_type": "code",
   "execution_count": 10,
   "metadata": {},
   "outputs": [
    {
     "ename": "SyntaxError",
     "evalue": "invalid syntax (<ipython-input-10-97d6de3516fd>, line 1)",
     "output_type": "error",
     "traceback": [
      "\u001b[0;36m  File \u001b[0;32m\"<ipython-input-10-97d6de3516fd>\"\u001b[0;36m, line \u001b[0;32m1\u001b[0m\n\u001b[0;31m    Bookings Columns:'act_date           ', 'dep_port', 'arr_port'\u001b[0m\n\u001b[0m                   ^\u001b[0m\n\u001b[0;31mSyntaxError\u001b[0m\u001b[0;31m:\u001b[0m invalid syntax\n"
     ]
    }
   ],
   "source": [
    "Bookings Columns:'act_date           ', 'dep_port', 'arr_port'\n",
    "Search Columns:'Date', 'Origin', 'Destination'"
   ]
  },
  {
   "cell_type": "markdown",
   "metadata": {},
   "source": [
    "#### We have seen that we have white space in some columns...."
   ]
  },
  {
   "cell_type": "code",
   "execution_count": 21,
   "metadata": {},
   "outputs": [],
   "source": [
    "cols_bookings=['cre_date','act_date','dep_port', 'arr_port']\n",
    "b=pd.read_csv(path_bookings_no_dup, sep='^', usecols=cols_bookings)"
   ]
  },
  {
   "cell_type": "code",
   "execution_count": 22,
   "metadata": {},
   "outputs": [],
   "source": [
    "s=pd.read_csv(path_searches_no_dup, sep='^', low_memory=False)"
   ]
  },
  {
   "cell_type": "code",
   "execution_count": 23,
   "metadata": {},
   "outputs": [
    {
     "data": {
      "text/plain": [
       "Index(['act_date', 'cre_date', 'dep_port', 'arr_port'], dtype='object')"
      ]
     },
     "execution_count": 23,
     "metadata": {},
     "output_type": "execute_result"
    }
   ],
   "source": [
    "b.columns"
   ]
  },
  {
   "cell_type": "code",
   "execution_count": 24,
   "metadata": {},
   "outputs": [],
   "source": [
    "b.arr_port=b.arr_port.str.strip()\n",
    "b.dep_port=b.dep_port.str.strip()"
   ]
  },
  {
   "cell_type": "code",
   "execution_count": 25,
   "metadata": {},
   "outputs": [
    {
     "data": {
      "text/plain": [
       "'LHR'"
      ]
     },
     "execution_count": 25,
     "metadata": {},
     "output_type": "execute_result"
    }
   ],
   "source": [
    "b.arr_port[0]"
   ]
  },
  {
   "cell_type": "code",
   "execution_count": 26,
   "metadata": {},
   "outputs": [
    {
     "data": {
      "text/plain": [
       "'2013-03-05 00:00:00'"
      ]
     },
     "execution_count": 26,
     "metadata": {},
     "output_type": "execute_result"
    }
   ],
   "source": [
    "b.act_date[0]"
   ]
  },
  {
   "cell_type": "code",
   "execution_count": null,
   "metadata": {},
   "outputs": [],
   "source": [
    "Action plan:\n",
    "1) quitar duplicates\n",
    "2) prepare act_date in the date format of the search\n",
    "3) add columns with 1s in bookings\n",
    "4) merge --> left join\n",
    "Bookings Columns: 'act_date', 'dep_port', 'arr_port'\n",
    "Search Columns:'Date', 'Origin', 'Destination'\n",
    "5)fillna(0) over the result\n",
    "6) save"
   ]
  },
  {
   "cell_type": "code",
   "execution_count": 27,
   "metadata": {},
   "outputs": [],
   "source": [
    "import pandas as pd\n",
    "b=pd.read_csv(path_bookings_no_dup, sep='^', usecols=cols_bookings)\n",
    "s=pd.read_csv(path_searches_no_dup, sep='^', low_memory=False)"
   ]
  },
  {
   "cell_type": "code",
   "execution_count": null,
   "metadata": {},
   "outputs": [],
   "source": []
  },
  {
   "cell_type": "code",
   "execution_count": 28,
   "metadata": {},
   "outputs": [],
   "source": [
    "b.drop_duplicates(inplace=True)\n",
    "b.columns=b.columns.str.strip()\n",
    "b.arr_port=b.arr_port.str.strip()\n",
    "b.dep_port=b.dep_port.str.strip()\n",
    "b.cre_date=b.cre_date.str[0:10]\n",
    "s.Date=s.Date.str[0:10]\n",
    "b['Booked']=1\n",
    "\n",
    "s_b=s.merge(b,\n",
    "            how='left', \n",
    "            left_on=['Date', 'Origin', 'Destination'],\n",
    "            right_on=['cre_date', 'dep_port', 'arr_port'])\n",
    "\n"
   ]
  },
  {
   "cell_type": "code",
   "execution_count": 29,
   "metadata": {},
   "outputs": [
    {
     "data": {
      "text/html": [
       "<div>\n",
       "<style scoped>\n",
       "    .dataframe tbody tr th:only-of-type {\n",
       "        vertical-align: middle;\n",
       "    }\n",
       "\n",
       "    .dataframe tbody tr th {\n",
       "        vertical-align: top;\n",
       "    }\n",
       "\n",
       "    .dataframe thead th {\n",
       "        text-align: right;\n",
       "    }\n",
       "</style>\n",
       "<table border=\"1\" class=\"dataframe\">\n",
       "  <thead>\n",
       "    <tr style=\"text-align: right;\">\n",
       "      <th></th>\n",
       "      <th>act_date</th>\n",
       "      <th>cre_date</th>\n",
       "      <th>dep_port</th>\n",
       "      <th>arr_port</th>\n",
       "      <th>Booked</th>\n",
       "    </tr>\n",
       "  </thead>\n",
       "  <tbody>\n",
       "    <tr>\n",
       "      <th>0</th>\n",
       "      <td>2013-03-05 00:00:00</td>\n",
       "      <td>2013-02-22</td>\n",
       "      <td>ZRH</td>\n",
       "      <td>LHR</td>\n",
       "      <td>1</td>\n",
       "    </tr>\n",
       "    <tr>\n",
       "      <th>1</th>\n",
       "      <td>2013-03-26 00:00:00</td>\n",
       "      <td>2013-03-26</td>\n",
       "      <td>SAL</td>\n",
       "      <td>CLT</td>\n",
       "      <td>1</td>\n",
       "    </tr>\n",
       "    <tr>\n",
       "      <th>3</th>\n",
       "      <td>2013-03-26 00:00:00</td>\n",
       "      <td>2013-03-26</td>\n",
       "      <td>AKL</td>\n",
       "      <td>SVO</td>\n",
       "      <td>1</td>\n",
       "    </tr>\n",
       "    <tr>\n",
       "      <th>5</th>\n",
       "      <td>2013-03-20 00:00:00</td>\n",
       "      <td>2013-03-20</td>\n",
       "      <td>DEN</td>\n",
       "      <td>LGA</td>\n",
       "      <td>1</td>\n",
       "    </tr>\n",
       "    <tr>\n",
       "      <th>7</th>\n",
       "      <td>2013-03-25 00:00:00</td>\n",
       "      <td>2013-03-25</td>\n",
       "      <td>NRT</td>\n",
       "      <td>SIN</td>\n",
       "      <td>1</td>\n",
       "    </tr>\n",
       "  </tbody>\n",
       "</table>\n",
       "</div>"
      ],
      "text/plain": [
       "              act_date    cre_date dep_port arr_port  Booked\n",
       "0  2013-03-05 00:00:00  2013-02-22      ZRH      LHR       1\n",
       "1  2013-03-26 00:00:00  2013-03-26      SAL      CLT       1\n",
       "3  2013-03-26 00:00:00  2013-03-26      AKL      SVO       1\n",
       "5  2013-03-20 00:00:00  2013-03-20      DEN      LGA       1\n",
       "7  2013-03-25 00:00:00  2013-03-25      NRT      SIN       1"
      ]
     },
     "execution_count": 29,
     "metadata": {},
     "output_type": "execute_result"
    }
   ],
   "source": [
    "b.head()"
   ]
  },
  {
   "cell_type": "code",
   "execution_count": 30,
   "metadata": {},
   "outputs": [
    {
     "data": {
      "text/plain": [
       "(359003, 366204)"
      ]
     },
     "execution_count": 30,
     "metadata": {},
     "output_type": "execute_result"
    }
   ],
   "source": [
    "len(s), len(s_b)"
   ]
  },
  {
   "cell_type": "code",
   "execution_count": 57,
   "metadata": {},
   "outputs": [],
   "source": [
    "s_b.drop(['act_date', 'dep_port', 'arr_port'], axis=1, inplace=True)"
   ]
  },
  {
   "cell_type": "code",
   "execution_count": 67,
   "metadata": {},
   "outputs": [],
   "source": [
    "s_b['Booked']=s_b['Booked'].fillna(0)"
   ]
  },
  {
   "cell_type": "code",
   "execution_count": 68,
   "metadata": {},
   "outputs": [],
   "source": [
    "s_b=s_b.astype({'Booked':int})"
   ]
  },
  {
   "cell_type": "code",
   "execution_count": 70,
   "metadata": {},
   "outputs": [
    {
     "data": {
      "text/html": [
       "<div>\n",
       "<style scoped>\n",
       "    .dataframe tbody tr th:only-of-type {\n",
       "        vertical-align: middle;\n",
       "    }\n",
       "\n",
       "    .dataframe tbody tr th {\n",
       "        vertical-align: top;\n",
       "    }\n",
       "\n",
       "    .dataframe thead th {\n",
       "        text-align: right;\n",
       "    }\n",
       "</style>\n",
       "<table border=\"1\" class=\"dataframe\">\n",
       "  <thead>\n",
       "    <tr style=\"text-align: right;\">\n",
       "      <th></th>\n",
       "      <th>Date</th>\n",
       "      <th>Time</th>\n",
       "      <th>TxnCode</th>\n",
       "      <th>OfficeID</th>\n",
       "      <th>Country</th>\n",
       "      <th>Origin</th>\n",
       "      <th>Destination</th>\n",
       "      <th>RoundTrip</th>\n",
       "      <th>NbSegments</th>\n",
       "      <th>Seg1Departure</th>\n",
       "      <th>...</th>\n",
       "      <th>From</th>\n",
       "      <th>IsPublishedForNeg</th>\n",
       "      <th>IsFromInternet</th>\n",
       "      <th>IsFromVista</th>\n",
       "      <th>TerminalID</th>\n",
       "      <th>InternetOffice</th>\n",
       "      <th>cre_date</th>\n",
       "      <th>dep_port</th>\n",
       "      <th>arr_port</th>\n",
       "      <th>Booked</th>\n",
       "    </tr>\n",
       "  </thead>\n",
       "  <tbody>\n",
       "    <tr>\n",
       "      <th>167636</th>\n",
       "      <td>2013-06-17</td>\n",
       "      <td>11:34:42</td>\n",
       "      <td>FXX</td>\n",
       "      <td>0a914cfb66b849dddaa6bb2e66ff0999</td>\n",
       "      <td>DE</td>\n",
       "      <td>TXL</td>\n",
       "      <td>BKK</td>\n",
       "      <td>1.0</td>\n",
       "      <td>4.0</td>\n",
       "      <td>TXL</td>\n",
       "      <td>...</td>\n",
       "      <td>1ASI</td>\n",
       "      <td>0</td>\n",
       "      <td>0</td>\n",
       "      <td>0</td>\n",
       "      <td>a2f6efe42c20a759e30deafe68890442</td>\n",
       "      <td>BNJ</td>\n",
       "      <td>2013-06-17</td>\n",
       "      <td>TXL</td>\n",
       "      <td>BKK</td>\n",
       "      <td>1</td>\n",
       "    </tr>\n",
       "    <tr>\n",
       "      <th>301236</th>\n",
       "      <td>2013-10-29</td>\n",
       "      <td>14:49:11</td>\n",
       "      <td>MPT</td>\n",
       "      <td>0c618d30c252b880d8a83ebb76af7643</td>\n",
       "      <td>SE</td>\n",
       "      <td>LIM</td>\n",
       "      <td>CUZ</td>\n",
       "      <td>1.0</td>\n",
       "      <td>2.0</td>\n",
       "      <td>LIM</td>\n",
       "      <td>...</td>\n",
       "      <td>1ASI</td>\n",
       "      <td>0</td>\n",
       "      <td>0</td>\n",
       "      <td>0</td>\n",
       "      <td>d41d8cd98f00b204e9800998ecf8427e</td>\n",
       "      <td>0</td>\n",
       "      <td>2013-10-29</td>\n",
       "      <td>LIM</td>\n",
       "      <td>CUZ</td>\n",
       "      <td>1</td>\n",
       "    </tr>\n",
       "    <tr>\n",
       "      <th>161484</th>\n",
       "      <td>2013-06-11</td>\n",
       "      <td>00:57:26</td>\n",
       "      <td>MPT</td>\n",
       "      <td>19d81e19f1342e305d888f236565d20d</td>\n",
       "      <td>ES</td>\n",
       "      <td>MAD</td>\n",
       "      <td>LPA</td>\n",
       "      <td>0.0</td>\n",
       "      <td>1.0</td>\n",
       "      <td>MAD</td>\n",
       "      <td>...</td>\n",
       "      <td>1ASI</td>\n",
       "      <td>0</td>\n",
       "      <td>0</td>\n",
       "      <td>0</td>\n",
       "      <td>d41d8cd98f00b204e9800998ecf8427e</td>\n",
       "      <td>MAD</td>\n",
       "      <td>2013-06-11</td>\n",
       "      <td>MAD</td>\n",
       "      <td>LPA</td>\n",
       "      <td>1</td>\n",
       "    </tr>\n",
       "    <tr>\n",
       "      <th>195553</th>\n",
       "      <td>2013-07-15</td>\n",
       "      <td>06:48:32</td>\n",
       "      <td>MPT</td>\n",
       "      <td>966af57bac7a9b07b029ebb01e0e9574</td>\n",
       "      <td>GR</td>\n",
       "      <td>BRU</td>\n",
       "      <td>BKK</td>\n",
       "      <td>1.0</td>\n",
       "      <td>2.0</td>\n",
       "      <td>BRU</td>\n",
       "      <td>...</td>\n",
       "      <td>1ASIWS</td>\n",
       "      <td>0</td>\n",
       "      <td>0</td>\n",
       "      <td>0</td>\n",
       "      <td>d41d8cd98f00b204e9800998ecf8427e</td>\n",
       "      <td>ATH</td>\n",
       "      <td>2013-07-15</td>\n",
       "      <td>BRU</td>\n",
       "      <td>BKK</td>\n",
       "      <td>1</td>\n",
       "    </tr>\n",
       "    <tr>\n",
       "      <th>139092</th>\n",
       "      <td>2013-05-20</td>\n",
       "      <td>02:34:34</td>\n",
       "      <td>FCP</td>\n",
       "      <td>1722290df1e162d326280c5d4a82657b</td>\n",
       "      <td>CO</td>\n",
       "      <td>BOG</td>\n",
       "      <td>CTG</td>\n",
       "      <td>0.0</td>\n",
       "      <td>1.0</td>\n",
       "      <td>BOG</td>\n",
       "      <td>...</td>\n",
       "      <td>1ASIWS</td>\n",
       "      <td>0</td>\n",
       "      <td>0</td>\n",
       "      <td>0</td>\n",
       "      <td>d41d8cd98f00b204e9800998ecf8427e</td>\n",
       "      <td>BOG</td>\n",
       "      <td>2013-05-20</td>\n",
       "      <td>BOG</td>\n",
       "      <td>CTG</td>\n",
       "      <td>1</td>\n",
       "    </tr>\n",
       "  </tbody>\n",
       "</table>\n",
       "<p>5 rows × 49 columns</p>\n",
       "</div>"
      ],
      "text/plain": [
       "              Date      Time TxnCode                          OfficeID  \\\n",
       "167636  2013-06-17  11:34:42     FXX  0a914cfb66b849dddaa6bb2e66ff0999   \n",
       "301236  2013-10-29  14:49:11     MPT  0c618d30c252b880d8a83ebb76af7643   \n",
       "161484  2013-06-11  00:57:26     MPT  19d81e19f1342e305d888f236565d20d   \n",
       "195553  2013-07-15  06:48:32     MPT  966af57bac7a9b07b029ebb01e0e9574   \n",
       "139092  2013-05-20  02:34:34     FCP  1722290df1e162d326280c5d4a82657b   \n",
       "\n",
       "       Country Origin Destination  RoundTrip  NbSegments Seg1Departure  ...    \\\n",
       "167636      DE    TXL         BKK        1.0         4.0           TXL  ...     \n",
       "301236      SE    LIM         CUZ        1.0         2.0           LIM  ...     \n",
       "161484      ES    MAD         LPA        0.0         1.0           MAD  ...     \n",
       "195553      GR    BRU         BKK        1.0         2.0           BRU  ...     \n",
       "139092      CO    BOG         CTG        0.0         1.0           BOG  ...     \n",
       "\n",
       "          From IsPublishedForNeg IsFromInternet IsFromVista  \\\n",
       "167636    1ASI                 0              0           0   \n",
       "301236    1ASI                 0              0           0   \n",
       "161484    1ASI                 0              0           0   \n",
       "195553  1ASIWS                 0              0           0   \n",
       "139092  1ASIWS                 0              0           0   \n",
       "\n",
       "                              TerminalID InternetOffice    cre_date dep_port  \\\n",
       "167636  a2f6efe42c20a759e30deafe68890442            BNJ  2013-06-17      TXL   \n",
       "301236  d41d8cd98f00b204e9800998ecf8427e              0  2013-10-29      LIM   \n",
       "161484  d41d8cd98f00b204e9800998ecf8427e            MAD  2013-06-11      MAD   \n",
       "195553  d41d8cd98f00b204e9800998ecf8427e            ATH  2013-07-15      BRU   \n",
       "139092  d41d8cd98f00b204e9800998ecf8427e            BOG  2013-05-20      BOG   \n",
       "\n",
       "       arr_port Booked  \n",
       "167636      BKK      1  \n",
       "301236      CUZ      1  \n",
       "161484      LPA      1  \n",
       "195553      BKK      1  \n",
       "139092      CTG      1  \n",
       "\n",
       "[5 rows x 49 columns]"
      ]
     },
     "execution_count": 70,
     "metadata": {},
     "output_type": "execute_result"
    }
   ],
   "source": [
    "s_b[ s_b['Booked']==1 ].sample(5)"
   ]
  },
  {
   "cell_type": "code",
   "execution_count": 71,
   "metadata": {},
   "outputs": [
    {
     "data": {
      "text/html": [
       "<div>\n",
       "<style scoped>\n",
       "    .dataframe tbody tr th:only-of-type {\n",
       "        vertical-align: middle;\n",
       "    }\n",
       "\n",
       "    .dataframe tbody tr th {\n",
       "        vertical-align: top;\n",
       "    }\n",
       "\n",
       "    .dataframe thead th {\n",
       "        text-align: right;\n",
       "    }\n",
       "</style>\n",
       "<table border=\"1\" class=\"dataframe\">\n",
       "  <thead>\n",
       "    <tr style=\"text-align: right;\">\n",
       "      <th></th>\n",
       "      <th>Date</th>\n",
       "      <th>Time</th>\n",
       "      <th>TxnCode</th>\n",
       "      <th>OfficeID</th>\n",
       "      <th>Country</th>\n",
       "      <th>Origin</th>\n",
       "      <th>Destination</th>\n",
       "      <th>RoundTrip</th>\n",
       "      <th>NbSegments</th>\n",
       "      <th>Seg1Departure</th>\n",
       "      <th>...</th>\n",
       "      <th>From</th>\n",
       "      <th>IsPublishedForNeg</th>\n",
       "      <th>IsFromInternet</th>\n",
       "      <th>IsFromVista</th>\n",
       "      <th>TerminalID</th>\n",
       "      <th>InternetOffice</th>\n",
       "      <th>act_date</th>\n",
       "      <th>dep_port</th>\n",
       "      <th>arr_port</th>\n",
       "      <th>Booked</th>\n",
       "    </tr>\n",
       "  </thead>\n",
       "  <tbody>\n",
       "    <tr>\n",
       "      <th>310709</th>\n",
       "      <td>2013-11-07</td>\n",
       "      <td>16:47:19</td>\n",
       "      <td>FFP</td>\n",
       "      <td>1b4eb15d0f0f667cbc825602d09fff65</td>\n",
       "      <td>AU</td>\n",
       "      <td>MEL</td>\n",
       "      <td>LHR</td>\n",
       "      <td>1.0</td>\n",
       "      <td>2.0</td>\n",
       "      <td>MEL</td>\n",
       "      <td>...</td>\n",
       "      <td>1ASIWS</td>\n",
       "      <td>0</td>\n",
       "      <td>0</td>\n",
       "      <td>0</td>\n",
       "      <td>d41d8cd98f00b204e9800998ecf8427e</td>\n",
       "      <td>0</td>\n",
       "      <td>2013-11-07</td>\n",
       "      <td>MEL</td>\n",
       "      <td>LHR</td>\n",
       "      <td>1</td>\n",
       "    </tr>\n",
       "    <tr>\n",
       "      <th>169915</th>\n",
       "      <td>2013-06-19</td>\n",
       "      <td>22:50:36</td>\n",
       "      <td>MPT</td>\n",
       "      <td>3561a60621de06ab1badc8ca55699ef3</td>\n",
       "      <td>US</td>\n",
       "      <td>ATL</td>\n",
       "      <td>MIA</td>\n",
       "      <td>1.0</td>\n",
       "      <td>2.0</td>\n",
       "      <td>ATL</td>\n",
       "      <td>...</td>\n",
       "      <td>1ASIWS</td>\n",
       "      <td>0</td>\n",
       "      <td>0</td>\n",
       "      <td>0</td>\n",
       "      <td>d41d8cd98f00b204e9800998ecf8427e</td>\n",
       "      <td>NYC</td>\n",
       "      <td>2013-06-19</td>\n",
       "      <td>ATL</td>\n",
       "      <td>MIA</td>\n",
       "      <td>1</td>\n",
       "    </tr>\n",
       "    <tr>\n",
       "      <th>10334</th>\n",
       "      <td>2013-01-11</td>\n",
       "      <td>10:48:28</td>\n",
       "      <td>MPT</td>\n",
       "      <td>788e52ddaa551032c69ba37cc316233f</td>\n",
       "      <td>FR</td>\n",
       "      <td>FRA</td>\n",
       "      <td>BKK</td>\n",
       "      <td>1.0</td>\n",
       "      <td>2.0</td>\n",
       "      <td>FRA</td>\n",
       "      <td>...</td>\n",
       "      <td>1ASI</td>\n",
       "      <td>0</td>\n",
       "      <td>0</td>\n",
       "      <td>0</td>\n",
       "      <td>d41d8cd98f00b204e9800998ecf8427e</td>\n",
       "      <td>PAR</td>\n",
       "      <td>2013-01-11</td>\n",
       "      <td>FRA</td>\n",
       "      <td>BKK</td>\n",
       "      <td>1</td>\n",
       "    </tr>\n",
       "    <tr>\n",
       "      <th>137768</th>\n",
       "      <td>2013-05-18</td>\n",
       "      <td>02:17:38</td>\n",
       "      <td>MPT</td>\n",
       "      <td>8b4fa4e121637f583bfa86ef0fa26c9e</td>\n",
       "      <td>US</td>\n",
       "      <td>LAS</td>\n",
       "      <td>EWR</td>\n",
       "      <td>1.0</td>\n",
       "      <td>2.0</td>\n",
       "      <td>LAS</td>\n",
       "      <td>...</td>\n",
       "      <td>1ASIWS</td>\n",
       "      <td>0</td>\n",
       "      <td>0</td>\n",
       "      <td>0</td>\n",
       "      <td>d41d8cd98f00b204e9800998ecf8427e</td>\n",
       "      <td>LAS</td>\n",
       "      <td>2013-05-18</td>\n",
       "      <td>LAS</td>\n",
       "      <td>EWR</td>\n",
       "      <td>1</td>\n",
       "    </tr>\n",
       "    <tr>\n",
       "      <th>21346</th>\n",
       "      <td>2013-01-22</td>\n",
       "      <td>13:11:27</td>\n",
       "      <td>MTP</td>\n",
       "      <td>236cbf458f79dbb9d5e9c9430438c3db</td>\n",
       "      <td>US</td>\n",
       "      <td>SFO</td>\n",
       "      <td>PVG</td>\n",
       "      <td>1.0</td>\n",
       "      <td>2.0</td>\n",
       "      <td>SFO</td>\n",
       "      <td>...</td>\n",
       "      <td>1ASIWS</td>\n",
       "      <td>0</td>\n",
       "      <td>0</td>\n",
       "      <td>0</td>\n",
       "      <td>d41d8cd98f00b204e9800998ecf8427e</td>\n",
       "      <td>HPN</td>\n",
       "      <td>2013-01-22</td>\n",
       "      <td>SFO</td>\n",
       "      <td>PVG</td>\n",
       "      <td>1</td>\n",
       "    </tr>\n",
       "  </tbody>\n",
       "</table>\n",
       "<p>5 rows × 49 columns</p>\n",
       "</div>"
      ],
      "text/plain": [
       "              Date      Time TxnCode                          OfficeID  \\\n",
       "310709  2013-11-07  16:47:19     FFP  1b4eb15d0f0f667cbc825602d09fff65   \n",
       "169915  2013-06-19  22:50:36     MPT  3561a60621de06ab1badc8ca55699ef3   \n",
       "10334   2013-01-11  10:48:28     MPT  788e52ddaa551032c69ba37cc316233f   \n",
       "137768  2013-05-18  02:17:38     MPT  8b4fa4e121637f583bfa86ef0fa26c9e   \n",
       "21346   2013-01-22  13:11:27     MTP  236cbf458f79dbb9d5e9c9430438c3db   \n",
       "\n",
       "       Country Origin Destination  RoundTrip  NbSegments Seg1Departure  ...    \\\n",
       "310709      AU    MEL         LHR        1.0         2.0           MEL  ...     \n",
       "169915      US    ATL         MIA        1.0         2.0           ATL  ...     \n",
       "10334       FR    FRA         BKK        1.0         2.0           FRA  ...     \n",
       "137768      US    LAS         EWR        1.0         2.0           LAS  ...     \n",
       "21346       US    SFO         PVG        1.0         2.0           SFO  ...     \n",
       "\n",
       "          From IsPublishedForNeg IsFromInternet IsFromVista  \\\n",
       "310709  1ASIWS                 0              0           0   \n",
       "169915  1ASIWS                 0              0           0   \n",
       "10334     1ASI                 0              0           0   \n",
       "137768  1ASIWS                 0              0           0   \n",
       "21346   1ASIWS                 0              0           0   \n",
       "\n",
       "                              TerminalID InternetOffice    act_date dep_port  \\\n",
       "310709  d41d8cd98f00b204e9800998ecf8427e              0  2013-11-07      MEL   \n",
       "169915  d41d8cd98f00b204e9800998ecf8427e            NYC  2013-06-19      ATL   \n",
       "10334   d41d8cd98f00b204e9800998ecf8427e            PAR  2013-01-11      FRA   \n",
       "137768  d41d8cd98f00b204e9800998ecf8427e            LAS  2013-05-18      LAS   \n",
       "21346   d41d8cd98f00b204e9800998ecf8427e            HPN  2013-01-22      SFO   \n",
       "\n",
       "       arr_port Booked  \n",
       "310709      LHR      1  \n",
       "169915      MIA      1  \n",
       "10334       BKK      1  \n",
       "137768      EWR      1  \n",
       "21346       PVG      1  \n",
       "\n",
       "[5 rows x 49 columns]"
      ]
     },
     "execution_count": 71,
     "metadata": {},
     "output_type": "execute_result"
    }
   ],
   "source": [
    "import pandas as pd\n",
    "b=pd.read_csv('bookings_wn_dup.csv', sep='^', usecols=['act_date           ', 'dep_port', 'arr_port'])\n",
    "s=pd.read_csv('searches_wn_dup.csv', sep='^', low_memory=False)\n",
    "b.drop_duplicates(inplace=True)\n",
    "b.columns=b.columns.str.strip()\n",
    "b.arr_port=b.arr_port.str.strip()\n",
    "b.dep_port=b.dep_port.str.strip()\n",
    "b.act_date=b.act_date.str[0:10]\n",
    "s.Date=s.Date.str[0:10]\n",
    "b['Booked']=1\n",
    "\n",
    "s_b=s.merge(b,\n",
    "            how='left', \n",
    "            left_on=['Date', 'Origin', 'Destination'],\n",
    "            right_on=['act_date', 'dep_port', 'arr_port'])\n",
    "\n",
    "s_b['Booked']=s_b['Booked'].fillna(0)\n",
    "s_b.drop(['act_date', 'dep_port', 'arr_port'], axis=1, inplace=True)\n",
    "s_b=s_b.astype({'Booked':int})\n",
    "s_b[ s_b['Booked']==1 ].sample(5)"
   ]
  },
  {
   "cell_type": "code",
   "execution_count": 72,
   "metadata": {},
   "outputs": [],
   "source": [
    "s_b.to_csv('searches_with_bookings.csv', sep='^', index=False)"
   ]
  },
  {
   "cell_type": "code",
   "execution_count": 73,
   "metadata": {},
   "outputs": [
    {
     "name": "stdout",
     "output_type": "stream",
     "text": [
      "Date^Time^TxnCode^OfficeID^Country^Origin^Destination^RoundTrip^NbSegments^Seg1Departure^Seg1Arrival^Seg1Date^Seg1Carrier^Seg1BookingCode^Seg2Departure^Seg2Arrival^Seg2Date^Seg2Carrier^Seg2BookingCode^Seg3Departure^Seg3Arrival^Seg3Date^Seg3Carrier^Seg3BookingCode^Seg4Departure^Seg4Arrival^Seg4Date^Seg4Carrier^Seg4BookingCode^Seg5Departure^Seg5Arrival^Seg5Date^Seg5Carrier^Seg5BookingCode^Seg6Departure^Seg6Arrival^Seg6Date^Seg6Carrier^Seg6BookingCode^From^IsPublishedForNeg^IsFromInternet^IsFromVista^TerminalID^InternetOffice^act_date^dep_port^arr_port^Booked\r\n",
      "2013-01-01^20:25:57^MPT^624d8c3ac0b3a7ca03e3c167e0f48327^DE^TXL^AUH^1.0^2.0^TXL^AUH^2013-01-26^D2^^AUH^TXL^2013-02-02^D2^^^^^^^^^^^^^^^^^^^^^^1ASIWS^0^0^0^d41d8cd98f00b204e9800998ecf8427e^FRA^^^^0\r\n",
      "2013-01-01^10:15:33^MPT^b0af35b31588dc4ab06d5cf2986e8e02^MD^ATH^MIL^0.0^1.0^ATH^MIL^2013-01-04^^^^^^^^^^^^^^^^^^^^^^^^^^^^1ASIWS^0^0^0^d41d8cd98f00b204e9800998ecf8427e^KIV^^^^0\r\n",
      "2013-01-01^18:04:49^MPT^3561a60621de06ab1badc8ca55699ef3^US^ICT^SFO^1.0^2.0^ICT^SFO^2013-08-02^^^SFO^ICT^2013-08-09^^^^^^^^^^^^^^^^^^^^^^^1ASIWS^0^0^0^d41d8cd98f00b204e9800998ecf8427e^NYC^^^^0\r\n",
      "2013-01-01^17:42:40^FXP^1864e5e8013d9414150e91d26b6a558b^SE^RNB^ARN^0.0^1.0^RNB^ARN^2013-01-02^DU^W^^^^^^^^^^^^^^^^^^^^^^^^^^1ASI^0^0^0^d41d8cd98f00b204e9800998ecf8427e^STO^^^^0\r\n",
      "2013-01-01^17:48:29^MPT^1ec336348f44207d2e0027dc3a68c118^NO^OSL^MAD^1.0^2.0^OSL^MAD^2013-03-22^^^MAD^OSL^2013-03-31^^^^^^^^^^^^^^^^^^^^^^^1ASIWS^0^0^0^d41d8cd98f00b204e9800998ecf8427e^OSL^^^^0\r\n",
      "2013-01-01^22:00:28^MPT^3561a60621de06ab1badc8ca55699ef3^US^IAH^BLR^1.0^2.0^IAH^BLR^2013-02-14^^^BLR^IAH^2013-02-23^^^^^^^^^^^^^^^^^^^^^^^1ASIWS^0^0^0^d41d8cd98f00b204e9800998ecf8427e^NYC^^^^0\r\n",
      "2013-01-01^10:47:14^MPT^d327ca6e35cc6732d4709828327ac7c1^DK^CPH^PAR^1.0^2.0^CPH^PAR^2013-03-02^^^PAR^CPH^2013-03-07^^^^^^^^^^^^^^^^^^^^^^^1ASI^0^0^0^d41d8cd98f00b204e9800998ecf8427e^CPH^^^^0\r\n",
      "2013-01-01^23:39:49^MPT^38a3abb0a28e3f00fa79a11f552a5052^FR^PAR^DUB^1.0^2.0^PAR^DUB^2013-02-12^^^DUB^PAR^2013-02-17^^^^^^^^^^^^^^^^^^^^^^^1ASIWS^0^0^0^d41d8cd98f00b204e9800998ecf8427e^PAR^^^^0\r\n",
      "2013-01-01^17:08:46^MPT^c8daef4f8bf73a61aa2c928705f7b82d^ES^DUS^ACE^1.0^2.0^DUS^ACE^2013-03-30^^^ACE^DUS^2013-04-06^^^^^^^^^^^^^^^^^^^^^^^1ASIWS^0^0^0^d41d8cd98f00b204e9800998ecf8427e^MAD^^^^0\r\n"
     ]
    }
   ],
   "source": [
    "! head ./searches_with_bookings.csv"
   ]
  },
  {
   "cell_type": "code",
   "execution_count": null,
   "metadata": {},
   "outputs": [],
   "source": []
  }
 ],
 "metadata": {
  "kernelspec": {
   "display_name": "Python 3",
   "language": "python",
   "name": "python3"
  },
  "language_info": {
   "codemirror_mode": {
    "name": "ipython",
    "version": 3
   },
   "file_extension": ".py",
   "mimetype": "text/x-python",
   "name": "python",
   "nbconvert_exporter": "python",
   "pygments_lexer": "ipython3",
   "version": "3.6.8"
  }
 },
 "nbformat": 4,
 "nbformat_minor": 1
}
