{
 "cells": [
  {
   "cell_type": "markdown",
   "metadata": {},
   "source": [
    "## Plot the monthly number of searches for flights arriving at Málaga, Madrid or Barcelona\n",
    "\n",
    "For the arriving airport, you can use the Destination column in the searches file. \n",
    "\n",
    "Plot a curve for Málaga, another one for Madrid, and another one for Barcelona, in the same figure.\n"
   ]
  },
  {
   "cell_type": "raw",
   "metadata": {},
   "source": [
    "Get familiar with data\n",
    "Select the columns of interest\n",
    "What to do with NaN?\n",
    "\n",
    "Make action plan\n",
    "Develop the code that works with a sample\n",
    "\n",
    "Adjust the code to work with Big data\n",
    "Test big data approach on a sample\n",
    "\n",
    "Run program with big data"
   ]
  },
  {
   "cell_type": "markdown",
   "metadata": {},
   "source": [
    "## 1) Get familiar with data"
   ]
  },
  {
   "cell_type": "code",
   "execution_count": 13,
   "metadata": {},
   "outputs": [],
   "source": [
    "import pandas as pd\n",
    "pd.set_option('display.max_columns', None)"
   ]
  },
  {
   "cell_type": "code",
   "execution_count": 3,
   "metadata": {},
   "outputs": [
    {
     "name": "stdout",
     "output_type": "stream",
     "text": [
      " 2018-04-27.txt   \u001b[0m\u001b[01;34mDesktop\u001b[0m/             \u001b[01;34mmy_scripts\u001b[0m/         \u001b[01;34mRepos\u001b[0m/\r\n",
      " 2019-05-11.txt   \u001b[01;34mDIRECTORY\u001b[0m/           \u001b[01;34mold\u001b[0m/                \u001b[01;34mTemplates\u001b[0m/\r\n",
      " 20191019.txt     \u001b[01;34mDocuments\u001b[0m/           \u001b[01;34mone\u001b[0m/                uniq_example.txt\r\n",
      " 20191025.txt     \u001b[01;34mDownloads\u001b[0m/           \u001b[01;34mPictures\u001b[0m/          \u001b[01;34m'Untitled Folder'\u001b[0m/\r\n",
      " 2019_11_16.txt   \u001b[01;34mDS_CL_files\u001b[0m/         \u001b[01;34mprivate_scripts\u001b[0m/    \u001b[01;34mVideos\u001b[0m/\r\n",
      " 2019-11-22.txt   example_unique.txt   \u001b[01;34mPublic\u001b[0m/             \u001b[01;34mvm-config-master\u001b[0m/\r\n",
      " 2019.11.23       \u001b[01;34mfirst_dir\u001b[0m/           \u001b[01;34mpython_class\u001b[0m/\r\n",
      " \u001b[01;34manaconda3\u001b[0m/       \u001b[01;34mgit\u001b[0m/                 \u001b[01;34mpython_class_v16\u001b[0m/\r\n",
      " \u001b[01;34mData\u001b[0m/            \u001b[01;34mMusic\u001b[0m/               \u001b[01;34mpython_class_v18\u001b[0m/\r\n"
     ]
    }
   ],
   "source": [
    "ls ../../"
   ]
  },
  {
   "cell_type": "code",
   "execution_count": 4,
   "metadata": {},
   "outputs": [],
   "source": [
    "s=pd.read_csv('./searches.csv.bz2', sep='^', nrows=10000)"
   ]
  },
  {
   "cell_type": "code",
   "execution_count": 5,
   "metadata": {},
   "outputs": [
    {
     "data": {
      "text/plain": [
       "(10000, 45)"
      ]
     },
     "execution_count": 5,
     "metadata": {},
     "output_type": "execute_result"
    }
   ],
   "source": [
    "s.shape"
   ]
  },
  {
   "cell_type": "code",
   "execution_count": 9,
   "metadata": {
    "collapsed": true
   },
   "outputs": [
    {
     "data": {
      "text/plain": [
       "['Date',\n",
       " 'Time',\n",
       " 'TxnCode',\n",
       " 'OfficeID',\n",
       " 'Country',\n",
       " 'Origin',\n",
       " 'Destination',\n",
       " 'RoundTrip',\n",
       " 'NbSegments',\n",
       " 'Seg1Departure',\n",
       " 'Seg1Arrival',\n",
       " 'Seg1Date',\n",
       " 'Seg1Carrier',\n",
       " 'Seg1BookingCode',\n",
       " 'Seg2Departure',\n",
       " 'Seg2Arrival',\n",
       " 'Seg2Date',\n",
       " 'Seg2Carrier',\n",
       " 'Seg2BookingCode',\n",
       " 'Seg3Departure',\n",
       " 'Seg3Arrival',\n",
       " 'Seg3Date',\n",
       " 'Seg3Carrier',\n",
       " 'Seg3BookingCode',\n",
       " 'Seg4Departure',\n",
       " 'Seg4Arrival',\n",
       " 'Seg4Date',\n",
       " 'Seg4Carrier',\n",
       " 'Seg4BookingCode',\n",
       " 'Seg5Departure',\n",
       " 'Seg5Arrival',\n",
       " 'Seg5Date',\n",
       " 'Seg5Carrier',\n",
       " 'Seg5BookingCode',\n",
       " 'Seg6Departure',\n",
       " 'Seg6Arrival',\n",
       " 'Seg6Date',\n",
       " 'Seg6Carrier',\n",
       " 'Seg6BookingCode',\n",
       " 'From',\n",
       " 'IsPublishedForNeg',\n",
       " 'IsFromInternet',\n",
       " 'IsFromVista',\n",
       " 'TerminalID',\n",
       " 'InternetOffice']"
      ]
     },
     "execution_count": 9,
     "metadata": {},
     "output_type": "execute_result"
    }
   ],
   "source": [
    "s.columns.tolist()"
   ]
  },
  {
   "cell_type": "code",
   "execution_count": 11,
   "metadata": {},
   "outputs": [
    {
     "name": "stdout",
     "output_type": "stream",
     "text": [
      "<class 'pandas.core.frame.DataFrame'>\n",
      "RangeIndex: 10000 entries, 0 to 9999\n",
      "Data columns (total 45 columns):\n",
      "Date                 10000 non-null object\n",
      "Time                 10000 non-null object\n",
      "TxnCode              10000 non-null object\n",
      "OfficeID             10000 non-null object\n",
      "Country              10000 non-null object\n",
      "Origin               10000 non-null object\n",
      "Destination          10000 non-null object\n",
      "RoundTrip            10000 non-null int64\n",
      "NbSegments           10000 non-null int64\n",
      "Seg1Departure        10000 non-null object\n",
      "Seg1Arrival          10000 non-null object\n",
      "Seg1Date             9973 non-null object\n",
      "Seg1Carrier          4047 non-null object\n",
      "Seg1BookingCode      1143 non-null object\n",
      "Seg2Departure        7196 non-null object\n",
      "Seg2Arrival          7196 non-null object\n",
      "Seg2Date             7161 non-null object\n",
      "Seg2Carrier          2870 non-null object\n",
      "Seg2BookingCode      998 non-null object\n",
      "Seg3Departure        534 non-null object\n",
      "Seg3Arrival          534 non-null object\n",
      "Seg3Date             531 non-null object\n",
      "Seg3Carrier          517 non-null object\n",
      "Seg3BookingCode      508 non-null object\n",
      "Seg4Departure        440 non-null object\n",
      "Seg4Arrival          440 non-null object\n",
      "Seg4Date             439 non-null object\n",
      "Seg4Carrier          438 non-null object\n",
      "Seg4BookingCode      436 non-null object\n",
      "Seg5Departure        103 non-null object\n",
      "Seg5Arrival          103 non-null object\n",
      "Seg5Date             103 non-null object\n",
      "Seg5Carrier          103 non-null object\n",
      "Seg5BookingCode      103 non-null object\n",
      "Seg6Departure        58 non-null object\n",
      "Seg6Arrival          58 non-null object\n",
      "Seg6Date             58 non-null object\n",
      "Seg6Carrier          58 non-null object\n",
      "Seg6BookingCode      58 non-null object\n",
      "From                 9925 non-null object\n",
      "IsPublishedForNeg    10000 non-null int64\n",
      "IsFromInternet       10000 non-null int64\n",
      "IsFromVista          10000 non-null int64\n",
      "TerminalID           10000 non-null object\n",
      "InternetOffice       10000 non-null object\n",
      "dtypes: int64(5), object(40)\n",
      "memory usage: 3.4+ MB\n"
     ]
    }
   ],
   "source": [
    "s.info()"
   ]
  },
  {
   "cell_type": "code",
   "execution_count": 14,
   "metadata": {},
   "outputs": [
    {
     "data": {
      "text/html": [
       "<div>\n",
       "<style scoped>\n",
       "    .dataframe tbody tr th:only-of-type {\n",
       "        vertical-align: middle;\n",
       "    }\n",
       "\n",
       "    .dataframe tbody tr th {\n",
       "        vertical-align: top;\n",
       "    }\n",
       "\n",
       "    .dataframe thead th {\n",
       "        text-align: right;\n",
       "    }\n",
       "</style>\n",
       "<table border=\"1\" class=\"dataframe\">\n",
       "  <thead>\n",
       "    <tr style=\"text-align: right;\">\n",
       "      <th></th>\n",
       "      <th>Date</th>\n",
       "      <th>Time</th>\n",
       "      <th>TxnCode</th>\n",
       "      <th>OfficeID</th>\n",
       "      <th>Country</th>\n",
       "      <th>Origin</th>\n",
       "      <th>Destination</th>\n",
       "      <th>RoundTrip</th>\n",
       "      <th>NbSegments</th>\n",
       "      <th>Seg1Departure</th>\n",
       "      <th>Seg1Arrival</th>\n",
       "      <th>Seg1Date</th>\n",
       "      <th>Seg1Carrier</th>\n",
       "      <th>Seg1BookingCode</th>\n",
       "      <th>Seg2Departure</th>\n",
       "      <th>Seg2Arrival</th>\n",
       "      <th>Seg2Date</th>\n",
       "      <th>Seg2Carrier</th>\n",
       "      <th>Seg2BookingCode</th>\n",
       "      <th>Seg3Departure</th>\n",
       "      <th>Seg3Arrival</th>\n",
       "      <th>Seg3Date</th>\n",
       "      <th>Seg3Carrier</th>\n",
       "      <th>Seg3BookingCode</th>\n",
       "      <th>Seg4Departure</th>\n",
       "      <th>Seg4Arrival</th>\n",
       "      <th>Seg4Date</th>\n",
       "      <th>Seg4Carrier</th>\n",
       "      <th>Seg4BookingCode</th>\n",
       "      <th>Seg5Departure</th>\n",
       "      <th>Seg5Arrival</th>\n",
       "      <th>Seg5Date</th>\n",
       "      <th>Seg5Carrier</th>\n",
       "      <th>Seg5BookingCode</th>\n",
       "      <th>Seg6Departure</th>\n",
       "      <th>Seg6Arrival</th>\n",
       "      <th>Seg6Date</th>\n",
       "      <th>Seg6Carrier</th>\n",
       "      <th>Seg6BookingCode</th>\n",
       "      <th>From</th>\n",
       "      <th>IsPublishedForNeg</th>\n",
       "      <th>IsFromInternet</th>\n",
       "      <th>IsFromVista</th>\n",
       "      <th>TerminalID</th>\n",
       "      <th>InternetOffice</th>\n",
       "    </tr>\n",
       "  </thead>\n",
       "  <tbody>\n",
       "    <tr>\n",
       "      <th>2991</th>\n",
       "      <td>2013-01-03</td>\n",
       "      <td>19:28:30</td>\n",
       "      <td>FFP</td>\n",
       "      <td>0537bda09139c4d8fad0035eb765a6ce</td>\n",
       "      <td>BR</td>\n",
       "      <td>BSB</td>\n",
       "      <td>FOR</td>\n",
       "      <td>0</td>\n",
       "      <td>1</td>\n",
       "      <td>BSB</td>\n",
       "      <td>FOR</td>\n",
       "      <td>2013-01-14</td>\n",
       "      <td>NaN</td>\n",
       "      <td>NaN</td>\n",
       "      <td>NaN</td>\n",
       "      <td>NaN</td>\n",
       "      <td>NaN</td>\n",
       "      <td>NaN</td>\n",
       "      <td>NaN</td>\n",
       "      <td>NaN</td>\n",
       "      <td>NaN</td>\n",
       "      <td>NaN</td>\n",
       "      <td>NaN</td>\n",
       "      <td>NaN</td>\n",
       "      <td>NaN</td>\n",
       "      <td>NaN</td>\n",
       "      <td>NaN</td>\n",
       "      <td>NaN</td>\n",
       "      <td>NaN</td>\n",
       "      <td>NaN</td>\n",
       "      <td>NaN</td>\n",
       "      <td>NaN</td>\n",
       "      <td>NaN</td>\n",
       "      <td>NaN</td>\n",
       "      <td>NaN</td>\n",
       "      <td>NaN</td>\n",
       "      <td>NaN</td>\n",
       "      <td>NaN</td>\n",
       "      <td>NaN</td>\n",
       "      <td>1ASIWS</td>\n",
       "      <td>0</td>\n",
       "      <td>0</td>\n",
       "      <td>0</td>\n",
       "      <td>d41d8cd98f00b204e9800998ecf8427e</td>\n",
       "      <td>SAO</td>\n",
       "    </tr>\n",
       "    <tr>\n",
       "      <th>7255</th>\n",
       "      <td>2013-01-08</td>\n",
       "      <td>19:53:56</td>\n",
       "      <td>FCP</td>\n",
       "      <td>7d192994f213a3b0421042ba51fbc527</td>\n",
       "      <td>BR</td>\n",
       "      <td>IGU</td>\n",
       "      <td>GRU</td>\n",
       "      <td>0</td>\n",
       "      <td>1</td>\n",
       "      <td>IGU</td>\n",
       "      <td>GRU</td>\n",
       "      <td>2013-01-24</td>\n",
       "      <td>TT</td>\n",
       "      <td>NaN</td>\n",
       "      <td>NaN</td>\n",
       "      <td>NaN</td>\n",
       "      <td>NaN</td>\n",
       "      <td>NaN</td>\n",
       "      <td>NaN</td>\n",
       "      <td>NaN</td>\n",
       "      <td>NaN</td>\n",
       "      <td>NaN</td>\n",
       "      <td>NaN</td>\n",
       "      <td>NaN</td>\n",
       "      <td>NaN</td>\n",
       "      <td>NaN</td>\n",
       "      <td>NaN</td>\n",
       "      <td>NaN</td>\n",
       "      <td>NaN</td>\n",
       "      <td>NaN</td>\n",
       "      <td>NaN</td>\n",
       "      <td>NaN</td>\n",
       "      <td>NaN</td>\n",
       "      <td>NaN</td>\n",
       "      <td>NaN</td>\n",
       "      <td>NaN</td>\n",
       "      <td>NaN</td>\n",
       "      <td>NaN</td>\n",
       "      <td>NaN</td>\n",
       "      <td>1ASIWS</td>\n",
       "      <td>0</td>\n",
       "      <td>0</td>\n",
       "      <td>0</td>\n",
       "      <td>d41d8cd98f00b204e9800998ecf8427e</td>\n",
       "      <td>SAO</td>\n",
       "    </tr>\n",
       "    <tr>\n",
       "      <th>4922</th>\n",
       "      <td>2013-01-05</td>\n",
       "      <td>08:04:37</td>\n",
       "      <td>FCP</td>\n",
       "      <td>3565e31495ecfd46fa018339d20382b1</td>\n",
       "      <td>SA</td>\n",
       "      <td>TUU</td>\n",
       "      <td>JED</td>\n",
       "      <td>0</td>\n",
       "      <td>1</td>\n",
       "      <td>TUU</td>\n",
       "      <td>JED</td>\n",
       "      <td>2013-01-12</td>\n",
       "      <td>KP</td>\n",
       "      <td>NaN</td>\n",
       "      <td>NaN</td>\n",
       "      <td>NaN</td>\n",
       "      <td>NaN</td>\n",
       "      <td>NaN</td>\n",
       "      <td>NaN</td>\n",
       "      <td>NaN</td>\n",
       "      <td>NaN</td>\n",
       "      <td>NaN</td>\n",
       "      <td>NaN</td>\n",
       "      <td>NaN</td>\n",
       "      <td>NaN</td>\n",
       "      <td>NaN</td>\n",
       "      <td>NaN</td>\n",
       "      <td>NaN</td>\n",
       "      <td>NaN</td>\n",
       "      <td>NaN</td>\n",
       "      <td>NaN</td>\n",
       "      <td>NaN</td>\n",
       "      <td>NaN</td>\n",
       "      <td>NaN</td>\n",
       "      <td>NaN</td>\n",
       "      <td>NaN</td>\n",
       "      <td>NaN</td>\n",
       "      <td>NaN</td>\n",
       "      <td>NaN</td>\n",
       "      <td>1ASIWS</td>\n",
       "      <td>0</td>\n",
       "      <td>0</td>\n",
       "      <td>0</td>\n",
       "      <td>d41d8cd98f00b204e9800998ecf8427e</td>\n",
       "      <td>JED</td>\n",
       "    </tr>\n",
       "    <tr>\n",
       "      <th>8487</th>\n",
       "      <td>2013-01-09</td>\n",
       "      <td>06:43:24</td>\n",
       "      <td>MPT</td>\n",
       "      <td>440642a9bdaeb6287f826cefd73255e8</td>\n",
       "      <td>US</td>\n",
       "      <td>LAX</td>\n",
       "      <td>SCL</td>\n",
       "      <td>1</td>\n",
       "      <td>2</td>\n",
       "      <td>LAX</td>\n",
       "      <td>SCL</td>\n",
       "      <td>2013-01-14</td>\n",
       "      <td>VK</td>\n",
       "      <td>NaN</td>\n",
       "      <td>SCL</td>\n",
       "      <td>LAX</td>\n",
       "      <td>2013-01-21</td>\n",
       "      <td>VK</td>\n",
       "      <td>NaN</td>\n",
       "      <td>NaN</td>\n",
       "      <td>NaN</td>\n",
       "      <td>NaN</td>\n",
       "      <td>NaN</td>\n",
       "      <td>NaN</td>\n",
       "      <td>NaN</td>\n",
       "      <td>NaN</td>\n",
       "      <td>NaN</td>\n",
       "      <td>NaN</td>\n",
       "      <td>NaN</td>\n",
       "      <td>NaN</td>\n",
       "      <td>NaN</td>\n",
       "      <td>NaN</td>\n",
       "      <td>NaN</td>\n",
       "      <td>NaN</td>\n",
       "      <td>NaN</td>\n",
       "      <td>NaN</td>\n",
       "      <td>NaN</td>\n",
       "      <td>NaN</td>\n",
       "      <td>NaN</td>\n",
       "      <td>1ASIWS</td>\n",
       "      <td>0</td>\n",
       "      <td>0</td>\n",
       "      <td>0</td>\n",
       "      <td>d41d8cd98f00b204e9800998ecf8427e</td>\n",
       "      <td>HPN</td>\n",
       "    </tr>\n",
       "    <tr>\n",
       "      <th>4692</th>\n",
       "      <td>2013-01-05</td>\n",
       "      <td>20:43:29</td>\n",
       "      <td>FXR</td>\n",
       "      <td>ef86fe6ba888450de247d3bce3a15dae</td>\n",
       "      <td>FR</td>\n",
       "      <td>CDG</td>\n",
       "      <td>EWR</td>\n",
       "      <td>1</td>\n",
       "      <td>4</td>\n",
       "      <td>CDG</td>\n",
       "      <td>ARN</td>\n",
       "      <td>2013-04-28</td>\n",
       "      <td>DU</td>\n",
       "      <td>C</td>\n",
       "      <td>ARN</td>\n",
       "      <td>EWR</td>\n",
       "      <td>2013-04-29</td>\n",
       "      <td>DU</td>\n",
       "      <td>A</td>\n",
       "      <td>EWR</td>\n",
       "      <td>OSL</td>\n",
       "      <td>2013-05-06</td>\n",
       "      <td>DU</td>\n",
       "      <td>A</td>\n",
       "      <td>OSL</td>\n",
       "      <td>CDG</td>\n",
       "      <td>2013-05-07</td>\n",
       "      <td>DU</td>\n",
       "      <td>C</td>\n",
       "      <td>NaN</td>\n",
       "      <td>NaN</td>\n",
       "      <td>NaN</td>\n",
       "      <td>NaN</td>\n",
       "      <td>NaN</td>\n",
       "      <td>NaN</td>\n",
       "      <td>NaN</td>\n",
       "      <td>NaN</td>\n",
       "      <td>NaN</td>\n",
       "      <td>NaN</td>\n",
       "      <td>1ASI</td>\n",
       "      <td>0</td>\n",
       "      <td>0</td>\n",
       "      <td>0</td>\n",
       "      <td>a5d8a0904258d6b9436dff0397f62d73</td>\n",
       "      <td>PAR</td>\n",
       "    </tr>\n",
       "  </tbody>\n",
       "</table>\n",
       "</div>"
      ],
      "text/plain": [
       "            Date      Time TxnCode                          OfficeID Country  \\\n",
       "2991  2013-01-03  19:28:30     FFP  0537bda09139c4d8fad0035eb765a6ce      BR   \n",
       "7255  2013-01-08  19:53:56     FCP  7d192994f213a3b0421042ba51fbc527      BR   \n",
       "4922  2013-01-05  08:04:37     FCP  3565e31495ecfd46fa018339d20382b1      SA   \n",
       "8487  2013-01-09  06:43:24     MPT  440642a9bdaeb6287f826cefd73255e8      US   \n",
       "4692  2013-01-05  20:43:29     FXR  ef86fe6ba888450de247d3bce3a15dae      FR   \n",
       "\n",
       "     Origin Destination  RoundTrip  NbSegments Seg1Departure Seg1Arrival  \\\n",
       "2991    BSB         FOR          0           1           BSB         FOR   \n",
       "7255    IGU         GRU          0           1           IGU         GRU   \n",
       "4922    TUU         JED          0           1           TUU         JED   \n",
       "8487    LAX         SCL          1           2           LAX         SCL   \n",
       "4692    CDG         EWR          1           4           CDG         ARN   \n",
       "\n",
       "        Seg1Date Seg1Carrier Seg1BookingCode Seg2Departure Seg2Arrival  \\\n",
       "2991  2013-01-14         NaN             NaN           NaN         NaN   \n",
       "7255  2013-01-24          TT             NaN           NaN         NaN   \n",
       "4922  2013-01-12          KP             NaN           NaN         NaN   \n",
       "8487  2013-01-14          VK             NaN           SCL         LAX   \n",
       "4692  2013-04-28          DU               C           ARN         EWR   \n",
       "\n",
       "        Seg2Date Seg2Carrier Seg2BookingCode Seg3Departure Seg3Arrival  \\\n",
       "2991         NaN         NaN             NaN           NaN         NaN   \n",
       "7255         NaN         NaN             NaN           NaN         NaN   \n",
       "4922         NaN         NaN             NaN           NaN         NaN   \n",
       "8487  2013-01-21          VK             NaN           NaN         NaN   \n",
       "4692  2013-04-29          DU               A           EWR         OSL   \n",
       "\n",
       "        Seg3Date Seg3Carrier Seg3BookingCode Seg4Departure Seg4Arrival  \\\n",
       "2991         NaN         NaN             NaN           NaN         NaN   \n",
       "7255         NaN         NaN             NaN           NaN         NaN   \n",
       "4922         NaN         NaN             NaN           NaN         NaN   \n",
       "8487         NaN         NaN             NaN           NaN         NaN   \n",
       "4692  2013-05-06          DU               A           OSL         CDG   \n",
       "\n",
       "        Seg4Date Seg4Carrier Seg4BookingCode Seg5Departure Seg5Arrival  \\\n",
       "2991         NaN         NaN             NaN           NaN         NaN   \n",
       "7255         NaN         NaN             NaN           NaN         NaN   \n",
       "4922         NaN         NaN             NaN           NaN         NaN   \n",
       "8487         NaN         NaN             NaN           NaN         NaN   \n",
       "4692  2013-05-07          DU               C           NaN         NaN   \n",
       "\n",
       "     Seg5Date Seg5Carrier Seg5BookingCode Seg6Departure Seg6Arrival Seg6Date  \\\n",
       "2991      NaN         NaN             NaN           NaN         NaN      NaN   \n",
       "7255      NaN         NaN             NaN           NaN         NaN      NaN   \n",
       "4922      NaN         NaN             NaN           NaN         NaN      NaN   \n",
       "8487      NaN         NaN             NaN           NaN         NaN      NaN   \n",
       "4692      NaN         NaN             NaN           NaN         NaN      NaN   \n",
       "\n",
       "     Seg6Carrier Seg6BookingCode    From  IsPublishedForNeg  IsFromInternet  \\\n",
       "2991         NaN             NaN  1ASIWS                  0               0   \n",
       "7255         NaN             NaN  1ASIWS                  0               0   \n",
       "4922         NaN             NaN  1ASIWS                  0               0   \n",
       "8487         NaN             NaN  1ASIWS                  0               0   \n",
       "4692         NaN             NaN    1ASI                  0               0   \n",
       "\n",
       "      IsFromVista                        TerminalID InternetOffice  \n",
       "2991            0  d41d8cd98f00b204e9800998ecf8427e            SAO  \n",
       "7255            0  d41d8cd98f00b204e9800998ecf8427e            SAO  \n",
       "4922            0  d41d8cd98f00b204e9800998ecf8427e            JED  \n",
       "8487            0  d41d8cd98f00b204e9800998ecf8427e            HPN  \n",
       "4692            0  a5d8a0904258d6b9436dff0397f62d73            PAR  "
      ]
     },
     "execution_count": 14,
     "metadata": {},
     "output_type": "execute_result"
    }
   ],
   "source": [
    "s.sample(5)"
   ]
  },
  {
   "cell_type": "code",
   "execution_count": 17,
   "metadata": {},
   "outputs": [
    {
     "data": {
      "text/html": [
       "<div>\n",
       "<style scoped>\n",
       "    .dataframe tbody tr th:only-of-type {\n",
       "        vertical-align: middle;\n",
       "    }\n",
       "\n",
       "    .dataframe tbody tr th {\n",
       "        vertical-align: top;\n",
       "    }\n",
       "\n",
       "    .dataframe thead th {\n",
       "        text-align: right;\n",
       "    }\n",
       "</style>\n",
       "<table border=\"1\" class=\"dataframe\">\n",
       "  <thead>\n",
       "    <tr style=\"text-align: right;\">\n",
       "      <th></th>\n",
       "      <th>Date</th>\n",
       "      <th>Time</th>\n",
       "      <th>TxnCode</th>\n",
       "      <th>OfficeID</th>\n",
       "      <th>Country</th>\n",
       "      <th>Origin</th>\n",
       "      <th>Destination</th>\n",
       "      <th>RoundTrip</th>\n",
       "      <th>NbSegments</th>\n",
       "      <th>Seg1Departure</th>\n",
       "      <th>Seg1Arrival</th>\n",
       "      <th>Seg1Date</th>\n",
       "      <th>Seg1Carrier</th>\n",
       "      <th>Seg1BookingCode</th>\n",
       "      <th>Seg2Departure</th>\n",
       "      <th>Seg2Arrival</th>\n",
       "      <th>Seg2Date</th>\n",
       "      <th>Seg2Carrier</th>\n",
       "      <th>Seg2BookingCode</th>\n",
       "      <th>Seg3Departure</th>\n",
       "      <th>Seg3Arrival</th>\n",
       "      <th>Seg3Date</th>\n",
       "      <th>Seg3Carrier</th>\n",
       "      <th>Seg3BookingCode</th>\n",
       "      <th>Seg4Departure</th>\n",
       "      <th>Seg4Arrival</th>\n",
       "      <th>Seg4Date</th>\n",
       "      <th>Seg4Carrier</th>\n",
       "      <th>Seg4BookingCode</th>\n",
       "      <th>Seg5Departure</th>\n",
       "      <th>Seg5Arrival</th>\n",
       "      <th>Seg5Date</th>\n",
       "      <th>Seg5Carrier</th>\n",
       "      <th>Seg5BookingCode</th>\n",
       "      <th>Seg6Departure</th>\n",
       "      <th>Seg6Arrival</th>\n",
       "      <th>Seg6Date</th>\n",
       "      <th>Seg6Carrier</th>\n",
       "      <th>Seg6BookingCode</th>\n",
       "      <th>From</th>\n",
       "      <th>IsPublishedForNeg</th>\n",
       "      <th>IsFromInternet</th>\n",
       "      <th>IsFromVista</th>\n",
       "      <th>TerminalID</th>\n",
       "      <th>InternetOffice</th>\n",
       "    </tr>\n",
       "  </thead>\n",
       "  <tbody>\n",
       "    <tr>\n",
       "      <th>count</th>\n",
       "      <td>10000</td>\n",
       "      <td>10000</td>\n",
       "      <td>10000</td>\n",
       "      <td>10000</td>\n",
       "      <td>10000</td>\n",
       "      <td>10000</td>\n",
       "      <td>10000</td>\n",
       "      <td>10000.000000</td>\n",
       "      <td>10000.000000</td>\n",
       "      <td>10000</td>\n",
       "      <td>10000</td>\n",
       "      <td>9973</td>\n",
       "      <td>4047</td>\n",
       "      <td>1143</td>\n",
       "      <td>7196</td>\n",
       "      <td>7196</td>\n",
       "      <td>7161</td>\n",
       "      <td>2870</td>\n",
       "      <td>998</td>\n",
       "      <td>534</td>\n",
       "      <td>534</td>\n",
       "      <td>531</td>\n",
       "      <td>517</td>\n",
       "      <td>508</td>\n",
       "      <td>440</td>\n",
       "      <td>440</td>\n",
       "      <td>439</td>\n",
       "      <td>438</td>\n",
       "      <td>436</td>\n",
       "      <td>103</td>\n",
       "      <td>103</td>\n",
       "      <td>103</td>\n",
       "      <td>103</td>\n",
       "      <td>103</td>\n",
       "      <td>58</td>\n",
       "      <td>58</td>\n",
       "      <td>58</td>\n",
       "      <td>58</td>\n",
       "      <td>58</td>\n",
       "      <td>9925</td>\n",
       "      <td>10000.0</td>\n",
       "      <td>10000.0</td>\n",
       "      <td>10000.0</td>\n",
       "      <td>10000</td>\n",
       "      <td>10000</td>\n",
       "    </tr>\n",
       "    <tr>\n",
       "      <th>unique</th>\n",
       "      <td>10</td>\n",
       "      <td>9373</td>\n",
       "      <td>33</td>\n",
       "      <td>1321</td>\n",
       "      <td>104</td>\n",
       "      <td>896</td>\n",
       "      <td>1055</td>\n",
       "      <td>NaN</td>\n",
       "      <td>NaN</td>\n",
       "      <td>896</td>\n",
       "      <td>1046</td>\n",
       "      <td>361</td>\n",
       "      <td>189</td>\n",
       "      <td>27</td>\n",
       "      <td>861</td>\n",
       "      <td>708</td>\n",
       "      <td>361</td>\n",
       "      <td>174</td>\n",
       "      <td>27</td>\n",
       "      <td>225</td>\n",
       "      <td>169</td>\n",
       "      <td>210</td>\n",
       "      <td>89</td>\n",
       "      <td>27</td>\n",
       "      <td>131</td>\n",
       "      <td>160</td>\n",
       "      <td>189</td>\n",
       "      <td>79</td>\n",
       "      <td>26</td>\n",
       "      <td>54</td>\n",
       "      <td>57</td>\n",
       "      <td>82</td>\n",
       "      <td>41</td>\n",
       "      <td>15</td>\n",
       "      <td>35</td>\n",
       "      <td>50</td>\n",
       "      <td>52</td>\n",
       "      <td>30</td>\n",
       "      <td>12</td>\n",
       "      <td>7</td>\n",
       "      <td>NaN</td>\n",
       "      <td>NaN</td>\n",
       "      <td>NaN</td>\n",
       "      <td>864</td>\n",
       "      <td>284</td>\n",
       "    </tr>\n",
       "    <tr>\n",
       "      <th>top</th>\n",
       "      <td>2013-01-01</td>\n",
       "      <td>22:00:28</td>\n",
       "      <td>MPT</td>\n",
       "      <td>440642a9bdaeb6287f826cefd73255e8</td>\n",
       "      <td>US</td>\n",
       "      <td>FRA</td>\n",
       "      <td>BKK</td>\n",
       "      <td>NaN</td>\n",
       "      <td>NaN</td>\n",
       "      <td>FRA</td>\n",
       "      <td>BKK</td>\n",
       "      <td>2013-01-11</td>\n",
       "      <td>7V</td>\n",
       "      <td>J</td>\n",
       "      <td>BKK</td>\n",
       "      <td>FRA</td>\n",
       "      <td>2013-01-27</td>\n",
       "      <td>7V</td>\n",
       "      <td>J</td>\n",
       "      <td>BKK</td>\n",
       "      <td>IST</td>\n",
       "      <td>2013-01-26</td>\n",
       "      <td>VR</td>\n",
       "      <td>J</td>\n",
       "      <td>IST</td>\n",
       "      <td>FRA</td>\n",
       "      <td>2013-02-01</td>\n",
       "      <td>VR</td>\n",
       "      <td>J</td>\n",
       "      <td>FRA</td>\n",
       "      <td>AMS</td>\n",
       "      <td>2013-02-22</td>\n",
       "      <td>VR</td>\n",
       "      <td>J</td>\n",
       "      <td>AMS</td>\n",
       "      <td>TXL</td>\n",
       "      <td>2013-10-18</td>\n",
       "      <td>UV</td>\n",
       "      <td>J</td>\n",
       "      <td>1ASIWS</td>\n",
       "      <td>NaN</td>\n",
       "      <td>NaN</td>\n",
       "      <td>NaN</td>\n",
       "      <td>d41d8cd98f00b204e9800998ecf8427e</td>\n",
       "      <td>HPN</td>\n",
       "    </tr>\n",
       "    <tr>\n",
       "      <th>freq</th>\n",
       "      <td>1000</td>\n",
       "      <td>3</td>\n",
       "      <td>5821</td>\n",
       "      <td>795</td>\n",
       "      <td>2523</td>\n",
       "      <td>384</td>\n",
       "      <td>268</td>\n",
       "      <td>NaN</td>\n",
       "      <td>NaN</td>\n",
       "      <td>384</td>\n",
       "      <td>269</td>\n",
       "      <td>184</td>\n",
       "      <td>382</td>\n",
       "      <td>331</td>\n",
       "      <td>242</td>\n",
       "      <td>292</td>\n",
       "      <td>90</td>\n",
       "      <td>228</td>\n",
       "      <td>290</td>\n",
       "      <td>13</td>\n",
       "      <td>29</td>\n",
       "      <td>10</td>\n",
       "      <td>46</td>\n",
       "      <td>159</td>\n",
       "      <td>28</td>\n",
       "      <td>38</td>\n",
       "      <td>10</td>\n",
       "      <td>41</td>\n",
       "      <td>141</td>\n",
       "      <td>8</td>\n",
       "      <td>8</td>\n",
       "      <td>4</td>\n",
       "      <td>10</td>\n",
       "      <td>38</td>\n",
       "      <td>8</td>\n",
       "      <td>4</td>\n",
       "      <td>2</td>\n",
       "      <td>6</td>\n",
       "      <td>27</td>\n",
       "      <td>6451</td>\n",
       "      <td>NaN</td>\n",
       "      <td>NaN</td>\n",
       "      <td>NaN</td>\n",
       "      <td>9124</td>\n",
       "      <td>1074</td>\n",
       "    </tr>\n",
       "    <tr>\n",
       "      <th>mean</th>\n",
       "      <td>NaN</td>\n",
       "      <td>NaN</td>\n",
       "      <td>NaN</td>\n",
       "      <td>NaN</td>\n",
       "      <td>NaN</td>\n",
       "      <td>NaN</td>\n",
       "      <td>NaN</td>\n",
       "      <td>0.700700</td>\n",
       "      <td>1.833600</td>\n",
       "      <td>NaN</td>\n",
       "      <td>NaN</td>\n",
       "      <td>NaN</td>\n",
       "      <td>NaN</td>\n",
       "      <td>NaN</td>\n",
       "      <td>NaN</td>\n",
       "      <td>NaN</td>\n",
       "      <td>NaN</td>\n",
       "      <td>NaN</td>\n",
       "      <td>NaN</td>\n",
       "      <td>NaN</td>\n",
       "      <td>NaN</td>\n",
       "      <td>NaN</td>\n",
       "      <td>NaN</td>\n",
       "      <td>NaN</td>\n",
       "      <td>NaN</td>\n",
       "      <td>NaN</td>\n",
       "      <td>NaN</td>\n",
       "      <td>NaN</td>\n",
       "      <td>NaN</td>\n",
       "      <td>NaN</td>\n",
       "      <td>NaN</td>\n",
       "      <td>NaN</td>\n",
       "      <td>NaN</td>\n",
       "      <td>NaN</td>\n",
       "      <td>NaN</td>\n",
       "      <td>NaN</td>\n",
       "      <td>NaN</td>\n",
       "      <td>NaN</td>\n",
       "      <td>NaN</td>\n",
       "      <td>NaN</td>\n",
       "      <td>0.0</td>\n",
       "      <td>0.0</td>\n",
       "      <td>0.0</td>\n",
       "      <td>NaN</td>\n",
       "      <td>NaN</td>\n",
       "    </tr>\n",
       "    <tr>\n",
       "      <th>std</th>\n",
       "      <td>NaN</td>\n",
       "      <td>NaN</td>\n",
       "      <td>NaN</td>\n",
       "      <td>NaN</td>\n",
       "      <td>NaN</td>\n",
       "      <td>NaN</td>\n",
       "      <td>NaN</td>\n",
       "      <td>0.457974</td>\n",
       "      <td>0.731823</td>\n",
       "      <td>NaN</td>\n",
       "      <td>NaN</td>\n",
       "      <td>NaN</td>\n",
       "      <td>NaN</td>\n",
       "      <td>NaN</td>\n",
       "      <td>NaN</td>\n",
       "      <td>NaN</td>\n",
       "      <td>NaN</td>\n",
       "      <td>NaN</td>\n",
       "      <td>NaN</td>\n",
       "      <td>NaN</td>\n",
       "      <td>NaN</td>\n",
       "      <td>NaN</td>\n",
       "      <td>NaN</td>\n",
       "      <td>NaN</td>\n",
       "      <td>NaN</td>\n",
       "      <td>NaN</td>\n",
       "      <td>NaN</td>\n",
       "      <td>NaN</td>\n",
       "      <td>NaN</td>\n",
       "      <td>NaN</td>\n",
       "      <td>NaN</td>\n",
       "      <td>NaN</td>\n",
       "      <td>NaN</td>\n",
       "      <td>NaN</td>\n",
       "      <td>NaN</td>\n",
       "      <td>NaN</td>\n",
       "      <td>NaN</td>\n",
       "      <td>NaN</td>\n",
       "      <td>NaN</td>\n",
       "      <td>NaN</td>\n",
       "      <td>0.0</td>\n",
       "      <td>0.0</td>\n",
       "      <td>0.0</td>\n",
       "      <td>NaN</td>\n",
       "      <td>NaN</td>\n",
       "    </tr>\n",
       "    <tr>\n",
       "      <th>min</th>\n",
       "      <td>NaN</td>\n",
       "      <td>NaN</td>\n",
       "      <td>NaN</td>\n",
       "      <td>NaN</td>\n",
       "      <td>NaN</td>\n",
       "      <td>NaN</td>\n",
       "      <td>NaN</td>\n",
       "      <td>0.000000</td>\n",
       "      <td>1.000000</td>\n",
       "      <td>NaN</td>\n",
       "      <td>NaN</td>\n",
       "      <td>NaN</td>\n",
       "      <td>NaN</td>\n",
       "      <td>NaN</td>\n",
       "      <td>NaN</td>\n",
       "      <td>NaN</td>\n",
       "      <td>NaN</td>\n",
       "      <td>NaN</td>\n",
       "      <td>NaN</td>\n",
       "      <td>NaN</td>\n",
       "      <td>NaN</td>\n",
       "      <td>NaN</td>\n",
       "      <td>NaN</td>\n",
       "      <td>NaN</td>\n",
       "      <td>NaN</td>\n",
       "      <td>NaN</td>\n",
       "      <td>NaN</td>\n",
       "      <td>NaN</td>\n",
       "      <td>NaN</td>\n",
       "      <td>NaN</td>\n",
       "      <td>NaN</td>\n",
       "      <td>NaN</td>\n",
       "      <td>NaN</td>\n",
       "      <td>NaN</td>\n",
       "      <td>NaN</td>\n",
       "      <td>NaN</td>\n",
       "      <td>NaN</td>\n",
       "      <td>NaN</td>\n",
       "      <td>NaN</td>\n",
       "      <td>NaN</td>\n",
       "      <td>0.0</td>\n",
       "      <td>0.0</td>\n",
       "      <td>0.0</td>\n",
       "      <td>NaN</td>\n",
       "      <td>NaN</td>\n",
       "    </tr>\n",
       "    <tr>\n",
       "      <th>25%</th>\n",
       "      <td>NaN</td>\n",
       "      <td>NaN</td>\n",
       "      <td>NaN</td>\n",
       "      <td>NaN</td>\n",
       "      <td>NaN</td>\n",
       "      <td>NaN</td>\n",
       "      <td>NaN</td>\n",
       "      <td>0.000000</td>\n",
       "      <td>1.000000</td>\n",
       "      <td>NaN</td>\n",
       "      <td>NaN</td>\n",
       "      <td>NaN</td>\n",
       "      <td>NaN</td>\n",
       "      <td>NaN</td>\n",
       "      <td>NaN</td>\n",
       "      <td>NaN</td>\n",
       "      <td>NaN</td>\n",
       "      <td>NaN</td>\n",
       "      <td>NaN</td>\n",
       "      <td>NaN</td>\n",
       "      <td>NaN</td>\n",
       "      <td>NaN</td>\n",
       "      <td>NaN</td>\n",
       "      <td>NaN</td>\n",
       "      <td>NaN</td>\n",
       "      <td>NaN</td>\n",
       "      <td>NaN</td>\n",
       "      <td>NaN</td>\n",
       "      <td>NaN</td>\n",
       "      <td>NaN</td>\n",
       "      <td>NaN</td>\n",
       "      <td>NaN</td>\n",
       "      <td>NaN</td>\n",
       "      <td>NaN</td>\n",
       "      <td>NaN</td>\n",
       "      <td>NaN</td>\n",
       "      <td>NaN</td>\n",
       "      <td>NaN</td>\n",
       "      <td>NaN</td>\n",
       "      <td>NaN</td>\n",
       "      <td>0.0</td>\n",
       "      <td>0.0</td>\n",
       "      <td>0.0</td>\n",
       "      <td>NaN</td>\n",
       "      <td>NaN</td>\n",
       "    </tr>\n",
       "    <tr>\n",
       "      <th>50%</th>\n",
       "      <td>NaN</td>\n",
       "      <td>NaN</td>\n",
       "      <td>NaN</td>\n",
       "      <td>NaN</td>\n",
       "      <td>NaN</td>\n",
       "      <td>NaN</td>\n",
       "      <td>NaN</td>\n",
       "      <td>1.000000</td>\n",
       "      <td>2.000000</td>\n",
       "      <td>NaN</td>\n",
       "      <td>NaN</td>\n",
       "      <td>NaN</td>\n",
       "      <td>NaN</td>\n",
       "      <td>NaN</td>\n",
       "      <td>NaN</td>\n",
       "      <td>NaN</td>\n",
       "      <td>NaN</td>\n",
       "      <td>NaN</td>\n",
       "      <td>NaN</td>\n",
       "      <td>NaN</td>\n",
       "      <td>NaN</td>\n",
       "      <td>NaN</td>\n",
       "      <td>NaN</td>\n",
       "      <td>NaN</td>\n",
       "      <td>NaN</td>\n",
       "      <td>NaN</td>\n",
       "      <td>NaN</td>\n",
       "      <td>NaN</td>\n",
       "      <td>NaN</td>\n",
       "      <td>NaN</td>\n",
       "      <td>NaN</td>\n",
       "      <td>NaN</td>\n",
       "      <td>NaN</td>\n",
       "      <td>NaN</td>\n",
       "      <td>NaN</td>\n",
       "      <td>NaN</td>\n",
       "      <td>NaN</td>\n",
       "      <td>NaN</td>\n",
       "      <td>NaN</td>\n",
       "      <td>NaN</td>\n",
       "      <td>0.0</td>\n",
       "      <td>0.0</td>\n",
       "      <td>0.0</td>\n",
       "      <td>NaN</td>\n",
       "      <td>NaN</td>\n",
       "    </tr>\n",
       "    <tr>\n",
       "      <th>75%</th>\n",
       "      <td>NaN</td>\n",
       "      <td>NaN</td>\n",
       "      <td>NaN</td>\n",
       "      <td>NaN</td>\n",
       "      <td>NaN</td>\n",
       "      <td>NaN</td>\n",
       "      <td>NaN</td>\n",
       "      <td>1.000000</td>\n",
       "      <td>2.000000</td>\n",
       "      <td>NaN</td>\n",
       "      <td>NaN</td>\n",
       "      <td>NaN</td>\n",
       "      <td>NaN</td>\n",
       "      <td>NaN</td>\n",
       "      <td>NaN</td>\n",
       "      <td>NaN</td>\n",
       "      <td>NaN</td>\n",
       "      <td>NaN</td>\n",
       "      <td>NaN</td>\n",
       "      <td>NaN</td>\n",
       "      <td>NaN</td>\n",
       "      <td>NaN</td>\n",
       "      <td>NaN</td>\n",
       "      <td>NaN</td>\n",
       "      <td>NaN</td>\n",
       "      <td>NaN</td>\n",
       "      <td>NaN</td>\n",
       "      <td>NaN</td>\n",
       "      <td>NaN</td>\n",
       "      <td>NaN</td>\n",
       "      <td>NaN</td>\n",
       "      <td>NaN</td>\n",
       "      <td>NaN</td>\n",
       "      <td>NaN</td>\n",
       "      <td>NaN</td>\n",
       "      <td>NaN</td>\n",
       "      <td>NaN</td>\n",
       "      <td>NaN</td>\n",
       "      <td>NaN</td>\n",
       "      <td>NaN</td>\n",
       "      <td>0.0</td>\n",
       "      <td>0.0</td>\n",
       "      <td>0.0</td>\n",
       "      <td>NaN</td>\n",
       "      <td>NaN</td>\n",
       "    </tr>\n",
       "    <tr>\n",
       "      <th>max</th>\n",
       "      <td>NaN</td>\n",
       "      <td>NaN</td>\n",
       "      <td>NaN</td>\n",
       "      <td>NaN</td>\n",
       "      <td>NaN</td>\n",
       "      <td>NaN</td>\n",
       "      <td>NaN</td>\n",
       "      <td>1.000000</td>\n",
       "      <td>9.000000</td>\n",
       "      <td>NaN</td>\n",
       "      <td>NaN</td>\n",
       "      <td>NaN</td>\n",
       "      <td>NaN</td>\n",
       "      <td>NaN</td>\n",
       "      <td>NaN</td>\n",
       "      <td>NaN</td>\n",
       "      <td>NaN</td>\n",
       "      <td>NaN</td>\n",
       "      <td>NaN</td>\n",
       "      <td>NaN</td>\n",
       "      <td>NaN</td>\n",
       "      <td>NaN</td>\n",
       "      <td>NaN</td>\n",
       "      <td>NaN</td>\n",
       "      <td>NaN</td>\n",
       "      <td>NaN</td>\n",
       "      <td>NaN</td>\n",
       "      <td>NaN</td>\n",
       "      <td>NaN</td>\n",
       "      <td>NaN</td>\n",
       "      <td>NaN</td>\n",
       "      <td>NaN</td>\n",
       "      <td>NaN</td>\n",
       "      <td>NaN</td>\n",
       "      <td>NaN</td>\n",
       "      <td>NaN</td>\n",
       "      <td>NaN</td>\n",
       "      <td>NaN</td>\n",
       "      <td>NaN</td>\n",
       "      <td>NaN</td>\n",
       "      <td>0.0</td>\n",
       "      <td>0.0</td>\n",
       "      <td>0.0</td>\n",
       "      <td>NaN</td>\n",
       "      <td>NaN</td>\n",
       "    </tr>\n",
       "  </tbody>\n",
       "</table>\n",
       "</div>"
      ],
      "text/plain": [
       "              Date      Time TxnCode                          OfficeID  \\\n",
       "count        10000     10000   10000                             10000   \n",
       "unique          10      9373      33                              1321   \n",
       "top     2013-01-01  22:00:28     MPT  440642a9bdaeb6287f826cefd73255e8   \n",
       "freq          1000         3    5821                               795   \n",
       "mean           NaN       NaN     NaN                               NaN   \n",
       "std            NaN       NaN     NaN                               NaN   \n",
       "min            NaN       NaN     NaN                               NaN   \n",
       "25%            NaN       NaN     NaN                               NaN   \n",
       "50%            NaN       NaN     NaN                               NaN   \n",
       "75%            NaN       NaN     NaN                               NaN   \n",
       "max            NaN       NaN     NaN                               NaN   \n",
       "\n",
       "       Country Origin Destination     RoundTrip    NbSegments Seg1Departure  \\\n",
       "count    10000  10000       10000  10000.000000  10000.000000         10000   \n",
       "unique     104    896        1055           NaN           NaN           896   \n",
       "top         US    FRA         BKK           NaN           NaN           FRA   \n",
       "freq      2523    384         268           NaN           NaN           384   \n",
       "mean       NaN    NaN         NaN      0.700700      1.833600           NaN   \n",
       "std        NaN    NaN         NaN      0.457974      0.731823           NaN   \n",
       "min        NaN    NaN         NaN      0.000000      1.000000           NaN   \n",
       "25%        NaN    NaN         NaN      0.000000      1.000000           NaN   \n",
       "50%        NaN    NaN         NaN      1.000000      2.000000           NaN   \n",
       "75%        NaN    NaN         NaN      1.000000      2.000000           NaN   \n",
       "max        NaN    NaN         NaN      1.000000      9.000000           NaN   \n",
       "\n",
       "       Seg1Arrival    Seg1Date Seg1Carrier Seg1BookingCode Seg2Departure  \\\n",
       "count        10000        9973        4047            1143          7196   \n",
       "unique        1046         361         189              27           861   \n",
       "top            BKK  2013-01-11          7V               J           BKK   \n",
       "freq           269         184         382             331           242   \n",
       "mean           NaN         NaN         NaN             NaN           NaN   \n",
       "std            NaN         NaN         NaN             NaN           NaN   \n",
       "min            NaN         NaN         NaN             NaN           NaN   \n",
       "25%            NaN         NaN         NaN             NaN           NaN   \n",
       "50%            NaN         NaN         NaN             NaN           NaN   \n",
       "75%            NaN         NaN         NaN             NaN           NaN   \n",
       "max            NaN         NaN         NaN             NaN           NaN   \n",
       "\n",
       "       Seg2Arrival    Seg2Date Seg2Carrier Seg2BookingCode Seg3Departure  \\\n",
       "count         7196        7161        2870             998           534   \n",
       "unique         708         361         174              27           225   \n",
       "top            FRA  2013-01-27          7V               J           BKK   \n",
       "freq           292          90         228             290            13   \n",
       "mean           NaN         NaN         NaN             NaN           NaN   \n",
       "std            NaN         NaN         NaN             NaN           NaN   \n",
       "min            NaN         NaN         NaN             NaN           NaN   \n",
       "25%            NaN         NaN         NaN             NaN           NaN   \n",
       "50%            NaN         NaN         NaN             NaN           NaN   \n",
       "75%            NaN         NaN         NaN             NaN           NaN   \n",
       "max            NaN         NaN         NaN             NaN           NaN   \n",
       "\n",
       "       Seg3Arrival    Seg3Date Seg3Carrier Seg3BookingCode Seg4Departure  \\\n",
       "count          534         531         517             508           440   \n",
       "unique         169         210          89              27           131   \n",
       "top            IST  2013-01-26          VR               J           IST   \n",
       "freq            29          10          46             159            28   \n",
       "mean           NaN         NaN         NaN             NaN           NaN   \n",
       "std            NaN         NaN         NaN             NaN           NaN   \n",
       "min            NaN         NaN         NaN             NaN           NaN   \n",
       "25%            NaN         NaN         NaN             NaN           NaN   \n",
       "50%            NaN         NaN         NaN             NaN           NaN   \n",
       "75%            NaN         NaN         NaN             NaN           NaN   \n",
       "max            NaN         NaN         NaN             NaN           NaN   \n",
       "\n",
       "       Seg4Arrival    Seg4Date Seg4Carrier Seg4BookingCode Seg5Departure  \\\n",
       "count          440         439         438             436           103   \n",
       "unique         160         189          79              26            54   \n",
       "top            FRA  2013-02-01          VR               J           FRA   \n",
       "freq            38          10          41             141             8   \n",
       "mean           NaN         NaN         NaN             NaN           NaN   \n",
       "std            NaN         NaN         NaN             NaN           NaN   \n",
       "min            NaN         NaN         NaN             NaN           NaN   \n",
       "25%            NaN         NaN         NaN             NaN           NaN   \n",
       "50%            NaN         NaN         NaN             NaN           NaN   \n",
       "75%            NaN         NaN         NaN             NaN           NaN   \n",
       "max            NaN         NaN         NaN             NaN           NaN   \n",
       "\n",
       "       Seg5Arrival    Seg5Date Seg5Carrier Seg5BookingCode Seg6Departure  \\\n",
       "count          103         103         103             103            58   \n",
       "unique          57          82          41              15            35   \n",
       "top            AMS  2013-02-22          VR               J           AMS   \n",
       "freq             8           4          10              38             8   \n",
       "mean           NaN         NaN         NaN             NaN           NaN   \n",
       "std            NaN         NaN         NaN             NaN           NaN   \n",
       "min            NaN         NaN         NaN             NaN           NaN   \n",
       "25%            NaN         NaN         NaN             NaN           NaN   \n",
       "50%            NaN         NaN         NaN             NaN           NaN   \n",
       "75%            NaN         NaN         NaN             NaN           NaN   \n",
       "max            NaN         NaN         NaN             NaN           NaN   \n",
       "\n",
       "       Seg6Arrival    Seg6Date Seg6Carrier Seg6BookingCode    From  \\\n",
       "count           58          58          58              58    9925   \n",
       "unique          50          52          30              12       7   \n",
       "top            TXL  2013-10-18          UV               J  1ASIWS   \n",
       "freq             4           2           6              27    6451   \n",
       "mean           NaN         NaN         NaN             NaN     NaN   \n",
       "std            NaN         NaN         NaN             NaN     NaN   \n",
       "min            NaN         NaN         NaN             NaN     NaN   \n",
       "25%            NaN         NaN         NaN             NaN     NaN   \n",
       "50%            NaN         NaN         NaN             NaN     NaN   \n",
       "75%            NaN         NaN         NaN             NaN     NaN   \n",
       "max            NaN         NaN         NaN             NaN     NaN   \n",
       "\n",
       "        IsPublishedForNeg  IsFromInternet  IsFromVista  \\\n",
       "count             10000.0         10000.0      10000.0   \n",
       "unique                NaN             NaN          NaN   \n",
       "top                   NaN             NaN          NaN   \n",
       "freq                  NaN             NaN          NaN   \n",
       "mean                  0.0             0.0          0.0   \n",
       "std                   0.0             0.0          0.0   \n",
       "min                   0.0             0.0          0.0   \n",
       "25%                   0.0             0.0          0.0   \n",
       "50%                   0.0             0.0          0.0   \n",
       "75%                   0.0             0.0          0.0   \n",
       "max                   0.0             0.0          0.0   \n",
       "\n",
       "                              TerminalID InternetOffice  \n",
       "count                              10000          10000  \n",
       "unique                               864            284  \n",
       "top     d41d8cd98f00b204e9800998ecf8427e            HPN  \n",
       "freq                                9124           1074  \n",
       "mean                                 NaN            NaN  \n",
       "std                                  NaN            NaN  \n",
       "min                                  NaN            NaN  \n",
       "25%                                  NaN            NaN  \n",
       "50%                                  NaN            NaN  \n",
       "75%                                  NaN            NaN  \n",
       "max                                  NaN            NaN  "
      ]
     },
     "execution_count": 17,
     "metadata": {},
     "output_type": "execute_result"
    }
   ],
   "source": [
    "s.describe(include='all')"
   ]
  },
  {
   "cell_type": "code",
   "execution_count": null,
   "metadata": {},
   "outputs": [],
   "source": []
  },
  {
   "cell_type": "markdown",
   "metadata": {},
   "source": [
    "## 2) Select the columns of interest"
   ]
  },
  {
   "cell_type": "code",
   "execution_count": null,
   "metadata": {
    "collapsed": true
   },
   "outputs": [],
   "source": [
    "Destination, Date"
   ]
  },
  {
   "cell_type": "code",
   "execution_count": 18,
   "metadata": {},
   "outputs": [],
   "source": [
    "import pandas as pd\n",
    "pd.set_option('display.max_columns', None)\n",
    "s=pd.read_csv('./searches.csv.bz2', sep='^', usecols=['Date','Destination'],nrows=10000)"
   ]
  },
  {
   "cell_type": "code",
   "execution_count": 19,
   "metadata": {},
   "outputs": [
    {
     "data": {
      "text/html": [
       "<div>\n",
       "<style scoped>\n",
       "    .dataframe tbody tr th:only-of-type {\n",
       "        vertical-align: middle;\n",
       "    }\n",
       "\n",
       "    .dataframe tbody tr th {\n",
       "        vertical-align: top;\n",
       "    }\n",
       "\n",
       "    .dataframe thead th {\n",
       "        text-align: right;\n",
       "    }\n",
       "</style>\n",
       "<table border=\"1\" class=\"dataframe\">\n",
       "  <thead>\n",
       "    <tr style=\"text-align: right;\">\n",
       "      <th></th>\n",
       "      <th>Date</th>\n",
       "      <th>Destination</th>\n",
       "    </tr>\n",
       "  </thead>\n",
       "  <tbody>\n",
       "    <tr>\n",
       "      <th>0</th>\n",
       "      <td>2013-01-01</td>\n",
       "      <td>AUH</td>\n",
       "    </tr>\n",
       "    <tr>\n",
       "      <th>1</th>\n",
       "      <td>2013-01-01</td>\n",
       "      <td>MIL</td>\n",
       "    </tr>\n",
       "    <tr>\n",
       "      <th>2</th>\n",
       "      <td>2013-01-01</td>\n",
       "      <td>SFO</td>\n",
       "    </tr>\n",
       "    <tr>\n",
       "      <th>3</th>\n",
       "      <td>2013-01-01</td>\n",
       "      <td>ARN</td>\n",
       "    </tr>\n",
       "    <tr>\n",
       "      <th>4</th>\n",
       "      <td>2013-01-01</td>\n",
       "      <td>MAD</td>\n",
       "    </tr>\n",
       "  </tbody>\n",
       "</table>\n",
       "</div>"
      ],
      "text/plain": [
       "         Date Destination\n",
       "0  2013-01-01         AUH\n",
       "1  2013-01-01         MIL\n",
       "2  2013-01-01         SFO\n",
       "3  2013-01-01         ARN\n",
       "4  2013-01-01         MAD"
      ]
     },
     "execution_count": 19,
     "metadata": {},
     "output_type": "execute_result"
    }
   ],
   "source": [
    "s.head()"
   ]
  },
  {
   "cell_type": "markdown",
   "metadata": {},
   "source": [
    "## 3) What to do with NaN"
   ]
  },
  {
   "cell_type": "code",
   "execution_count": 20,
   "metadata": {},
   "outputs": [],
   "source": [
    "s=s.dropna()"
   ]
  },
  {
   "cell_type": "code",
   "execution_count": 22,
   "metadata": {},
   "outputs": [
    {
     "name": "stdout",
     "output_type": "stream",
     "text": [
      "<class 'pandas.core.frame.DataFrame'>\n",
      "Int64Index: 10000 entries, 0 to 9999\n",
      "Data columns (total 2 columns):\n",
      "Date           10000 non-null object\n",
      "Destination    10000 non-null object\n",
      "dtypes: object(2)\n",
      "memory usage: 234.4+ KB\n"
     ]
    }
   ],
   "source": [
    "s.info()"
   ]
  },
  {
   "cell_type": "markdown",
   "metadata": {},
   "source": [
    "## 4) Make action plan\n"
   ]
  },
  {
   "cell_type": "code",
   "execution_count": null,
   "metadata": {
    "collapsed": true
   },
   "outputs": [],
   "source": [
    "1) filtrar BCN, MAD, AGP\n",
    "2) convertir dates to  month (as text)\n",
    "3) group by airport, date\n",
    "4) count \n",
    "5) plot"
   ]
  },
  {
   "cell_type": "code",
   "execution_count": null,
   "metadata": {
    "collapsed": true
   },
   "outputs": [],
   "source": []
  },
  {
   "cell_type": "code",
   "execution_count": 51,
   "metadata": {},
   "outputs": [],
   "source": [
    "import pandas as pd\n",
    "pd.set_option('display.max_columns', None)\n",
    "s=pd.read_csv('./searches.csv.bz2', sep='^', usecols=['Date','Destination'],nrows=10000)\n",
    "s=s.dropna()"
   ]
  },
  {
   "cell_type": "markdown",
   "metadata": {},
   "source": [
    "### 4.1) filter out the the searches for MAD, BCN, AGP\n",
    "take only the rows having MAD, BCN or AGP as destination"
   ]
  },
  {
   "cell_type": "code",
   "execution_count": 43,
   "metadata": {},
   "outputs": [],
   "source": [
    "s=s[ (s['Destination']=='MAD')|(s['Destination']=='BCN')|(s['Destination']=='AGP')]"
   ]
  },
  {
   "cell_type": "code",
   "execution_count": 52,
   "metadata": {},
   "outputs": [],
   "source": [
    "s=s[  s['Destination'].isin(['MAD', 'BCN', 'AGP'])   ]"
   ]
  },
  {
   "cell_type": "code",
   "execution_count": 53,
   "metadata": {},
   "outputs": [
    {
     "data": {
      "text/html": [
       "<div>\n",
       "<style scoped>\n",
       "    .dataframe tbody tr th:only-of-type {\n",
       "        vertical-align: middle;\n",
       "    }\n",
       "\n",
       "    .dataframe tbody tr th {\n",
       "        vertical-align: top;\n",
       "    }\n",
       "\n",
       "    .dataframe thead th {\n",
       "        text-align: right;\n",
       "    }\n",
       "</style>\n",
       "<table border=\"1\" class=\"dataframe\">\n",
       "  <thead>\n",
       "    <tr style=\"text-align: right;\">\n",
       "      <th></th>\n",
       "      <th>Date</th>\n",
       "      <th>Destination</th>\n",
       "    </tr>\n",
       "  </thead>\n",
       "  <tbody>\n",
       "    <tr>\n",
       "      <th>4</th>\n",
       "      <td>2013-01-01</td>\n",
       "      <td>MAD</td>\n",
       "    </tr>\n",
       "    <tr>\n",
       "      <th>93</th>\n",
       "      <td>2013-01-01</td>\n",
       "      <td>AGP</td>\n",
       "    </tr>\n",
       "    <tr>\n",
       "      <th>113</th>\n",
       "      <td>2013-01-01</td>\n",
       "      <td>BCN</td>\n",
       "    </tr>\n",
       "    <tr>\n",
       "      <th>147</th>\n",
       "      <td>2013-01-01</td>\n",
       "      <td>AGP</td>\n",
       "    </tr>\n",
       "    <tr>\n",
       "      <th>151</th>\n",
       "      <td>2013-01-01</td>\n",
       "      <td>MAD</td>\n",
       "    </tr>\n",
       "  </tbody>\n",
       "</table>\n",
       "</div>"
      ],
      "text/plain": [
       "           Date Destination\n",
       "4    2013-01-01         MAD\n",
       "93   2013-01-01         AGP\n",
       "113  2013-01-01         BCN\n",
       "147  2013-01-01         AGP\n",
       "151  2013-01-01         MAD"
      ]
     },
     "execution_count": 53,
     "metadata": {},
     "output_type": "execute_result"
    }
   ],
   "source": [
    "s.head()"
   ]
  },
  {
   "cell_type": "code",
   "execution_count": 54,
   "metadata": {},
   "outputs": [],
   "source": [
    "s['Year-month']=s['Date'].str[0:7]"
   ]
  },
  {
   "cell_type": "code",
   "execution_count": 55,
   "metadata": {},
   "outputs": [
    {
     "data": {
      "text/html": [
       "<div>\n",
       "<style scoped>\n",
       "    .dataframe tbody tr th:only-of-type {\n",
       "        vertical-align: middle;\n",
       "    }\n",
       "\n",
       "    .dataframe tbody tr th {\n",
       "        vertical-align: top;\n",
       "    }\n",
       "\n",
       "    .dataframe thead th {\n",
       "        text-align: right;\n",
       "    }\n",
       "</style>\n",
       "<table border=\"1\" class=\"dataframe\">\n",
       "  <thead>\n",
       "    <tr style=\"text-align: right;\">\n",
       "      <th></th>\n",
       "      <th>Date</th>\n",
       "      <th>Destination</th>\n",
       "      <th>Year-month</th>\n",
       "    </tr>\n",
       "  </thead>\n",
       "  <tbody>\n",
       "    <tr>\n",
       "      <th>4</th>\n",
       "      <td>2013-01-01</td>\n",
       "      <td>MAD</td>\n",
       "      <td>2013-01</td>\n",
       "    </tr>\n",
       "    <tr>\n",
       "      <th>93</th>\n",
       "      <td>2013-01-01</td>\n",
       "      <td>AGP</td>\n",
       "      <td>2013-01</td>\n",
       "    </tr>\n",
       "    <tr>\n",
       "      <th>113</th>\n",
       "      <td>2013-01-01</td>\n",
       "      <td>BCN</td>\n",
       "      <td>2013-01</td>\n",
       "    </tr>\n",
       "    <tr>\n",
       "      <th>147</th>\n",
       "      <td>2013-01-01</td>\n",
       "      <td>AGP</td>\n",
       "      <td>2013-01</td>\n",
       "    </tr>\n",
       "    <tr>\n",
       "      <th>151</th>\n",
       "      <td>2013-01-01</td>\n",
       "      <td>MAD</td>\n",
       "      <td>2013-01</td>\n",
       "    </tr>\n",
       "  </tbody>\n",
       "</table>\n",
       "</div>"
      ],
      "text/plain": [
       "           Date Destination Year-month\n",
       "4    2013-01-01         MAD    2013-01\n",
       "93   2013-01-01         AGP    2013-01\n",
       "113  2013-01-01         BCN    2013-01\n",
       "147  2013-01-01         AGP    2013-01\n",
       "151  2013-01-01         MAD    2013-01"
      ]
     },
     "execution_count": 55,
     "metadata": {},
     "output_type": "execute_result"
    }
   ],
   "source": [
    "s.head()"
   ]
  },
  {
   "cell_type": "code",
   "execution_count": 57,
   "metadata": {},
   "outputs": [],
   "source": [
    "#groupby of 2 columns on two columns\n",
    "import pandas as pd\n",
    "pd.set_option('display.max_columns', None)\n",
    "s=pd.read_csv('./searches.csv.bz2', sep='^', usecols=['Date','Destination'],nrows=10000)\n",
    "s=s.dropna()\n",
    "s=s[  s['Destination'].isin(['MAD', 'BCN', 'AGP'])   ]\n",
    "s['Date']=s['Date'].str[0:7]"
   ]
  },
  {
   "cell_type": "code",
   "execution_count": 58,
   "metadata": {},
   "outputs": [
    {
     "data": {
      "text/html": [
       "<div>\n",
       "<style scoped>\n",
       "    .dataframe tbody tr th:only-of-type {\n",
       "        vertical-align: middle;\n",
       "    }\n",
       "\n",
       "    .dataframe tbody tr th {\n",
       "        vertical-align: top;\n",
       "    }\n",
       "\n",
       "    .dataframe thead th {\n",
       "        text-align: right;\n",
       "    }\n",
       "</style>\n",
       "<table border=\"1\" class=\"dataframe\">\n",
       "  <thead>\n",
       "    <tr style=\"text-align: right;\">\n",
       "      <th></th>\n",
       "      <th>Date</th>\n",
       "      <th>Destination</th>\n",
       "    </tr>\n",
       "  </thead>\n",
       "  <tbody>\n",
       "    <tr>\n",
       "      <th>4</th>\n",
       "      <td>2013-01</td>\n",
       "      <td>MAD</td>\n",
       "    </tr>\n",
       "    <tr>\n",
       "      <th>93</th>\n",
       "      <td>2013-01</td>\n",
       "      <td>AGP</td>\n",
       "    </tr>\n",
       "    <tr>\n",
       "      <th>113</th>\n",
       "      <td>2013-01</td>\n",
       "      <td>BCN</td>\n",
       "    </tr>\n",
       "    <tr>\n",
       "      <th>147</th>\n",
       "      <td>2013-01</td>\n",
       "      <td>AGP</td>\n",
       "    </tr>\n",
       "    <tr>\n",
       "      <th>151</th>\n",
       "      <td>2013-01</td>\n",
       "      <td>MAD</td>\n",
       "    </tr>\n",
       "  </tbody>\n",
       "</table>\n",
       "</div>"
      ],
      "text/plain": [
       "        Date Destination\n",
       "4    2013-01         MAD\n",
       "93   2013-01         AGP\n",
       "113  2013-01         BCN\n",
       "147  2013-01         AGP\n",
       "151  2013-01         MAD"
      ]
     },
     "execution_count": 58,
     "metadata": {},
     "output_type": "execute_result"
    }
   ],
   "source": [
    "s.head()"
   ]
  },
  {
   "cell_type": "code",
   "execution_count": 59,
   "metadata": {},
   "outputs": [],
   "source": [
    "s_gr=s.groupby(['Date', 'Destination']).count()\n",
    "s_gr"
   ]
  },
  {
   "cell_type": "code",
   "execution_count": 66,
   "metadata": {},
   "outputs": [
    {
     "data": {
      "text/plain": [
       "Date     Destination\n",
       "2013-01  AGP             48\n",
       "         BCN            162\n",
       "         MAD            125\n",
       "Name: Destination, dtype: int64"
      ]
     },
     "execution_count": 66,
     "metadata": {},
     "output_type": "execute_result"
    }
   ],
   "source": [
    "s_gr=s.groupby(['Date', 'Destination'])['Destination'].count()\n",
    "s_gr"
   ]
  },
  {
   "cell_type": "code",
   "execution_count": null,
   "metadata": {},
   "outputs": [],
   "source": [
    "#Esto no tiene sentido pero funciona\n",
    "s_gr=s.groupby(['Date', 'Destination'])['Destination'].count()\n"
   ]
  },
  {
   "cell_type": "code",
   "execution_count": 62,
   "metadata": {},
   "outputs": [
    {
     "data": {
      "text/plain": [
       "Date     Destination\n",
       "2013-01  AGP             48\n",
       "         BCN            162\n",
       "         MAD            125\n",
       "dtype: int64"
      ]
     },
     "execution_count": 62,
     "metadata": {},
     "output_type": "execute_result"
    }
   ],
   "source": [
    "s_gr=s.groupby(['Date', 'Destination']).size()\n",
    "s_gr"
   ]
  },
  {
   "cell_type": "code",
   "execution_count": null,
   "metadata": {},
   "outputs": [],
   "source": []
  },
  {
   "cell_type": "code",
   "execution_count": 73,
   "metadata": {},
   "outputs": [],
   "source": [
    "#groupby of 3 columns on two columns\n",
    "import pandas as pd\n",
    "pd.set_option('display.max_columns', None)\n",
    "s=pd.read_csv('./searches.csv.bz2', sep='^', usecols=['Date','Destination'],nrows=100000)\n",
    "s=s.dropna()\n",
    "s=s[  s['Destination'].isin(['MAD', 'BCN', 'AGP'])   ]\n",
    "s['Year-Date']=s['Date'].str[0:7]\n",
    "s_gr=s.groupby(['Year-Date', 'Destination']).count().reset_index()\n"
   ]
  },
  {
   "cell_type": "code",
   "execution_count": 79,
   "metadata": {},
   "outputs": [],
   "source": [
    "s_gr=s_gr.rename(columns={'Date':'Count'})"
   ]
  },
  {
   "cell_type": "code",
   "execution_count": 81,
   "metadata": {},
   "outputs": [],
   "source": [
    "plot_ready=s_gr.pivot('Year-Date', 'Destination', 'Count')"
   ]
  },
  {
   "cell_type": "code",
   "execution_count": 82,
   "metadata": {},
   "outputs": [
    {
     "data": {
      "text/plain": [
       "pandas.core.frame.DataFrame"
      ]
     },
     "execution_count": 82,
     "metadata": {},
     "output_type": "execute_result"
    }
   ],
   "source": [
    "type(plot_ready)"
   ]
  },
  {
   "cell_type": "code",
   "execution_count": 83,
   "metadata": {},
   "outputs": [
    {
     "data": {
      "text/html": [
       "<div>\n",
       "<style scoped>\n",
       "    .dataframe tbody tr th:only-of-type {\n",
       "        vertical-align: middle;\n",
       "    }\n",
       "\n",
       "    .dataframe tbody tr th {\n",
       "        vertical-align: top;\n",
       "    }\n",
       "\n",
       "    .dataframe thead th {\n",
       "        text-align: right;\n",
       "    }\n",
       "</style>\n",
       "<table border=\"1\" class=\"dataframe\">\n",
       "  <thead>\n",
       "    <tr style=\"text-align: right;\">\n",
       "      <th>Destination</th>\n",
       "      <th>AGP</th>\n",
       "      <th>BCN</th>\n",
       "      <th>MAD</th>\n",
       "    </tr>\n",
       "    <tr>\n",
       "      <th>Year-Date</th>\n",
       "      <th></th>\n",
       "      <th></th>\n",
       "      <th></th>\n",
       "    </tr>\n",
       "  </thead>\n",
       "  <tbody>\n",
       "    <tr>\n",
       "      <th>2013-01</th>\n",
       "      <td>169</td>\n",
       "      <td>517</td>\n",
       "      <td>425</td>\n",
       "    </tr>\n",
       "    <tr>\n",
       "      <th>2013-02</th>\n",
       "      <td>147</td>\n",
       "      <td>497</td>\n",
       "      <td>400</td>\n",
       "    </tr>\n",
       "    <tr>\n",
       "      <th>2013-03</th>\n",
       "      <td>187</td>\n",
       "      <td>536</td>\n",
       "      <td>433</td>\n",
       "    </tr>\n",
       "    <tr>\n",
       "      <th>2013-04</th>\n",
       "      <td>31</td>\n",
       "      <td>174</td>\n",
       "      <td>147</td>\n",
       "    </tr>\n",
       "  </tbody>\n",
       "</table>\n",
       "</div>"
      ],
      "text/plain": [
       "Destination  AGP  BCN  MAD\n",
       "Year-Date                 \n",
       "2013-01      169  517  425\n",
       "2013-02      147  497  400\n",
       "2013-03      187  536  433\n",
       "2013-04       31  174  147"
      ]
     },
     "execution_count": 83,
     "metadata": {},
     "output_type": "execute_result"
    }
   ],
   "source": [
    "plot_ready"
   ]
  },
  {
   "cell_type": "code",
   "execution_count": 85,
   "metadata": {},
   "outputs": [
    {
     "data": {
      "text/plain": [
       "<matplotlib.axes._subplots.AxesSubplot at 0x7f5c951e7da0>"
      ]
     },
     "execution_count": 85,
     "metadata": {},
     "output_type": "execute_result"
    },
    {
     "data": {
      "image/png": "[encoded data removed]",
      "text/plain": [
       "<Figure size 432x288 with 1 Axes>"
      ]
     },
     "metadata": {
      "needs_background": "light"
     },
     "output_type": "display_data"
    }
   ],
   "source": [
    "plot_ready.plot()"
   ]
  },
  {
   "cell_type": "code",
   "execution_count": null,
   "metadata": {},
   "outputs": [],
   "source": []
  },
  {
   "cell_type": "code",
   "execution_count": null,
   "metadata": {},
   "outputs": [],
   "source": []
  },
  {
   "cell_type": "code",
   "execution_count": null,
   "metadata": {},
   "outputs": [],
   "source": []
  },
  {
   "cell_type": "code",
   "execution_count": 88,
   "metadata": {},
   "outputs": [],
   "source": []
  },
  {
   "cell_type": "code",
   "execution_count": 86,
   "metadata": {},
   "outputs": [
    {
     "data": {
      "text/plain": [
       "<matplotlib.axes._subplots.AxesSubplot at 0x7f5c95108b70>"
      ]
     },
     "execution_count": 86,
     "metadata": {},
     "output_type": "execute_result"
    },
    {
     "data": {
      "image/png": "[encoded data removed]",
      "text/plain": [
       "<Figure size 432x288 with 1 Axes>"
      ]
     },
     "metadata": {
      "needs_background": "light"
     },
     "output_type": "display_data"
    }
   ],
   "source": [
    "import pandas as pd\n",
    "%matplotlib inline\n",
    "pd.set_option('display.max_columns', None)\n",
    "s=pd.read_csv('./searches.csv.bz2', sep='^', usecols=['Date','Destination'],nrows=100000)\n",
    "s=s.dropna()\n",
    "s=s[  s['Destination'].isin(['MAD', 'BCN', 'AGP'])   ]\n",
    "s['Year-Date']=s['Date'].str[0:7]\n",
    "s_gr=s.groupby(['Year-Date', 'Destination']).count().reset_index()\n",
    "s_gr=s_gr.rename(columns={'Date':'Count'})\n",
    "plot_ready=s_gr.pivot('Year-Date', 'Destination', 'Count')\n",
    "plot_ready.plot()"
   ]
  },
  {
   "cell_type": "code",
   "execution_count": 91,
   "metadata": {},
   "outputs": [
    {
     "name": "stdout",
     "output_type": "stream",
     "text": [
      "0 0\n",
      "1 36\n",
      "2 72\n",
      "3 108\n",
      "4 144\n",
      "5 180\n",
      "6 216\n",
      "7 252\n",
      "8 288\n",
      "9 324\n",
      "10 360\n",
      "11 396\n",
      "12 432\n",
      "13 468\n",
      "14 504\n",
      "15 540\n",
      "16 576\n",
      "17 612\n",
      "18 648\n",
      "19 684\n",
      "20 720\n",
      "CPU times: user 4min 49s, sys: 2.79 s, total: 4min 51s\n",
      "Wall time: 4min 49s\n"
     ]
    },
    {
     "data": {
      "image/png": "[encoded data removed]",
      "text/plain": [
       "<Figure size 432x288 with 1 Axes>"
      ]
     },
     "metadata": {
      "needs_background": "light"
     },
     "output_type": "display_data"
    }
   ],
   "source": [
    "%%time\n",
    "#CHUNKS\n",
    "import pandas as pd\n",
    "%matplotlib inline\n",
    "pd.set_option('display.max_columns', None)\n",
    "\n",
    "all_chunks=pd.DataFrame()\n",
    "\n",
    "#si=pd.read_csv('./searches.csv.bz2', sep='^', usecols=['Date','Destination'],nrows=100000, chunksize=10000) \n",
    "\n",
    "si=pd.read_csv('./searches.csv.bz2', sep='^', usecols=['Date','Destination'], chunksize=1000000, iterator=True) \n",
    "\n",
    "for i, s in enumerate(si):\n",
    "    print(i, len (all_chunks))\n",
    "    s=s.dropna()\n",
    "    s=s[  s['Destination'].isin(['MAD', 'BCN', 'AGP'])   ]\n",
    "    s['Year-Date']=s['Date'].str[0:7]\n",
    "    s_gr=s.groupby(['Year-Date', 'Destination']).count().reset_index()\n",
    "    all_chunks=all_chunks.append(s_gr)\n",
    "\n",
    "    \n",
    "all_gr=all_chunks.groupby(['Year-Date', 'Destination']).sum().reset_index()\n",
    "all_gr=all_gr.rename(columns={'Date':'Count'})\n",
    "plot_ready=all_gr.pivot('Year-Date', 'Destination', 'Count')\n",
    "plot_ready.plot()\n"
   ]
  },
  {
   "cell_type": "code",
   "execution_count": null,
   "metadata": {},
   "outputs": [],
   "source": []
  },
  {
   "cell_type": "code",
   "execution_count": null,
   "metadata": {},
   "outputs": [],
   "source": []
  },
  {
   "cell_type": "code",
   "execution_count": null,
   "metadata": {},
   "outputs": [],
   "source": []
  },
  {
   "cell_type": "markdown",
   "metadata": {},
   "source": [
    "### 4.2) group by arr_port and month\n"
   ]
  },
  {
   "cell_type": "code",
   "execution_count": null,
   "metadata": {},
   "outputs": [],
   "source": []
  },
  {
   "cell_type": "code",
   "execution_count": null,
   "metadata": {
    "collapsed": true
   },
   "outputs": [],
   "source": []
  },
  {
   "cell_type": "code",
   "execution_count": null,
   "metadata": {
    "collapsed": true
   },
   "outputs": [],
   "source": []
  },
  {
   "cell_type": "code",
   "execution_count": null,
   "metadata": {
    "collapsed": true
   },
   "outputs": [],
   "source": []
  },
  {
   "cell_type": "markdown",
   "metadata": {},
   "source": [
    "### 4.2.1) Adding new column with YYYY-MM info"
   ]
  },
  {
   "cell_type": "raw",
   "metadata": {},
   "source": [
    "need to get month out of date... smth like year-month\n",
    "we cannot use date function on 'date' column as it is string"
   ]
  },
  {
   "cell_type": "markdown",
   "metadata": {
    "collapsed": true
   },
   "source": [
    "Options:\n",
    "    1)transofming string to date:\n",
    "        1a) parse_dates=['Date'] - in csv_read function\n",
    "        1b) pd.to_datetime  - function\n",
    "        \n",
    "        1ab->     and creating new column with .month .year functions\n",
    "    \n",
    "    2) using string and obtainig yyyy-mm directly from it\n",
    "   \n",
    "    "
   ]
  },
  {
   "cell_type": "markdown",
   "metadata": {},
   "source": [
    "### 4.2.1.1a transofming string to date with parse_dates:"
   ]
  },
  {
   "cell_type": "code",
   "execution_count": null,
   "metadata": {
    "collapsed": true
   },
   "outputs": [],
   "source": []
  },
  {
   "cell_type": "code",
   "execution_count": null,
   "metadata": {
    "collapsed": true
   },
   "outputs": [],
   "source": []
  },
  {
   "cell_type": "markdown",
   "metadata": {},
   "source": [
    "### 4.2.1.1b transofming string to date with pandas to_datetime():"
   ]
  },
  {
   "cell_type": "code",
   "execution_count": null,
   "metadata": {
    "collapsed": true
   },
   "outputs": [],
   "source": []
  },
  {
   "cell_type": "code",
   "execution_count": null,
   "metadata": {
    "collapsed": true
   },
   "outputs": [],
   "source": []
  },
  {
   "cell_type": "markdown",
   "metadata": {},
   "source": [
    "### 4.2.1.1 YYYY-MM\n",
    "create new column from pandas timestamp data"
   ]
  },
  {
   "cell_type": "code",
   "execution_count": null,
   "metadata": {
    "collapsed": true
   },
   "outputs": [],
   "source": []
  },
  {
   "cell_type": "code",
   "execution_count": null,
   "metadata": {
    "collapsed": true
   },
   "outputs": [],
   "source": []
  },
  {
   "cell_type": "code",
   "execution_count": null,
   "metadata": {
    "collapsed": true
   },
   "outputs": [],
   "source": []
  },
  {
   "cell_type": "markdown",
   "metadata": {},
   "source": [
    "### 4.2.1.2 using string and obtainig yyyy-mm directly from it"
   ]
  },
  {
   "cell_type": "code",
   "execution_count": null,
   "metadata": {
    "collapsed": true
   },
   "outputs": [],
   "source": []
  },
  {
   "cell_type": "code",
   "execution_count": null,
   "metadata": {
    "collapsed": true
   },
   "outputs": [],
   "source": []
  },
  {
   "cell_type": "code",
   "execution_count": null,
   "metadata": {
    "collapsed": true
   },
   "outputs": [],
   "source": []
  },
  {
   "cell_type": "code",
   "execution_count": null,
   "metadata": {
    "collapsed": true
   },
   "outputs": [],
   "source": []
  },
  {
   "cell_type": "markdown",
   "metadata": {
    "collapsed": true
   },
   "source": [
    "## 4.2 group by arr_port search month"
   ]
  },
  {
   "cell_type": "markdown",
   "metadata": {
    "collapsed": true
   },
   "source": [
    "What do we have?"
   ]
  },
  {
   "cell_type": "code",
   "execution_count": null,
   "metadata": {
    "collapsed": true
   },
   "outputs": [],
   "source": []
  },
  {
   "cell_type": "code",
   "execution_count": null,
   "metadata": {
    "collapsed": true
   },
   "outputs": [],
   "source": []
  },
  {
   "cell_type": "code",
   "execution_count": null,
   "metadata": {
    "collapsed": true
   },
   "outputs": [],
   "source": []
  },
  {
   "cell_type": "code",
   "execution_count": null,
   "metadata": {},
   "outputs": [],
   "source": []
  },
  {
   "cell_type": "markdown",
   "metadata": {},
   "source": [
    "## 4.3 Plotting"
   ]
  },
  {
   "cell_type": "code",
   "execution_count": null,
   "metadata": {
    "collapsed": true
   },
   "outputs": [],
   "source": []
  },
  {
   "cell_type": "code",
   "execution_count": null,
   "metadata": {
    "collapsed": true
   },
   "outputs": [],
   "source": []
  },
  {
   "cell_type": "markdown",
   "metadata": {},
   "source": [
    "## 4.3.b Step by Step plotting"
   ]
  },
  {
   "cell_type": "code",
   "execution_count": null,
   "metadata": {
    "collapsed": true
   },
   "outputs": [],
   "source": []
  },
  {
   "cell_type": "code",
   "execution_count": null,
   "metadata": {
    "collapsed": true
   },
   "outputs": [],
   "source": []
  },
  {
   "cell_type": "code",
   "execution_count": null,
   "metadata": {
    "collapsed": true
   },
   "outputs": [],
   "source": []
  },
  {
   "cell_type": "code",
   "execution_count": null,
   "metadata": {
    "collapsed": true
   },
   "outputs": [],
   "source": []
  },
  {
   "cell_type": "markdown",
   "metadata": {},
   "source": [
    "## 5) Adjust the code to work with Big data"
   ]
  },
  {
   "cell_type": "raw",
   "metadata": {},
   "source": [
    "What do we have?"
   ]
  },
  {
   "cell_type": "code",
   "execution_count": null,
   "metadata": {
    "collapsed": true
   },
   "outputs": [],
   "source": []
  },
  {
   "cell_type": "code",
   "execution_count": null,
   "metadata": {
    "collapsed": true
   },
   "outputs": [],
   "source": []
  },
  {
   "cell_type": "markdown",
   "metadata": {},
   "source": [
    "### 5.1) chunksize & append group by DF"
   ]
  },
  {
   "cell_type": "code",
   "execution_count": null,
   "metadata": {
    "collapsed": true
   },
   "outputs": [],
   "source": []
  },
  {
   "cell_type": "code",
   "execution_count": null,
   "metadata": {
    "collapsed": true
   },
   "outputs": [],
   "source": []
  },
  {
   "cell_type": "code",
   "execution_count": null,
   "metadata": {
    "collapsed": true
   },
   "outputs": [],
   "source": []
  },
  {
   "cell_type": "code",
   "execution_count": null,
   "metadata": {
    "collapsed": true
   },
   "outputs": [],
   "source": []
  },
  {
   "cell_type": "code",
   "execution_count": null,
   "metadata": {
    "collapsed": true
   },
   "outputs": [],
   "source": []
  },
  {
   "cell_type": "markdown",
   "metadata": {},
   "source": [
    "### How to find out which line has problems???"
   ]
  },
  {
   "cell_type": "code",
   "execution_count": null,
   "metadata": {
    "collapsed": true
   },
   "outputs": [],
   "source": []
  },
  {
   "cell_type": "code",
   "execution_count": null,
   "metadata": {
    "collapsed": true
   },
   "outputs": [],
   "source": []
  },
  {
   "cell_type": "code",
   "execution_count": null,
   "metadata": {
    "collapsed": true
   },
   "outputs": [],
   "source": []
  }
 ],
 "metadata": {
  "kernelspec": {
   "display_name": "Python 3",
   "language": "python",
   "name": "python3"
  },
  "language_info": {
   "codemirror_mode": {
    "name": "ipython",
    "version": 3
   },
   "file_extension": ".py",
   "mimetype": "text/x-python",
   "name": "python",
   "nbconvert_exporter": "python",
   "pygments_lexer": "ipython3",
   "version": "3.6.8"
  }
 },
 "nbformat": 4,
 "nbformat_minor": 1
}
