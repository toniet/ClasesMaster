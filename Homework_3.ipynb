{
 "cells": [
  {
   "cell_type": "markdown",
   "metadata": {},
   "source": [
    "# Quick Exercises 3"
   ]
  },
  {
   "cell_type": "code",
   "execution_count": 8,
   "metadata": {},
   "outputs": [
    {
     "data": {
      "text/plain": [
       "5"
      ]
     },
     "execution_count": 8,
     "metadata": {},
     "output_type": "execute_result"
    }
   ],
   "source": [
    "def maximo(a, b ,c):\n",
    "    if a > b:\n",
    "        if a > c:\n",
    "            return a\n",
    "        else:\n",
    "            return c\n",
    "    else:\n",
    "        if b > c:\n",
    "            return b\n",
    "        else:\n",
    "            return c\n",
    "\n",
    "maximo(5,2,1)\n"
   ]
  },
  {
   "cell_type": "code",
   "execution_count": 10,
   "metadata": {},
   "outputs": [
    {
     "data": {
      "text/plain": [
       "9"
      ]
     },
     "execution_count": 10,
     "metadata": {},
     "output_type": "execute_result"
    }
   ],
   "source": [
    "def maximolocal(a,b,c):\n",
    "    maximo = a\n",
    "    if maximo < b:\n",
    "        maximo = b\n",
    "    if maximo < c:\n",
    "        maximo = c\n",
    "    return maximo\n",
    "\n",
    "maximo(5,2,9)\n",
    "    "
   ]
  },
  {
   "cell_type": "code",
   "execution_count": 15,
   "metadata": {},
   "outputs": [
    {
     "name": "stdout",
     "output_type": "stream",
     "text": [
      "Antonio will reach 100 years in 2081\n"
     ]
    }
   ],
   "source": [
    "def centenario(name, birth):\n",
    "    if not isinstance(birth, int):\n",
    "        int(birth)\n",
    "    print (\"%s will reach 100 years in %d\" %(name, birth+100))\n",
    "centenario(\"Antonio\", 1981)"
   ]
  },
  {
   "cell_type": "code",
   "execution_count": 26,
   "metadata": {},
   "outputs": [
    {
     "name": "stdout",
     "output_type": "stream",
     "text": [
      "(1, 5, 22)\n"
     ]
    }
   ],
   "source": [
    "def wc(str1):\n",
    "    chars = 0\n",
    "    for char in str1:\n",
    "        chars +=1\n",
    "    words = len(str1.split(\" \"))\n",
    "    lines = len(str1.split(\"\\n\"))\n",
    "    return (lines,words,chars)\n",
    "\n",
    "print(wc('Mi carro me lo robaron'))"
   ]
  },
  {
   "cell_type": "code",
   "execution_count": 29,
   "metadata": {},
   "outputs": [
    {
     "name": "stdout",
     "output_type": "stream",
     "text": [
      "puco\n"
     ]
    }
   ],
   "source": [
    "def remove_char(str, n):\n",
    "    if not str:\n",
    "        print(\"La palabra esta vacio\")\n",
    "        return\n",
    "    else:\n",
    "        parte1 = str[:n]\n",
    "        parte2 = str[n+1:]\n",
    "        return parte1+parte2\n",
    "print(remove_char(\"pulco\",2))"
   ]
  },
  {
   "cell_type": "code",
   "execution_count": 31,
   "metadata": {},
   "outputs": [
    {
     "name": "stdout",
     "output_type": "stream",
     "text": [
      "['/home/dsc/ejercicios']\n",
      "/home/dsc/ejercicios 3\n"
     ]
    }
   ],
   "source": [
    "print (_dh)\n",
    "for i in _dh:\n",
    "    wc = !(ls -l $i | wc -l)\n",
    "    print(i, int(wc[0])-1)"
   ]
  },
  {
   "cell_type": "code",
   "execution_count": 58,
   "metadata": {},
   "outputs": [
    {
     "name": "stdout",
     "output_type": "stream",
     "text": [
      "['2']\n"
     ]
    }
   ],
   "source": [
    "def patron(file, patron):\n",
    "    result = !(grep -i -o $patron $file | wc -l)\n",
    "    return result\n",
    "print(patron(\"Homework.ipynb\", \"remove_char\"))"
   ]
  },
  {
   "cell_type": "code",
   "execution_count": 63,
   "metadata": {},
   "outputs": [
    {
     "name": "stdout",
     "output_type": "stream",
     "text": [
      "/home/dsc/Data/shell/Finn.txt\r\n"
     ]
    },
    {
     "ename": "FileNotFoundError",
     "evalue": "[Errno 2] No such file or directory: '~/Data/shell/Finn.txt'",
     "output_type": "error",
     "traceback": [
      "\u001b[0;31m---------------------------------------------------------------------------\u001b[0m",
      "\u001b[0;31mFileNotFoundError\u001b[0m                         Traceback (most recent call last)",
      "\u001b[0;32m<ipython-input-63-093ee6570f17>\u001b[0m in \u001b[0;36m<module>\u001b[0;34m\u001b[0m\n\u001b[1;32m      1\u001b[0m \u001b[0mpath\u001b[0m \u001b[0;34m=\u001b[0m \u001b[0;34m\"~/Data/shell/Finn.txt\"\u001b[0m\u001b[0;34m\u001b[0m\u001b[0;34m\u001b[0m\u001b[0m\n\u001b[1;32m      2\u001b[0m \u001b[0mget_ipython\u001b[0m\u001b[0;34m(\u001b[0m\u001b[0;34m)\u001b[0m\u001b[0;34m.\u001b[0m\u001b[0msystem\u001b[0m\u001b[0;34m(\u001b[0m\u001b[0;34m'(ls $path)'\u001b[0m\u001b[0;34m)\u001b[0m\u001b[0;34m\u001b[0m\u001b[0;34m\u001b[0m\u001b[0m\n\u001b[0;32m----> 3\u001b[0;31m \u001b[0mf\u001b[0m \u001b[0;34m=\u001b[0m \u001b[0mopen\u001b[0m\u001b[0;34m(\u001b[0m\u001b[0mpath\u001b[0m\u001b[0;34m)\u001b[0m\u001b[0;34m\u001b[0m\u001b[0;34m\u001b[0m\u001b[0m\n\u001b[0m\u001b[1;32m      4\u001b[0m \u001b[0mlines\u001b[0m\u001b[0;34m=\u001b[0m\u001b[0;34m[\u001b[0m\u001b[0;34m]\u001b[0m\u001b[0;34m\u001b[0m\u001b[0;34m\u001b[0m\u001b[0m\n\u001b[1;32m      5\u001b[0m \u001b[0;32mfor\u001b[0m \u001b[0mline\u001b[0m \u001b[0;32min\u001b[0m \u001b[0mf\u001b[0m\u001b[0;34m:\u001b[0m\u001b[0;34m\u001b[0m\u001b[0;34m\u001b[0m\u001b[0m\n",
      "\u001b[0;31mFileNotFoundError\u001b[0m: [Errno 2] No such file or directory: '~/Data/shell/Finn.txt'"
     ]
    }
   ],
   "source": [
    "path = \"~/Data/shell/Finn.txt\"\n",
    "!(ls $path)\n",
    "f = open(path)\n",
    "lines=[]\n",
    "for line in f:\n",
    "    lines.append(line)\n",
    "f.close()\n",
    "len(lines)"
   ]
  }
 ],
 "metadata": {
  "kernelspec": {
   "display_name": "Python 3",
   "language": "python",
   "name": "python3"
  },
  "language_info": {
   "codemirror_mode": {
    "name": "ipython",
    "version": 3
   },
   "file_extension": ".py",
   "mimetype": "text/x-python",
   "name": "python",
   "nbconvert_exporter": "python",
   "pygments_lexer": "ipython3",
   "version": "3.7.1"
  }
 },
 "nbformat": 4,
 "nbformat_minor": 2
}
