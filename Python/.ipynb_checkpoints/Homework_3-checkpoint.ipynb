{
 "cells": [
  {
   "cell_type": "markdown",
   "metadata": {},
   "source": [
    "# Quick Exercises 3"
   ]
  },
  {
   "cell_type": "code",
   "execution_count": null,
   "metadata": {},
   "outputs": [],
   "source": []
  },
  {
   "cell_type": "code",
   "execution_count": 8,
   "metadata": {},
   "outputs": [
    {
     "data": {
      "text/plain": [
       "5"
      ]
     },
     "execution_count": 8,
     "metadata": {},
     "output_type": "execute_result"
    }
   ],
   "source": [
    "def maximo(a, b ,c):\n",
    "    if a > b:\n",
    "        if a > c:\n",
    "            return a\n",
    "        else:\n",
    "            return c\n",
    "    else:\n",
    "        if b > c:\n",
    "            return b\n",
    "        else:\n",
    "            return c\n",
    "\n",
    "maximo(5,2,1)\n"
   ]
  },
  {
   "cell_type": "code",
   "execution_count": 10,
   "metadata": {},
   "outputs": [
    {
     "data": {
      "text/plain": [
       "9"
      ]
     },
     "execution_count": 10,
     "metadata": {},
     "output_type": "execute_result"
    }
   ],
   "source": [
    "def maximolocal(a,b,c):\n",
    "    maximo = a\n",
    "    if maximo < b:\n",
    "        maximo = b\n",
    "    if maximo < c:\n",
    "        maximo = c\n",
    "    return maximo\n",
    "\n",
    "maximo(5,2,9)\n",
    "    "
   ]
  },
  {
   "cell_type": "code",
   "execution_count": 15,
   "metadata": {},
   "outputs": [
    {
     "name": "stdout",
     "output_type": "stream",
     "text": [
      "Antonio will reach 100 years in 2081\n"
     ]
    }
   ],
   "source": [
    "def centenario(name, birth):\n",
    "    if not isinstance(birth, int):\n",
    "        int(birth)\n",
    "    print (\"%s will reach 100 years in %d\" %(name, birth+100))\n",
    "centenario(\"Antonio\", 1981)"
   ]
  },
  {
   "cell_type": "code",
   "execution_count": 26,
   "metadata": {},
   "outputs": [
    {
     "name": "stdout",
     "output_type": "stream",
     "text": [
      "(1, 5, 22)\n"
     ]
    }
   ],
   "source": [
    "def wc(str1):\n",
    "    chars = 0\n",
    "    for char in str1:\n",
    "        chars +=1\n",
    "    words = len(str1.split(\" \"))\n",
    "    lines = len(str1.split(\"\\n\"))\n",
    "    return (lines,words,chars)\n",
    "\n",
    "print(wc('Mi carro me lo robaron'))"
   ]
  },
  {
   "cell_type": "code",
   "execution_count": 29,
   "metadata": {},
   "outputs": [
    {
     "name": "stdout",
     "output_type": "stream",
     "text": [
      "puco\n"
     ]
    }
   ],
   "source": [
    "def remove_char(str, n):\n",
    "    if not str:\n",
    "        print(\"La palabra esta vacio\")\n",
    "        return\n",
    "    else:\n",
    "        parte1 = str[:n]\n",
    "        parte2 = str[n+1:]\n",
    "        return parte1+parte2\n",
    "print(remove_char(\"pulco\",2))"
   ]
  },
  {
   "cell_type": "code",
   "execution_count": 9,
   "metadata": {},
   "outputs": [
    {
     "name": "stdout",
     "output_type": "stream",
     "text": [
      "/home/dsc/Repos/ClasesMaster/Python\n",
      "---------- Ficheros en directorio ----------\n",
      "5\r\n"
     ]
    }
   ],
   "source": [
    "for item in _dh:\n",
    "    print(item)\n",
    "    print(\"---------- Ficheros en directorio ----------\")\n",
    "    !(ls -l $item | wc -l)"
   ]
  },
  {
   "cell_type": "code",
   "execution_count": 8,
   "metadata": {},
   "outputs": [
    {
     "name": "stdout",
     "output_type": "stream",
     "text": [
      "['/home/dsc/Repos/ClasesMaster/Python']\n",
      "/home/dsc/Repos/ClasesMaster/Python 4\n"
     ]
    }
   ],
   "source": [
    "print (_dh)\n",
    "for i in _dh:\n",
    "    wc = !(ls -l $i | wc -l)\n",
    "    print(i, int(wc[0])-1)"
   ]
  },
  {
   "cell_type": "code",
   "execution_count": 58,
   "metadata": {},
   "outputs": [
    {
     "name": "stdout",
     "output_type": "stream",
     "text": [
      "['2']\n"
     ]
    }
   ],
   "source": [
    "def patron(file, patron):\n",
    "    result = !(grep -i -o $patron $file | wc -l)\n",
    "    return result\n",
    "print(patron(\"Homework.ipynb\", \"remove_char\"))"
   ]
  },
  {
   "cell_type": "code",
   "execution_count": 12,
   "metadata": {},
   "outputs": [
    {
     "name": "stdout",
     "output_type": "stream",
     "text": [
      "-rw-rw-r-- 1 dsc dsc 627563 abr  2  2018 /home/dsc/Data/shell/Finn.txt\r\n"
     ]
    },
    {
     "data": {
      "text/plain": [
       "12363"
      ]
     },
     "execution_count": 12,
     "metadata": {},
     "output_type": "execute_result"
    }
   ],
   "source": [
    "path = \"/home/dsc/Data/shell/Finn.txt\" #\"~/Data/shell/Finn.txt\" -- No puedo hacer esto con python\n",
    "!(ls -l $path)\n",
    "f = open(path)\n",
    "lines=[]\n",
    "for line in f:\n",
    "    lines.append(line)\n",
    "f.close()\n",
    "len(lines)"
   ]
  },
  {
   "cell_type": "code",
   "execution_count": 21,
   "metadata": {},
   "outputs": [
    {
     "name": "stdout",
     "output_type": "stream",
     "text": [
      "False\n",
      "True\n"
     ]
    },
    {
     "data": {
      "text/plain": [
       "100"
      ]
     },
     "execution_count": 21,
     "metadata": {},
     "output_type": "execute_result"
    }
   ],
   "source": [
    "# repetido con el profesor\n",
    "def count(file, pattern):\n",
    "    with open(file) as f: # con esto garantizamos el cierre de f\n",
    "        lines = f.readlines()\n",
    "        count = 0\n",
    "        \n",
    "        for line in lines:\n",
    "            if line.find(pattern) != -1: # if pattern in line:\n",
    "                count +=1\n",
    "        print(f.closed) # nunca cerrado\n",
    "    print(f.closed)    # siempre cerrado\n",
    "    return count\n",
    "\n",
    "path = \"/home/dsc/Data/shell/Finn.txt\"\n",
    "count(path, 'Huck')"
   ]
  },
  {
   "cell_type": "code",
   "execution_count": 31,
   "metadata": {},
   "outputs": [],
   "source": [
    "def quitarBlancos(file):\n",
    "    with open('NewFinn.txt','w') as target:\n",
    "        with open(file) as f:\n",
    "            lines = f.readlines()\n",
    "\n",
    "            for line in lines:\n",
    "                # result.append(line.rstrip)\n",
    "                target.write(line.rstrip() + '\\n')\n",
    "            \n",
    "path = \"/home/dsc/Data/shell/Finn.txt\"\n",
    "quitarBlancos(path)"
   ]
  },
  {
   "cell_type": "code",
   "execution_count": 32,
   "metadata": {},
   "outputs": [
    {
     "name": "stdout",
     "output_type": "stream",
     "text": [
      "12363 NewFinn.txt\r\n"
     ]
    }
   ],
   "source": [
    "!wc -l NewFinn.txt"
   ]
  },
  {
   "cell_type": "code",
   "execution_count": 33,
   "metadata": {},
   "outputs": [
    {
     "name": "stdout",
     "output_type": "stream",
     "text": [
      "/home/dsc/Repos/ClasesMaster/Python\r\n"
     ]
    }
   ],
   "source": [
    "!pwd"
   ]
  },
  {
   "cell_type": "code",
   "execution_count": null,
   "metadata": {},
   "outputs": [],
   "source": []
  }
 ],
 "metadata": {
  "kernelspec": {
   "display_name": "Python 3",
   "language": "python",
   "name": "python3"
  },
  "language_info": {
   "codemirror_mode": {
    "name": "ipython",
    "version": 3
   },
   "file_extension": ".py",
   "mimetype": "text/x-python",
   "name": "python",
   "nbconvert_exporter": "python",
   "pygments_lexer": "ipython3",
   "version": "3.7.1"
  }
 },
 "nbformat": 4,
 "nbformat_minor": 2
}
