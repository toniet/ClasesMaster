{
 "cells": [
  {
   "cell_type": "markdown",
   "metadata": {},
   "source": [
    "# Quick Exercises 4"
   ]
  },
  {
   "cell_type": "markdown",
   "metadata": {},
   "source": [
    "### 1)"
   ]
  },
  {
   "cell_type": "code",
   "execution_count": 1,
   "metadata": {},
   "outputs": [],
   "source": [
    "lista = [1,2,3,4,5,6,7,8] # lista = range(10)"
   ]
  },
  {
   "cell_type": "code",
   "execution_count": 2,
   "metadata": {},
   "outputs": [
    {
     "data": {
      "text/plain": [
       "[1, 4, 9, 16, 25, 36, 49, 64]"
      ]
     },
     "execution_count": 2,
     "metadata": {},
     "output_type": "execute_result"
    }
   ],
   "source": [
    "list(map(lambda item: item**2, lista))"
   ]
  },
  {
   "cell_type": "markdown",
   "metadata": {},
   "source": [
    "### 2)"
   ]
  },
  {
   "cell_type": "code",
   "execution_count": 3,
   "metadata": {},
   "outputs": [],
   "source": [
    "nombres = ['toni','marc','victoria','roma','londres','nilo','perro','coche','casa','torre']"
   ]
  },
  {
   "cell_type": "code",
   "execution_count": 4,
   "metadata": {},
   "outputs": [
    {
     "data": {
      "text/plain": [
       "['tOnI',\n",
       " 'mArc',\n",
       " 'vIctOrIA',\n",
       " 'rOmA',\n",
       " 'lOndrEs',\n",
       " 'nIlO',\n",
       " 'pErrO',\n",
       " 'cOchE',\n",
       " 'cAsA',\n",
       " 'tOrrE']"
      ]
     },
     "execution_count": 4,
     "metadata": {},
     "output_type": "execute_result"
    }
   ],
   "source": [
    "def vocalesMayusculas(nombre):\n",
    "    a = list(nombre)\n",
    "    result = ''\n",
    "    for item in a:\n",
    "        if item in ('a','e','i','o','u'):\n",
    "            result += (str(item).capitalize())\n",
    "        else:\n",
    "            result += (str(item).lower())\n",
    "    return result\n",
    "\n",
    "list(map(vocalesMayusculas, nombres))"
   ]
  },
  {
   "cell_type": "markdown",
   "metadata": {},
   "source": [
    "### 3)"
   ]
  },
  {
   "cell_type": "code",
   "execution_count": 5,
   "metadata": {},
   "outputs": [
    {
     "data": {
      "text/plain": [
       "['coche']"
      ]
     },
     "execution_count": 5,
     "metadata": {},
     "output_type": "execute_result"
    }
   ],
   "source": [
    "def containsChar(lista, char):\n",
    "    result = []\n",
    "    for item in lista:\n",
    "        if char in item:\n",
    "            result.append(item)\n",
    "    return result\n",
    "\n",
    "containsChar(nombres, 'ch')            "
   ]
  },
  {
   "cell_type": "markdown",
   "metadata": {},
   "source": [
    "### 4)"
   ]
  },
  {
   "cell_type": "code",
   "execution_count": 6,
   "metadata": {},
   "outputs": [
    {
     "name": "stdout",
     "output_type": "stream",
     "text": [
      "['i', 'l', 'o', 'H']\n"
     ]
    }
   ],
   "source": [
    "def reverseString(nombre):\n",
    "    result = []\n",
    "    \n",
    "    for char in nombre:\n",
    "        result.append(char)\n",
    "    \n",
    "    result.reverse()\n",
    "    return result\n",
    "\n",
    "print(reverseString(\"Holi\"))"
   ]
  },
  {
   "cell_type": "markdown",
   "metadata": {},
   "source": [
    "### 5)"
   ]
  },
  {
   "cell_type": "code",
   "execution_count": 26,
   "metadata": {},
   "outputs": [
    {
     "ename": "SyntaxError",
     "evalue": "invalid syntax (<ipython-input-26-b6ff024f0145>, line 2)",
     "output_type": "error",
     "traceback": [
      "\u001b[0;36m  File \u001b[0;32m\"<ipython-input-26-b6ff024f0145>\"\u001b[0;36m, line \u001b[0;32m2\u001b[0m\n\u001b[0;31m    aux = {%history}\u001b[0m\n\u001b[0m           ^\u001b[0m\n\u001b[0;31mSyntaxError\u001b[0m\u001b[0;31m:\u001b[0m invalid syntax\n"
     ]
    }
   ],
   "source": [
    "def buscaHistory():\n",
    "    aux = %history\n",
    "    \n",
    "\n",
    "buscaHistory()"
   ]
  },
  {
   "cell_type": "markdown",
   "metadata": {},
   "source": [
    "### 6)"
   ]
  },
  {
   "cell_type": "code",
   "execution_count": 16,
   "metadata": {},
   "outputs": [
    {
     "name": "stdout",
     "output_type": "stream",
     "text": [
      "victoria\n"
     ]
    }
   ],
   "source": [
    "def laMasLarga(lista):\n",
    "    max = 0\n",
    "    result = 'None'\n",
    "    for item in lista:\n",
    "        if len(item) > max:\n",
    "            max = len(item)\n",
    "            result = item\n",
    "    return result\n",
    "\n",
    "print(laMasLarga(nombres))"
   ]
  },
  {
   "cell_type": "code",
   "execution_count": null,
   "metadata": {},
   "outputs": [],
   "source": []
  }
 ],
 "metadata": {
  "kernelspec": {
   "display_name": "Python 3",
   "language": "python",
   "name": "python3"
  },
  "language_info": {
   "codemirror_mode": {
    "name": "ipython",
    "version": 3
   },
   "file_extension": ".py",
   "mimetype": "text/x-python",
   "name": "python",
   "nbconvert_exporter": "python",
   "pygments_lexer": "ipython3",
   "version": "3.7.1"
  }
 },
 "nbformat": 4,
 "nbformat_minor": 2
}
