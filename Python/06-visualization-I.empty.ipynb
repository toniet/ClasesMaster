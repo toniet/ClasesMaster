{
 "cells": [
  {
   "cell_type": "markdown",
   "metadata": {
    "collapsed": true,
    "slideshow": {
     "slide_type": "slide"
    }
   },
   "source": [
    "# Visualization with Python I\n",
    "\n",
    "\n",
    "\n",
    "<img src=\"https://www.python.org/static/img/python-logo.png\" alt=\"yogen\" style=\"width: 200px; float: right;\"/>\n",
    "<br>\n",
    "<br>\n",
    "<br>\n",
    "<img src=\"http://yogen.io/assets/logo.svg\" alt=\"yogen\" style=\"width: 200px; float: right;\"/>"
   ]
  },
  {
   "cell_type": "markdown",
   "metadata": {
    "slideshow": {
     "slide_type": "slide"
    }
   },
   "source": [
    "# `matplotlib`\n",
    "![c.png](data:image/png;base64,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)\n",
    "\n",
    "\n",
    "https://matplotlib.org/"
   ]
  },
  {
   "cell_type": "code",
   "execution_count": null,
   "metadata": {
    "slideshow": {
     "slide_type": "fragment"
    }
   },
   "outputs": [],
   "source": []
  },
  {
   "cell_type": "markdown",
   "metadata": {
    "slideshow": {
     "slide_type": "slide"
    }
   },
   "source": [
    "## Matplotlib basic plotting\n",
    "\n",
    "A MATLAB-like plotting framework: [`pyplot`](https://matplotlib.org/api/pyplot_api.html). \n",
    "\n",
    "Also known as the \"state-machine environment\" because we can call methods of a global state machine and they will affect the appropiate objects."
   ]
  },
  {
   "cell_type": "markdown",
   "metadata": {
    "slideshow": {
     "slide_type": "slide"
    }
   },
   "source": [
    "### Lines"
   ]
  },
  {
   "cell_type": "code",
   "execution_count": null,
   "metadata": {
    "slideshow": {
     "slide_type": "fragment"
    }
   },
   "outputs": [],
   "source": []
  },
  {
   "cell_type": "markdown",
   "metadata": {
    "slideshow": {
     "slide_type": "slide"
    }
   },
   "source": [
    "#### Exercise\n",
    "\n",
    "Plot the logistic function \n",
    "\n",
    "\n",
    "$$f(x) = \\frac{e^x}{1 + e^x}$$\n",
    "\n",
    "Between -7 and 7\n"
   ]
  },
  {
   "cell_type": "code",
   "execution_count": null,
   "metadata": {
    "slideshow": {
     "slide_type": "fragment"
    }
   },
   "outputs": [],
   "source": []
  },
  {
   "cell_type": "markdown",
   "metadata": {
    "slideshow": {
     "slide_type": "slide"
    }
   },
   "source": [
    "### Scatter plots"
   ]
  },
  {
   "cell_type": "code",
   "execution_count": null,
   "metadata": {
    "slideshow": {
     "slide_type": "fragment"
    }
   },
   "outputs": [],
   "source": []
  },
  {
   "cell_type": "markdown",
   "metadata": {},
   "source": [
    "Here we are using a random noise (\"jitter\"\n",
    ") added over the (perfectly following $f(x) = 2x + 20$) Y2 Series in order to get some noisier, more real-looking generated data.\n"
   ]
  },
  {
   "cell_type": "code",
   "execution_count": null,
   "metadata": {
    "slideshow": {
     "slide_type": "fragment"
    }
   },
   "outputs": [],
   "source": []
  },
  {
   "cell_type": "markdown",
   "metadata": {},
   "source": [
    "This is what happens if you make a line plot of unsorted data:"
   ]
  },
  {
   "cell_type": "code",
   "execution_count": null,
   "metadata": {},
   "outputs": [],
   "source": []
  },
  {
   "cell_type": "markdown",
   "metadata": {},
   "source": [
    "#### Exercise - 2\n",
    "\n",
    "Let's draw a circle using a scatter plot, afterwards fill it.\n",
    "\n",
    "$$r^2 = sen(\\phi)^2 + cos(\\phi)^2$$\n",
    "\n",
    "$$x=r \\cdot cos(\\phi)$$\n",
    "$$y=r \\cdot sin(\\phi)$$\n"
   ]
  },
  {
   "cell_type": "code",
   "execution_count": null,
   "metadata": {},
   "outputs": [],
   "source": []
  },
  {
   "cell_type": "markdown",
   "metadata": {
    "slideshow": {
     "slide_type": "slide"
    }
   },
   "source": [
    "### Bar plots\n",
    "\n",
    "Do not confuse with histograms\n",
    "\n",
    "A bar plot is a plot that presents categorical data with rectangular bars with heights or lengths proportional to the values that they represent. The bars can be plotted vertically or horizontally.\n",
    "\n",
    "A bar plot shows comparisons among discrete categories. One axis of the plot shows the specific categories being compared, and the other axis represents a measured value.\n"
   ]
  },
  {
   "cell_type": "code",
   "execution_count": null,
   "metadata": {
    "slideshow": {
     "slide_type": "fragment"
    }
   },
   "outputs": [],
   "source": []
  },
  {
   "cell_type": "markdown",
   "metadata": {},
   "source": [
    "#### Histogram\n",
    "A histogram is an approximate representation of the distribution of numerical data.\n",
    "\n",
    "To construct a histogram, the first step is to \"bin\" (or \"bucket\") the range of values—that is, divide the entire range of values into a series of intervals—and then count how many values fall into each interval. The bins are usually specified as consecutive, non-overlapping intervals of a variable. The bins (intervals) must be adjacent, and are often (but not required to be) of equal size\n",
    "\n",
    "[Wikipedia](https://en.wikipedia.org/wiki/Histogram)\n"
   ]
  },
  {
   "cell_type": "code",
   "execution_count": null,
   "metadata": {},
   "outputs": [],
   "source": []
  },
  {
   "cell_type": "markdown",
   "metadata": {
    "slideshow": {
     "slide_type": "slide"
    }
   },
   "source": [
    "## The object-oriented interface\n",
    "\n",
    "Essential for finer control.\n",
    "\n",
    "The recommended procedure is to use pyplot to create figures and the object-oriented interface for plotting. \n",
    "\n",
    "We need to know the somewhat confusing [matplotlib terminology](http://matplotlib.org/faq/usage_faq.html#parts-of-a-figure)"
   ]
  },
  {
   "cell_type": "markdown",
   "metadata": {
    "slideshow": {
     "slide_type": "slide"
    }
   },
   "source": [
    "![Anatomy of a Matplotlib Figure](http://matplotlib.org/_images/anatomy1.png)"
   ]
  },
  {
   "cell_type": "markdown",
   "metadata": {
    "slideshow": {
     "slide_type": "slide"
    }
   },
   "source": [
    "#### Figure\n",
    "\n",
    "A whole figure which may contain several Axes. It communicates with the `Canvas` for us."
   ]
  },
  {
   "cell_type": "code",
   "execution_count": null,
   "metadata": {},
   "outputs": [],
   "source": []
  },
  {
   "cell_type": "markdown",
   "metadata": {
    "slideshow": {
     "slide_type": "slide"
    }
   },
   "source": [
    "#### Artists\n",
    "\n",
    "There are two types of Artists: primitives and containers. The primitives represent the standard graphical objects we want to paint onto our canvas: Line2D, Rectangle, Text, AxesImage, etc., and the containers are places to put them (Axis, Axes and Figure).\n",
    "\n",
    "https://matplotlib.org/users/artists.html"
   ]
  },
  {
   "cell_type": "markdown",
   "metadata": {
    "slideshow": {
     "slide_type": "slide"
    }
   },
   "source": [
    "#### Axes vs Axis\n",
    "\n",
    "An `Axes` (yes, it looks like a plural noun but it's not, necessarily) is a single panel of a figure. An `Axes` contains generally 2, but sometimes 3, `Axis`. It is the object type we'll spend most time interacting with.\n",
    "\n",
    "`Axis` objects represent the lines in the x and y (and z in the case of 3D plots) dimensions. With them you can control ticks and ticklabels."
   ]
  },
  {
   "cell_type": "markdown",
   "metadata": {
    "slideshow": {
     "slide_type": "slide"
    }
   },
   "source": [
    "### Interlude: the recommended interface for our plotting functions\n",
    "\n",
    "From [the matplotlib FAQ](http://matplotlib.org/faq/usage_faq.html):\n",
    "\n",
    "```python\n",
    "def my_plotter(ax, data1, data2, param_dict):\n",
    "    \"\"\"\n",
    "    A helper function to make a graph\n",
    "\n",
    "    Parameters\n",
    "    ----------\n",
    "    ax : Axes\n",
    "        The axes to draw to\n",
    "\n",
    "    data1 : array\n",
    "       The x data\n",
    "\n",
    "    data2 : array\n",
    "       The y data\n",
    "\n",
    "    param_dict : dict\n",
    "       Dictionary of kwargs to pass to ax.plot\n",
    "\n",
    "    Returns\n",
    "    -------\n",
    "    out : list\n",
    "        list of artists added\n",
    "    \"\"\"\n",
    "    out = ax.plot(data1, data2, **param_dict)\n",
    "    return out\n",
    "```"
   ]
  },
  {
   "cell_type": "markdown",
   "metadata": {
    "slideshow": {
     "slide_type": "slide"
    }
   },
   "source": [
    "## `add_axes()`, `add_subplot`, and `subplots()` \n",
    "\n",
    "We can add Axes to a Figure by calling its add_axes method.\n",
    "\n",
    "A subplot is just an Axes that we place within an imaginary grid.\n",
    "\n",
    "For even finer control we can use [GridSpec](http://matplotlib.org/api/gridspec_api.html)"
   ]
  },
  {
   "cell_type": "markdown",
   "metadata": {
    "slideshow": {
     "slide_type": "slide"
    }
   },
   "source": [
    "### `add_axes()`\n",
    "\n",
    "See https://matplotlib.org/users/artists.html\n",
    "\n",
    "Total flexibility in placing the Axes: we specify `[left, bottom, width, height]` in 0-1 relative figure coordinates."
   ]
  },
  {
   "cell_type": "code",
   "execution_count": null,
   "metadata": {
    "slideshow": {
     "slide_type": "fragment"
    }
   },
   "outputs": [],
   "source": []
  },
  {
   "cell_type": "markdown",
   "metadata": {
    "slideshow": {
     "slide_type": "slide"
    }
   },
   "source": [
    "### Subplots\n",
    "\n",
    "We can add them with either `figure.add_subplot()` or create a figure with its subplots directly by calling `plt.subplots()`"
   ]
  },
  {
   "cell_type": "code",
   "execution_count": null,
   "metadata": {
    "slideshow": {
     "slide_type": "fragment"
    }
   },
   "outputs": [],
   "source": []
  },
  {
   "cell_type": "markdown",
   "metadata": {
    "slideshow": {
     "slide_type": "slide"
    }
   },
   "source": [
    "### `figure.subplots()`"
   ]
  },
  {
   "cell_type": "code",
   "execution_count": null,
   "metadata": {
    "slideshow": {
     "slide_type": "fragment"
    }
   },
   "outputs": [],
   "source": []
  },
  {
   "cell_type": "markdown",
   "metadata": {},
   "source": [
    "This is probably the most convenient way of working with the object-oriented interface "
   ]
  },
  {
   "cell_type": "code",
   "execution_count": null,
   "metadata": {},
   "outputs": [],
   "source": []
  },
  {
   "cell_type": "markdown",
   "metadata": {
    "slideshow": {
     "slide_type": "slide"
    }
   },
   "source": [
    "### Sharing axis"
   ]
  },
  {
   "cell_type": "code",
   "execution_count": null,
   "metadata": {
    "slideshow": {
     "slide_type": "fragment"
    }
   },
   "outputs": [],
   "source": []
  },
  {
   "cell_type": "markdown",
   "metadata": {},
   "source": [
    "### Gridspec"
   ]
  },
  {
   "cell_type": "code",
   "execution_count": null,
   "metadata": {},
   "outputs": [],
   "source": []
  },
  {
   "cell_type": "markdown",
   "metadata": {
    "slideshow": {
     "slide_type": "slide"
    }
   },
   "source": [
    "## `fill_between`\n",
    "\n",
    "We can fill areas of the plot with solid color\n",
    "\n",
    "The syntax is \n",
    "\n",
    "```python\n",
    "plt.fill_between(X, Y1, Y2)\n",
    "```\n",
    "\n",
    "Where Y1 and Y2 are either `np.array`s or scalar values."
   ]
  },
  {
   "cell_type": "code",
   "execution_count": null,
   "metadata": {
    "slideshow": {
     "slide_type": "fragment"
    }
   },
   "outputs": [],
   "source": []
  },
  {
   "cell_type": "markdown",
   "metadata": {
    "slideshow": {
     "slide_type": "slide"
    }
   },
   "source": [
    "## `fill_between`(`where=`)\n",
    "\n",
    "We can fill areas of the plot with solid color differently in different parts of the graph.\n",
    "\n",
    "The syntax is \n",
    "\n",
    "```python\n",
    "plt.fill_between(X, Y1, Y2, where=boolean_array)\n",
    "```\n",
    "\n",
    "Where Y1 and Y2 are either `np.array`s or scalar values, and boolean_array can be constructed from X, from Y, or from whatever you want."
   ]
  },
  {
   "cell_type": "code",
   "execution_count": null,
   "metadata": {
    "slideshow": {
     "slide_type": "fragment"
    }
   },
   "outputs": [],
   "source": []
  },
  {
   "cell_type": "markdown",
   "metadata": {
    "slideshow": {
     "slide_type": "slide"
    }
   },
   "source": [
    "#### Exercise:\n",
    "Given this code:\n",
    "```python\n",
    "n = 256\n",
    "X = np.linspace(-np.pi,np.pi,n,endpoint=True)\n",
    "Y = np.sin(2*X)\n",
    "\n",
    "plt.plot (X, Y+1, color='blue', alpha=1.00)\n",
    "plt.plot (X, Y-1, color='blue', alpha=1.00)\n",
    "plt.show()\n",
    "```\n",
    "\n",
    "Reproduce this plot:\n",
    "\n",
    "![Exercise](data:image/png;base64,iVBORw0KGgoAAAANSUhEUgAAAboAAAEsCAYAAAC1yHbbAAAAAXNSR0IArs4c6QAAAARnQU1BAACxjwv8YQUAAAAJcEhZcwAADsMAAA7DAcdvqGQAADGgSURBVHhe7Z0JlJXVtefv6+6srE6vtt9KzOu8Tq+0L/2yXLZtXqKxtRPN3HEWxRGZBxkUEBUFQSA4IagIAjIqgoKCgiNiFBVRQAQRARVRQHEAmWSoggLq1un7/879rLJyiqpbd/q+8/1+a/1XNGpx6/vOvnufffbZO2UAAAA8BkcHAABeg6MDAACvwdEBAIDX4OgAAMBrcHQAAOA1ODoAAPAaHB0AAHgNjg4AALwGRwcAAF6DowMAAK/B0QEAgNfg6AAAwGtydnQ/+MEPzEknnYQQQggVRUcffXTW4xSGnB2dPgQAAECxKLSfwdEBAECkwNEBAIDX4OgAAMBrcHQAAOA1ODoAAPAaHB0AAHgNjg4AALwGRwcAAF6DowMAAK/B0QEAgNfg6AAAwGtwdAAA4DU4OgAA8BocHQAAeA2ODgAAvAZHBwAAXoOjAwAAr8HRAQCA1+DoAADAa3B0AADgNTg6AADwGhwdAAB4DY4OAAC8BkcHAABeg6NrBtXVxqxZWWNmjk+bYb3S5vrz0uaq09Kmx6/tX995TTr4Z++tqgn+XYCkU1NjzKaPaszcaWlzd9+06XdR2lx9urWbPmekzS1d02bqvWmzbFGNOXgw+x8BFAgcXRM5dMiYF5+sCYzynFS1OSOrMzPS35+Xlf5a/1/4z8/O6Jq/pIP/9vDh7A8DSABybsvfqDGD2qcD26hrM7KL0GbOzf5/4T8/K6POx1ebWZPTpmJv9ocB5AGOrhH27TFm7F9rDVUG2vaoajOwddpMuC1tnnssbRY8U2NenVdjFs63//u3uTVm6sh08O+0+Z41XP23MuixQ9Jm7+7sDwfwEAWFs6ekzcXZdS8ndnlGfVukzZjBafPk9LR56ek6NvN8TWBDM8bZnV2nY23AGDq9wR3S5svPMl4ToJng6BpAu69Jd9bu3mS0Q7tYI33thRrzxktN18vP1pjbr0qbi7I/Sz/z4TFp0prgHVrrF2TXeYuMlKLUzkzOzGUbDWnR32oCp3hF5mfIUUpygpX7sn8QQA7g6BysXl5jLssYloz10ozu7W93bS6DzFUT70h/80Ug56kzCYC48+mGGtPtZLuulf1QUPj842mnDeQqOcq236/92fNmpbN/KkDTwNHVQYfg2nmFZwg6W1Aa0mV8+ej1F2vMbT3SwZ+hP0sFLZzfQVx5bFI6SDFKvf+UNk/PKIyDqy8dFYRHCF1PrDZf78x+AIBGwNFl2fJ5TZAmkRF1OKbaPDoxHTgkl8EVSjqnCCNVnWF8tondHcQHpRGvOycdrF9lJx68O/e0fq7SmZ7+TAWIcnqrlmEz0Dg4ugyLF9QEhSKKSAe1K1yasqnS7k5/tnZ4cq4AUWfjhzWmZWa9ysnpWo3Sia61XSxNHm7Pz+XwVPgFcCQS7+i0cwujQ1VXFjsibUiqUtNn0GfRmQRAVHl7SU3gZBSY3dEzHVRPutZ0sfX87LS5JPMZ5Gx1JqjrDAAuEu3olPOXkchYdM7gMqZS6oU5tVHyyH4YLkQP3QdV9kFBmexH1ZGutVwqKTDtfJy1mV5/TAdXGwDqk0hHJweiAhAZh87ldGXAZUTlkKLj1pnPpM/21844O4gOjz9gsx+qGp42Ojo2o3S/mjLIZnS+fmB/9gMDZEmco5PjkAORUXT8qS1VdhlPOaUoOYxSSclAFFAwKCen7IfS7K51W27pfF020+6H1aaqKvvBATIkztHddb01hi4nVAepQpfBREFyduoQoc96azecHZQPdf+Rk1PDgycejKaTC6XAUDajQJE0JoQkytHdf4s1gvY/rjbzn3AbSpQkZ6ddpz6zHDRAqdE9Ujk5nR1HdSdXXwOusHbe/ZRqug9BQGIc3SNj7eLXmVwU05UNSc4uvGun3wGgVKi6UoUnF2YUhWKtXKS+mrIZ/S/ZEEiEo1OBh6JStfWKUuFJU6U+gbqQq99Bd/wAis0nH9srBLpfOv2++NmMpBFAcnb3DSJATDreO7p1a2qC+z5qMBuX1ItLSiGppFsR9rtv4eygeOzaYYJdnOxG6f5idwgqlpQNCbsdPfUIzi7JeO3otn9lAgcng50yIr5OLpSMVb+Lomz9bgCFRgUcqlpU9mDEteW/J5evwmkK+n1WLCZATCreOjo1aG7zHbvA77kxvlFpfT00ylbAtcqIRtBQaIZ0tOm+Aa3SQV9J1xqMm1Q1qjSstG1L9heFROGtowsNVsNPfTHYULpuoN/tpstIx0Dh0NUBrStdvSl1v9diS+eMBIjJxUtHp4ITXw02lMaU6HeceT/ODvJn9QpbYamip2dmxj/N75JGcMlmdLEckoV3jk7FJzJY3fvRmZZrwfsg7VL1OypKXfsOZw/QfHbvsmfZSu1FqbVXMaTgV85uzlScXZLwytFV7DXBl78KNjS6w7XQfdKzj9riFB22098PmoPumKkM37ez7Iakq0ayFwXDG9YRICYFrxzdjS1takINm+NeLdZUjRlsf2c1tQXIFe3gtH56/zkd3Nd0rTHfNHeanf+oNC1twpKBN45O4/tlsGr7U675WOVSz9/Z313dKwCayvvv2jT/pRk9/7j/GZC6GnGdtZlB7bGZJOCFo/tsk70UrrSlrwfpR5LO63TBV19aG9eTjoHG2V9pgibNshvfz+UaUjghRDP2wG9i7+jUtLXN9+yX/MRhyTRYKUzHqM0ZjWyhMQZ3sDua269OTpq/vnSZXN2GVIRDAwa/ib2jC8+odMFV04ZdCzopCu/X3d2XdAw0jApOtE46H18dfNm71lJSpEbpKsS58udEhz4Ta0f3wWrbrFn97JR+cC3kJElfYLoQq2dCP0xwsW+PMedn1od2Miqxd62jpOn6822AOGsyAaKvxNbRqbuB0nQ6Y4hrd/Vi6PnZtVcOmLIM9el3id3BqBjDtX6SKGWCZC+ym61fECD6SGwd3eiBtVVTST1jaEj33mSfjdqgAYQoTal1oa46SatMbkwzx9sAQIOOmV/nH7F0dO+tqk1Z+triK19pirqe0cqlWC0Y8/VOE6QrlbZU4ZJrzSRd2u0qEGDAsX/EztHpgqfu/SjNoAXpWrCoJrgXpWekKxc0sYVrz7Y7Fu32XesF2RRmeE3ni80EiD4RO0d3b38bdak82vd2Rfnqruvtsxrehwg1yWhor9ZBj18np/tJc6WCFAUE7X5ECtMnYuXo1MlBi1Bz5khZNi4FAkrv6pnp2UHyUJWlUpZq2qypHq51gr4tjb9SYPDoRAJEX4iNo0tn1py+tJWOe3gMBttUqfFz2OZJzxCSRXgxXHcrXesD/b3qVmHu3J59kBBrYuPopt5rDVbRFlWWuem2HvbZjRuKp0sSby+xKctOx1JlmasUTCsT0uuP2IwPxMLRbfnc9rK8JKMX5rgXJmpYSmHq2Wln98nHpDCTgIq21J1f7a3U7Nu1LtCRdfXpNkBUkADxJhaOTgtO0dWE2zDY5mruQ/YZdjiGVkdJ4L5B9kt6aBeKtpor1QEoUNCVjKoD2QcLsSTyji6sGOv5e3pZ5qsbLrRffhppBP6igaIKarhnmr/GDskGDFdiM3Em0o5OE8MVTUlPPcJuLl+ptFwVeOdmVLkv+5DBK1QSr2YBSlPrXNu1DlBuavt9W7m89h1SmHEl0o5OaRdFU7oP5lqAKHdplJGe6c1tiFB9RI2a9X77tiADUig991ht5TJ36+JJZB3d6hU2/aLec688516AqHnSOZ2erZ4x+MPe3SbYrau7h76cXe8eNU9h0P3QKALEOBJJR1f3ztzM+zHYQmveLCJUHwm/jNU9yPXeUfOlK00KIPSdpL6hEC8i6ejUSVwGqyar3JkrjsIvxakjiVB9IGx0rt06d+aKI40Dk81cfx42Ezci5+gULamkV82I1ZjYteBQ/qoboW7/KvvwIZZoV662eGRAii+NOJKzW/4GqZA4ETlHN7C1ve+leXOuhYYKJ01/0LPu/Sci1Dgze4rdadzYkgxIsaWGFQoodBmflnrxIVKObtUye2eu8/GkX0oldbTXM9dfQ/zYvctmQLQ7n/+E+x2jwipsqTd5OJ4uLkTG0Sk6ujyzeBQtqWu4a4Ghwuulp22Eqi9K5tbFD03Y15cuGZDSSbtmHa3IbnZsy74IiDSRcXRqoiqDHdCKlkWlVji3bsxgItQ48c0VnJ9VM2euxJoxzqb9r/kLNhMHIuHoNApD0dFFGdG0ufSq2/RZDbQh+nzrCs54dnPlUI9TbYD45kJsJupEwtH1v9RGR+or51pQqPgKJyt3O5mmz3Gg7hUcMiDlkfrwKtBQGpPClGhTdkd33LEnBQZ75c9Jv5Rbqr7Uu2AsSbSpewWHApTyangfazPjb8XTRZmyO7r/8p0TmZkVEYVjSTRdWfPMIJqEV3A0isf1HlHppN20rhoo7b9tS/YFQeQou6P7burEwHBJv0RDah+lCFX/C9Hjmys4x5EBiYqURlbgoVFiED327YmAozvq359o5k5LmxefrEERkM4d1ANTEeq6NTVBo2AUDenO3GWZ96JzIbVuc70/VB7pbFsBiP7a9e5Q+XTt2Wnzy1+W2dH9y09OCnZzKDp6/AEboepe45PT0ygiUtGWvkzv6Gk7oLjeHSqPdB9VaX/NztQ0f9f7Q6VXmKH62b+W2dEVeksJhSE8ZKcSNhpS31ft5HSxn+750URfrLIZBSSud4hKK81jVL2B7OaEE3B04ODAfhNMI5c4Cyq/rvyFnSGoSfsQTdRcu90Pbdr/mZk4u3JrcAcbeChoL/sZHY4uuujyvhbKdedgtOWUhn3qPcjZVVVlXw5Eko/et91q2h5l+8ei8iicCq8mJLt2RKAYBUcXbbqcYHcSKhhyLShUXCn9Eo5T0sw5iD63X2UDE92tc71TVHx1OtZ+b8nhCRwdHJFPN9gIVYUprgWFiqshHe2X5rBeabpvxIT9lbVp/4Xz3e8VFU9TRlibUYu2MAOCo4NGuedGu3BGDSBCLaXqp18gPsybZW3mhguxmVJKGZAWmeeuCtgP19ZmQHB00CiKilQ2fW5GzAksnTSVoG76BeKDClM6/tQWpqga0/V+UeF1cxsbYGgiS90MCI4OmsTLz9rClD5nYLSlkIZ61k+/QLzYuN6m/TVlwvWOUWH17KM2A6KWbPUzIDg6aDLdfmV3GE88iLMrpnSu40q/QPwYca0NWDTr0fWuUeHU4Rj7/aQ7p/XB0UGT+fzTmiBiUhsq10JDhdGAK+yX48h+6SAFBvGl6oBN+3MftbiaOMzazFWnuTMgODrIidED7YJSgYprwaH89PQMm37RIFw6oPiB+l/KZtRz0fXOUX5SBkTBhDIgusfoAkcHOXHwoAna6mhRvfKce+Gh5kudNZR+0Zcj+IPmbeq9zpmKsyu0wgzIvTc1nAHB0UHOqKGwFlbP32G0hdS4odZge/85HQQU4A+bN9q0P/dRCytVtOq5auKKpns0BI4OmsXVp9sJB7Mm4+wKIe2OdY6jKxyq1gP/0I5DgYzOXl1rAOUmTY1olXme+h6S/RwJHB00iy2f2whVZ0lacK6FiJqua/5ivwR1qE4Bip+oSCJM+2usj2sdoKbr7r7WZnQp/9Ch7ENuABwdNJv7b7ELTb39XAsRNU0zxtndcdvvV5uKvdmHC16y9FWb9u96IinMfKQB0er/qiKULzY3Hhni6KDZHD5sgh2dFpxaHrkWJDqy1LKoZfYZLn+DrVwSuLGlDRAfuAubaa50p1fP8NGJTesahKODvFizMjuWJLMbcS1IdGQNap/dFV+dNtXV2YcKXrPnaxOkL7Uboelz7lKAIJvRZBXNzWwKODrIm3Asie7YuRYmcktDVHXO6WpZBH6jdlWyGWY95iZdug/vzH2wuukZEBwd5I26P4Qtqzhkb5pUwKMeiNoN65lB8ginxs+egrNrqlR4ogBBk1RyKdrC0UFBWLzAHrLLeF0LFH1bYcVY3xaNV4yBn4SVyxrDROVy4wqLtnSlYN+e7ENsIjg6KBjhIbs677sWKrJS4Y6KT7QL1pcdJJcH77Y2M6gdNnMk6SxTVzOaW7SFo4OCsXe3CS48Bw1smVvnlCL3Nt+xKSud0UGy0cw0rQft7JgK0rCuP98GBPXnzDUVHB0UFN1v0YLsfgopTJfuvMYa7PXn0eYLLGF7MF0zUXs917pJsh4Za1OWOtNWxWpzwNFBwQmjr/G3EqHWVTiZQCmYLz8jZQm1PDzG2ky/S7CZuso3ZRmCo4OCo+4eYQmwuvC7FnDSpJSlGvoqMn1+NilL+DaqIOz4M7s+Zo7H2YUKg2aNBWtOyjIERwdF4c3X7EXydj8ihSnd0tUabP9LSVmCm6++NMHORTsYdcxxraMkSbtcfYe0zkjn//mAo4OicWs3++WuA2TXQk6K5j5kU5Y6g9m+NftwABxo7IxsRk2+XWspKVrwjL0YLsf/zpv5p/lxdFA0tHPRHSEtVnWCcC1o36UzBjk4ObrGRokAiKtOszuZJPfC1H1cOfyJdxRmmgeODorK++/aFKYGIybxUmw4fmdYL3pZQtNQOzhd0dEZt6qYXevKZ2len2ymx6lps78y+1DyBEcHRWfCbXbhqguIa2H7KlWd6vdu/+PcOzlAsgnPuFVSn6QAMaxMVjMFXbsoFDg6KDpKPYR9/SbdmQxnF3Y/UWS+/j1SlpA79/a3gZImXLjWmG9Sml9HHXJ0858orM3g6KAk7N5Vm455/nG/DVcVc5dlfk85dhWiMDEcmoPK6TX+SutIl6Zda80nXX16bZpfsy4LCY4OSsbKpbXndT53gOj9Z2uwQzrSsBnyQ1cOFByqtZ52Oa715oNUmS2b6Xx8cabs4+igpEwcZhd0z9/7GaHqYqt+vw7H5H/3B0AsfdUGiJrm7+P9uscm1XYM+nRDcdIfODooKUrj9TnDOgP1fXQt/LhKY/1Dg930EflKKBzhVO2ev/PLZl6YUxMcaeg8W2d0xQJHByWnqsp8c4Y1bbQfhqtzx9BgFXUDFBIFiJpG7lOAKMemYwx9D0wZkV+Lr8bA0UFZ0NmDzh10/hD3y+QaSaRqMRnsQ6OKa7CQXOoGiHIMrrUYF+nKxJU/t5fCh3Ypfls8HB2UDbX2UapPrX7i2vxZRTXtfmgNVpE2xSdQTLZ/ZRumy250tuVak3HQgCvs7lSXwktxxxRHB2VFDk4RqnZEcRzW2vtP1mDVZb1yX/aXAigiG9bVBClyZUOeeyx+zi6cyahpHnLcpQBHB2Vn5v124asLRJyuHdzY0n7ujj+tDu4JApSKZYtsgKgOInFqE3bvTbaPp/q/bvywdGfZODqIBPcNsk6jw0/iUUI9oJX9vG2+U222bcn+EgAlRPfq5DRU5RsHZ3f/LdbJ6fOuWVnagi0cHUSGO3pa56Ezryg7u0Ht7OdsldEXm6mwhPKh1GUcnJ363epcUZXJKxaX3mZwdBApRlyb3Sl9z96rcRlNuaRKsX6X2M+n84XPNuHkoPw8M7PW2UWxvZ6mEejzyckteaU8NoOjg8gRNrNVKfVLT7uNp9TSDrP7Kba6UmeJheysDpAv6vovZ6IrO3OmRsfZ3daj1gmXYycXgqODSKIpBzIQlVLPnVZew9XAVO0w5eQ0hYEp4RBFlHFQNaY0dWR5bUZFZdefZwPWizPSXMpygqODyKIzB+X1ZbjluiA7e0o6iEZlsDdcmDZ7vs5+OIAIsm6NbamlIFG7qXLMslORjM6vZTOavhCF7AeODiKNIsHQcNUCqZRFKsP72AN0afTAtDmwP/uhACKMqoB1hhw6mlI2Y1BLP6VPZa+qTP56Z/ZDlRkcHUSeXTuM6fYra7jaXc2aXNzdnSrZdDdOf96FGSl1WV2d/TAAMUDrVVXMcji6WD7xjuLazMvP1phef7R/njIwaoVXdSD7YSIAjg5iw8zxdoclY9KYn0LP51KV581tav8MDYL8/FOKTiC+KHWpHZaCttYZaRCwa+03V/r5Y4fYXZz+jPY/rjarltVEbtgwjg5ihRxPWP0oh9TvonTeqRk5OE01VuGLfq4Oz7WrUxNdgLizv9KYW7vZ3ZZ01WnpoErTZQtNlRzc+FvTwYw82YwcnQrIStG3sjng6CCWqFRZXUlkZDLeLifY9ExTz/BkqA+PSZtr/pIOUi36OToLHDUgHaRKAXxDMxJ1BBA6PF2T0VWeBc+4bcQl7Qj7X1obFMp2dBangalR28XVBUeXB3qxakq6ekWNefO1jBbWBH+t/y/KL90nFi+oNV4ZnnZ5OoiXA1PVmVqLqfWQ0itqJqvmyzqg17mF/n1JM7H075SqwWzSUV/QD1bX2oxSXeowwzloafjo/RrTt0VtgCfbUVN1per/2jkd9KPUbm3sX9NmxHXWsenMWoFgaDM6K7/9Kuvg4jCWCkeXA3JeK5faNJeiIX2phi++vvTP9O/oQFjjaHB8xUVl/9qhaexHWKXpei+SnJx2gzLUd9+qoZqyyGgnMWaw/bKsG2DUl96Z0sZqsaZJFocPZ38AFAWl5pWiv/bsdFB0dSSbkVNUQDiwtc2aVOzN/pCYgKNrAiqR1RY/3K5L6hre6djqINq563ob/Ywbav9a/5/+Wd1/X3+tVjhRKbf1GQUV2jVop6C7eGqRJINW+yHd6dE5AsNRi4u+RKffV3uGI+kcR31MdR9Ru+vQZmQXg9qng525utqHX7j6cpXT27ieKLEU6CzvvVW2QUJoMzq/1lggBZJxDjxwdEdAZzXayoc7NxmhpuHm0k/u+dlpM/TKdPDf6mfoZ+nvo3poC5APGjyrNHC4c9PuWuOMcqn2U6m6AkZdOpbTk3r+DocHzQdH50A7AkWjYQ5b7Z8eGZt/Wa5+hkp89TP1RaBUGzsL8AVF/2EXGZ35aMeWb2cOVQeqyjZ0eLrETzUs5AqOrh7aputsTcaqvLWckcsA89EDd9W2lVLjYp1hAMQVpYl7/Nr2NVQAp1Rkvg6uvuTwQrvUMYB6KQI0FRxdHXQhWVGj0os6MyjmtGv9bN1t0Z8lPf4AWzuIH5p0HRb/9P5zOjjfca33QklVtOHlZJ3zkRGBpoCjy3DwoAkuHst4dJaW72XKXKSRGuHuTtVPpGUgDii9r0pKOTjt4h68u3Q2o3tfuiIim2l7VLXZsS37oQAaIPGOTiNXlD6U0egsoBzDPvVn6rBdn0EH8FRmQpRRwYl2b1qvurP4whz3ui6mlBod0tE6Wu3wVC0I0BCJdnS67Kh8v4xFd+NcBlVK3X61NVxdXfjkYwwXoofuT4W7KV3KL/RZXK5S82AVjSn9X67p1RB9Euvo1JlBKRcZiHq0uYyoHJpwmz2302dbsxLDheig7IcudMvJaTflWr/lkNL/2tUpSJw3i0M7+HsS6ejU3URRoFSIawOFlopiws+Hs4MooHMwnSXLmahFlGvdllNycMqE6PPJ8QHUJXGOTrl8ORDtmFTp6DKaKEiTrUNnV+4x9JBs1Dgh7Fiiy+Cu9RoFvfR0zTetrNjZQV0S5eh0R04OTs4jyk4u1GOTap2dRuQDlBq1ftLlbzkPVVm61mmUpJZv4c5T1ZkAIjGOTnPMdN9H518z74++wYYKnZ3OILZ8juFC6dCEaFVVymlEMV3ZkDSQNywy03QLgEQ4ur277fmCnJyqtFzGEWXpM8tolT6iRyaUAl3EDgfcRqEiOVcpdangUEHixx/g7JKO945OHbfVMV2OQp3SXUYRB40eaJ2dfhfdYwIoJmpmLienuWWu9RgH6XhCwa12dzu3Z38xSCTeO7qw40mUyqGbq/DLRx1UmG8HxUJdTrTOOh9XXfZ7cvlKV4cUICoFS9eh5OK1o9OdNBmshnG6jCCOCjuoTBlBVRkUHq0xOQYN2dSAzfrrL47S8GPZTO8/ESAmFW8dnSJRGazae/lisJJ+F30J6XfjoB0KyZef2as3OttS9aJr/cVVYcsy7fAgeXjp6FSdqGsEMtgXn3Qv/DhLvQX1u+l31JcTQL6osXkYQMWpKrmp0rSQ8Pd78zVsJml45+hUqBGWRM8Y55/BhtLvpt9RxktxCuSLik604xlxrb82o2sHCg4ltTOD5OCdoxvUzhqsGiS7FrtPUtm3ftfBHUjHQPPRXU2tIw1Pda0znzRttA0QNcS1ujr7AMB7vHJ0ujsjg+18fLVzkfuoTsfau05KZwLkysYPa4ISfLXO8uks+0gaemV293odAWJS8MbR6VxOB+m6M/PqPPcC91Ga6KyOL/rdOa+DXNC5nKYRyNHNfcj/3VwoFaq1+Z493lj6KjaTBLxwdOriEC5cpWFci9tnadoB6RjIlUHt7c7mruuTZzOqKg0L1nbvyj4Q8BYvHJ26hshgfbgU3lyF6Rj1JARoDDU81npJUpq/vh64ywaI3U6u5n6d58Te0a1aZu/Ltcoo7l0c8pF+dz0DPYvVK7BaaBjtYLSTUcpbqW/XekqKrj/PBojKioC/xNrR6YxBh+g6n3r+8eTu5kI9P9tOOtAzod0RNETP39udzNR7sRkV4MhedE7JGbe/xNrR3dqtNl3nWsRJlJ5FmMYFqM+zj9r1oXZYrvWTRM2abB1/+x+TwvSV2Dq6FYttyrLdj5J7xtCQOv7UXjlY8gpWC7Xs2GZqK5Ofd6+dpGpAKxsA6J4d+EcsHZ3ScpovJ6P1rSdfIfTS07airEVGGp4JILqeaM9wHxnLbq6+1CJM8x6VwvxsEwGib8TS0Q3tYqOv+wZhsA1p7BD7jPSsAGZPsetBxReu9YJqzBMP2hSmriqRwvSL2Dm65W/YlGWHn5CybEx6RnpWK5ditUlm2xabslQWJCndT5qrm9vYgEBXD8AfYuXolIYjZdl0qS2YnpVSMjR+Ti7dT7EBz6MT2c01JqUww24xpDD9IVaOTo2aSVnmprv72mdGX79koms3ev99zsBmmqo5U20Ks+PPSGH6Qmwc3QerbcpS+XPX4kQNS63B9OzWrcFqk0TF3tqL4Unq/1oI3djSBghPTidA9IFYODr1stSMOaUTNKHAtTBRw3rusXTw7DRtnV6YySEsmddUbde6QA1LZ5m6hqHq5T1fZx8oxJZYOLqpI63Bqp+ja1GixhVerp88nAg1CYRFW52PIwPSXKlzjGxGQ2kh3kTe0aliTLsRFVQkuZdlvtKzuyjzDPUs9UzBX1R4JHuhaCt/dfsVzRd8IPKOLqwYS+L4nUJLz1DP8qrTiFB95t7+dieSxPE7hZamPCh9qWpv9daFeBJpR6doVAZLxVjh1OuP9ktQLaDAPz752KYsdabtev8od40aYG1mxLUEiHElso5uf6UJqsWoGCusNJZFEaoO2plw4B+djrUZEFULut4/ap7CyuWN6wkQ40hkHd1tPWwUNf5WDLbQ0j1EIlT/0JgmvVcVT7jeO2q+np5hK5c7HEPZchyJpKPbsM6mX9oeRfqlWCJC9YsD++tkQJhMUBT1u8gGErquA/Eico5OnQjaft9WB2p2lmvBofwVRqjtfkj3Bx+4o6f9Eh43FJsplhbOr/kmmNDRCsSHyDm6px6xBnvTZRhssdX/Uvus504jQo0zGz/Mdg36DhmQYmvCbdZmdC8V4kOkHF3lPtuySIUSdFkvvup2f9i3J/sSIHZoSoV259qlu94zKqyUcVJg8dH7pELiQqQcXThnbuIwDLZUmjLCPvMBVxChxhGl9/X++l2CzZRKYUs91RCQ9o8HkXF0H6616Zd2PyL9UmqpS7ue/ZqVWG2c0DlR2LRZ50eud4uKo7CPKE2f40EkHJ2iotaZRaMoSdGSa2Gh4kmjXPTsdcmYCDU+hP1LdW7keq+oeArT/go0dOQC0SYSjk7zn2SwA1tjsOXSkI72Hcy8nwg1Duh8SLtwnRe53icqvjQVQjYj24FoU3ZH98tfnvRNpw4KUMonTVYOp7fv3pV9ORBJgis4R3EFJwpq/2Ob9te8TIguZXd0/3z0iUFUpKII10JCpdNDo2yEqsIGiC5cwYmONB9TAYcaMJD2jy5ld3TfTZ0YlEe7FhEqvcJeiauXY7VRhCs40dOgdjbwePwBAsSoUnZH9x8zjm72lLSZ/0QNioCmjU4H6ctWqYOmevtOU7MTRUnDehwMvlRH9sNmoiLt6sL7qHu3VjrfGyqfnp28u/yO7r/98ESzbFENipA0hVxfplNbLzLVs2ehiOj9O5/MvJdDpsepaed7Q+XT9PuszQw+4xNzeOYM5/tDpdeuqU+Ys1J7y+/oCv0BIH901tAqtc+cmaow25953VQvfBWVWYdffdW0SX2RMdqDTIiPKLal3iGzeuxrzneISq9Bf1ifeSeHcXTgZu2Kw4HR9v3VRucCQqXVnBvfCXYMU24/kH1DEDV2bjeZQKTKXJbaGgQmrveISqc1U94MvsNuPLcCRwcNM7jVviAaWj72LedCQqXRnvmLzNmpveaizA778OHsy4FI8vDI/UFAMrPPu853iUojBRqXZwKOs1IHggAERwcNsudrk/mC3Z/5gt1uDr7sXlCo+BryZ6Vfqs2yV/FyUSedNpkd3b7MF2yF2fkcaf9y6dE+qwKbmX7P/uC94OjgiDwxwUaoU7qtdS4oVFytnbI08/wPmb5nVWTfCESdVUuV9j9s+v/mY+c7RcXVrucWZQKNfebSTLChwEPg6OCIqDClTWqvOTNVabY++YZzYaHiqG76Zce27AuBWDDwooogQFk5YZnz3aLiacBpHweBxqoltRkQHB00yrpVtjClz79tci4sVByF6Zdpd9v0C8QHtdFT2v+S1DZz6BX3+0WF16pJtgDlpgu+nQHB0UGTuKWdClOqzZJRy50LDBVWOt+pn36BePHYWJv2n3b1auc7RoWVAopLU18FGZBdO7IvIQuODppExV5jzslEqBemtpuqlxc6FxoqnPr/Opt+WUoBSlzhPmpp9XCvd4PAYuZ9f38FB0cHTeapqTZCndCJwpRi6u1xNv0y8GIKUOLOe29n76OevMH5rlFhtONZZUAqzOWZwMKVAcHRQZNRhNr+P6swZb/5cs5i54JD+Unpl4tT28zZqQOMS/KEIVeoMOWwWT6GwpRi6cZTbAZk9TJ3BgRHBznx0drqIELtdewnzgWH8tPU7qszz7fazLqfDii+sHe3LUxpyX3UomjFuGWBk7v5soYzIDg6yJlhVypCrTaL7lnhXHioefrqqTeCaxytU/uYbeYZcycfCGxmSlcKUwopBQ5NyYDg6CBn9ldqJlqlaZHaYaoWUJhSKF37843BbvmDVdXZJw2+oMCl7b9TYQr3UQupCR3WBAHEE5Oqsk/aDY4OmsW8GVXBAhvb5j3nAkS5aeHw5cHzvK1jJooAL/lwjZ1u0OtY7qMWQptnL8kEDgdMh//aeAYERwfNQgur078oQj1gPp21xLkQUdNU+eJr5rzUrowqg90y+MvwHpVBQLPgjredawE1XZ3/02eZ75+DZtP6xi+a4uig2WiBaaF1TH3OWJI8dPu564Ivv1efOZR9suArVQeMaZEJaM5J7TZ75zO3rrl6eqAdWzWmf9O6BuHoIC/uv9nerXv8hlXOBYmOrHBmVp8/cGcuKSx+6VBgM4P/uN65JtCR9fU8O7aqZarCHGpibIijg7zQfLRLMgtOlzW3PUX3h1ykO3OXZFsW0bQ5WfQ71zZ9VnMA19pADSvsGrRiUdO7BuHoIG/WLLfdH3odxyF7LprcxVaMzR7PnbmkETZ9pqVeblo22t6ZG3hxbofZODooCMO62kP2F2/jkL0pCivG2h/Nnbmk8sx0W7k8uhWVy02RirZapHYGPXd1CT8XcHRQEOwhe0VwyL5n/iLnQkVWKtzpkPq8yRVj4CcKcLoerxRmlfnoYSqXG9Mtf/kwCAxempt70RaODgrGkgX2kH3A6R85Fyqymt7TdlmfdAtz5pLOl5vT5qyMo7sstZX2YEfQW2OUsjxk+p7RvKItHB0UlJsuVArzsHltBHPrXNr0qE1Ztmmgyzokj1njbHuw+64ghemSUpbnp3YFKcs9X2cfWo7g6KCgaG7d+dl7QioDdi3cpEpVllektmQcXZX55CO8HFhqU5gHzdopS51rJ8n66/9bHwQCLz95MPvEcgdHBwVn2StKYR42ff43VZh1Nanz2sBgp91FyhK+zbYtNUFj4pb0j/2W3hz9VsZmDpkbzt6XfVLNA0cHRWFYVzvh4Jmb33Eu4KRp/fSlwU6uKX35IJk8O92mMO88f51zDSVNNmW505zbjCrL+uDooCgcPGjMRSn1wqwwW+Yku1u7igwuDS6GVwXFBwANcc3v9gU7mBVjGdKqojY5/kK0xsPRQdH44B1dJD9oOv5Dsnthjrzk/cBgZ3ExHBpBF8lVdKGdTMXfktsLc/5f3w5sZnCrwnQ5x9FBURk/yPbCfKj7u84F7buWjrJl0VefUkHKEpqEdjCymRtO3uBcU77ryzmLg5aC6mWp+7mFAEcHRUUl9G3/oSI4n3rvgWRVlO187vWg+lTjd5pbFg3JRHMJ5ezm9EvWGbcqk9umvsx8Xxw0694t3ABiHB0UnS2fpYOKMrXvScpoEqVqu/7T5mA3t3wh43cgN9SV/7LMjubM1H6zYUZyuqaMaW0rkx8aUdg0P44OSoJNxxw21/yvZFw5eKDr6sBgmzovC6A+n35su6ZcnNpmDrzk/5WD1+/RlP1DpvsvCp/mx9FByRh+lU3HPNzL7/M622H9oOnwzxV0P4G8CBs/3/Qbv9vq2XO5vUGziWKk+XF0UDKqq41pk7JNbFeO93MOl65SaCikzuV2bs/+4gB5MKS1DRBn9PZzuLHGFF2e2hqcy723snDncnXB0UFJ2bbFBBdAz07t8e5+nTpatMoa7OplTR8KCXAkNNy47Xd1v+6gl/frBv/Btvgq5lxGHB2UnFVLDwfOQJeofTp7GPBbe8GVQapQaLZ/VRsgbp3rT4AYTvIY0LIw9+UaAkcHZeHJB2y7o+tO3ODFZfKJnWy1WKEuuALUp26A6MNl8oXDbfGJhg+ryrSY4OigbNyRnUo+6rJ4jyeZN3hlYLBdjq0IziEBisXT01Sccthc+U+bYz2/7sOHNK6q0lyQqgi6wRQbHB2UDVUk9jzVOrtHesezEnPFuGUZg60yl6T2mcr8GqwDNIkJQ2y3oYG/jWclps7mz019bc5KHSjZhH0cHZSVqipj2v2jbWSr/nYuw4iqFJWelXFwOjv56gv6e0HpGHKFDRB1wdq1NqOqHc++ntnF7QhSsG++XLpGCjg6KDv79pjMjsi2CVs88i2ngURNHz28JLhGoI4vH64mXwmlRdmQHidZZzep0xrnGo2a9sxflLHzbRk7P2Reear5Q1SbA44OIsH2rca0SMlwD5hFdy93GkpUtGnmYnNOak+Qennvba4RQHnQKKwrj7NzH6d0jbazU/GMpusrc/Pcw6WvSsbRQWTY+nk6OJzWhfJXhq1wGky5tXHmkqBRs1ozvfsmTg7Ki1L/Xf6ndXZqO+das+XWrucWmctSWzOf8bCZdX95rt7g6CBSbNtSE4znkLOL2pmdurnoTE5O7u3XcXIQDeTsOh1jnd3dF30Qqes6Kjy5MLU989kOmbmTy3e/FEcHkWPHNmMuDpzdITOh49pIGO6CO942Z6YOBIUnhRwfAlAI5Ox6/9Y6u+t+uSno0uNax6XUx48sCaorVXiyYG7mA5YRHB1Ekoq9xnQ93hruDf9nQ9kMV07WTiI4FOw0v9xMl2aIJur4f2d3azPtUl8E8xBda7oUeuGWlRkHVxlkP5a9Uv4xVTg6iCyqLLu9izXcy1NbzCePlXYu19fzFpnuP/k0+PM1iYDhqRAHHh6pe3aHgrPkJaNKW8Wswal3XrAu8+cfNhdlAsNS3ZNrDBwdRJ7ZEw4EVw80hHJmn3dLkspU81ylXfSFMbpvJeN2IFZo2K8maGj96tyuFF1UdOWmderLIDDs8/sKsz9C3fBwdBALNn1YbVqldLG82nT5x81Fm7q87anXg1SpItJzMo516QKmg0M8UQai56k2I9Iytd28MbI413Z0rDDq8vczf46C0Soz/Z79BR+cmi84OogN6iM59qb9weG2RpYMOO1js/XJwnRy3//iQjO5y5rgXEFR8JBWpCoh/sjhzJ1SFQRtcnjd//unwRUZlw3kKmVWnh30jmmR2mF/9r/ti+wZNo4OYoeM6caztbtTN/cD5qbfrDfvP7jUaYyN6fPHF5u7W74fdDmRsbbO7Bq5BA6+oT6sI65S9yEFiYdMj//xiVl0z4pmHQPoXtzU7qu/cXBq9DBvRnmrKhsDRwexZf3atOl9ulIzhwKDuyC13dx65rrgKkBDM7tUYLJ41Apz76XvBQUu4X+rfpuvzTscuZQLQCH5YnONGdquMuvwqoOClf6nfmSeGvCO+XTWkqCYpL7NKNvx9vi3zKQuq02n/7A5899pgkJ1UGyiC+AaDBt1cHQQezS1fNLQ/aZVcPfucGCEkr339nUm4txpzkvtyvy9Pa8IdWHm74dfVWk2fEClCSQL7fBmj68yXX4W7vJCu1Cac3ewW5PNqEFCXZs6L7XfDLy4wixfVB2roBBHB16hBtEL51UHo0wGX15hev7ffab7LyrM1SdXmJsu2GfG9Ks082cdDnprAoC9bL7ijbSZOvyAGdq2wvT5/T7T7QRrM33PrDB39aw0Tz100GxcXxPbjAeODgAAvAZHBwAAXoOjAwAAr8HRAQCA1+DoAADAa3B0AADgNTg6AADwGhwdAAB4DY4OAAC8BkcHAABeg6MDAACvwdEBAIDX4OgAAMBrcHQAAOA1ODoAAPAaHB0AAHgNjg4AALwGRwcAAF6DowMAAK/B0QEAgNfg6AAAwGtwdAAA4DU4OgAA8BocHQAAeA2ODgAAvAZHBwAAXlN2R3f00UcHHwIhhBAqhuRnCknOjg4AACBO4OgAAMBrcHQAAOA1ODoAAPAaHB0AAHgNjg4AALwGRwcAAF6DowMAAK/B0QEAgNfg6AAAwGtwdAAA4DU4OgAA8BocHQAAeIwx/x/Kb6UXGLoltQAAAABJRU5ErkJggg==)\n",
    "\n"
   ]
  },
  {
   "cell_type": "code",
   "execution_count": null,
   "metadata": {
    "slideshow": {
     "slide_type": "slide"
    }
   },
   "outputs": [],
   "source": []
  },
  {
   "cell_type": "markdown",
   "metadata": {
    "slideshow": {
     "slide_type": "slide"
    }
   },
   "source": [
    "## Line properties\n"
   ]
  },
  {
   "cell_type": "markdown",
   "metadata": {},
   "source": [
    "### Color\n",
    "\n",
    "https://matplotlib.org/tutorials/colors/colors.html"
   ]
  },
  {
   "cell_type": "code",
   "execution_count": null,
   "metadata": {},
   "outputs": [],
   "source": []
  },
  {
   "cell_type": "markdown",
   "metadata": {
    "slideshow": {
     "slide_type": "fragment"
    }
   },
   "source": [
    "### Colormaps\n",
    "\n",
    "See https://matplotlib.org/users/colormaps.html\n",
    "\n",
    "You need to choose the appropriate color.\n",
    "\n",
    "Often, for powerful visualizations it's good to use a muted palette for most of the visualization and reserve one or two accent colors for the points that you want the audience to concentrate on.\n",
    "\n",
    "If you want to use color to encode variables, choose the appropriate colormap according to the kind of variable that you want to encode.\n",
    "\n",
    "\n",
    "#### Sequential\n",
    "\n",
    "![Sequential Colormaps](https://matplotlib.org/_images/grayscale_01_00.png)\n",
    "\n",
    "#### Divergent\n",
    "\n",
    "![Divergent Colormaps](https://matplotlib.org/_images/sphx_glr_colormaps_004.png)\n",
    "\n",
    "#### Qualitative\n",
    "\n",
    "![Qualitative Colormaps](https://matplotlib.org/_images/sphx_glr_colormaps_006.png)"
   ]
  },
  {
   "cell_type": "code",
   "execution_count": null,
   "metadata": {
    "slideshow": {
     "slide_type": "slide"
    }
   },
   "outputs": [],
   "source": []
  },
  {
   "cell_type": "markdown",
   "metadata": {
    "slideshow": {
     "slide_type": "slide"
    }
   },
   "source": [
    "#### Exercise\n",
    "\n",
    "Given this code, try to reproduce this graphic taking care of marker size, color and transparency.\n",
    "\n",
    "```python\n",
    "n = 1024\n",
    "X = np.random.normal(0,1,n)\n",
    "Y = np.random.normal(0,1,n)\n",
    "\n",
    "plt.scatter(X,Y)\n",
    "plt.show()\n",
    "```\n",
    "\n",
    "![Color exercise](data:image/png;base64,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)"
   ]
  },
  {
   "cell_type": "code",
   "execution_count": null,
   "metadata": {
    "slideshow": {
     "slide_type": "slide"
    }
   },
   "outputs": [],
   "source": []
  },
  {
   "cell_type": "markdown",
   "metadata": {
    "slideshow": {
     "slide_type": "slide"
    }
   },
   "source": [
    "### Markers and linestyles"
   ]
  },
  {
   "cell_type": "code",
   "execution_count": null,
   "metadata": {
    "slideshow": {
     "slide_type": "fragment"
    }
   },
   "outputs": [],
   "source": []
  },
  {
   "cell_type": "markdown",
   "metadata": {},
   "source": [
    "\n",
    "While most ``plt`` functions translate directly to ``ax`` methods (such as ``plt.plot()`` → ``ax.plot()``, ``plt.legend()`` → ``ax.legend()``, etc.), this is not the case for all commands.\n",
    "In particular, functions to set limits, labels, and titles are slightly modified.\n",
    "For transitioning between MATLAB-style functions and object-oriented methods, make the following changes:\n",
    "\n",
    "- ``plt.xlabel()``  → ``ax.set_xlabel()``\n",
    "- ``plt.ylabel()`` → ``ax.set_ylabel()``\n",
    "- ``plt.xlim()``  → ``ax.set_xlim()``\n",
    "- ``plt.ylim()`` → ``ax.set_ylim()``\n",
    "- ``plt.title()`` → ``ax.set_title()``\n",
    "\n",
    "In the object-oriented interface to plotting, rather than calling these functions individually, it is often more convenient to use the ``ax.set()`` method to set all these properties at once:"
   ]
  },
  {
   "cell_type": "code",
   "execution_count": null,
   "metadata": {},
   "outputs": [],
   "source": []
  },
  {
   "cell_type": "markdown",
   "metadata": {
    "slideshow": {
     "slide_type": "slide"
    }
   },
   "source": [
    "## Other attributes\n",
    "\n",
    "http://nbviewer.jupyter.org/github/WeatherGod/AnatomyOfMatplotlib/blob/master/AnatomyOfMatplotlib-Part3-HowToSpeakMPL.ipynb"
   ]
  },
  {
   "cell_type": "markdown",
   "metadata": {
    "slideshow": {
     "slide_type": "slide"
    }
   },
   "source": [
    "### Histograms"
   ]
  },
  {
   "cell_type": "code",
   "execution_count": null,
   "metadata": {
    "slideshow": {
     "slide_type": "fragment"
    }
   },
   "outputs": [],
   "source": []
  },
  {
   "cell_type": "markdown",
   "metadata": {
    "slideshow": {
     "slide_type": "slide"
    }
   },
   "source": [
    "## Text and Math: $\\LaTeX$\n",
    "\n",
    "$\\LaTeX$ is \"a high-quality typesetting system; it includes features designed for the production of technical and scientific documentation. LaTeX is the de facto standard for the communication and publication of scientific documents\" ([$LaTeX$ project website](https://www.latex-project.org/)).\n",
    "\n",
    "It's widely used for writing mathematical equations that need to be rendered accurately.\n",
    "\n",
    "We can use it in pretty much any place we need to use text.\n",
    "\n",
    "This is a standalone formula\n",
    "\n",
    "$$f(x,a) = \\frac{x^{2a}}{3}$$\n",
    "\n",
    "This is an inline expression: $\\sqrt{3}$, which you can use in matplotlib charts."
   ]
  },
  {
   "cell_type": "code",
   "execution_count": null,
   "metadata": {
    "slideshow": {
     "slide_type": "fragment"
    }
   },
   "outputs": [],
   "source": []
  },
  {
   "cell_type": "markdown",
   "metadata": {},
   "source": [
    "[Different font families](https://www.oreilly.com/library/view/matplotlib-2x-by/9781788295260/9af01705-e09c-4d1e-a036-ca0260d5003b.xhtml).\n",
    "\n",
    "\n",
    "*  'serif': Serifs are small decorative flourishes attached to stroke ends of characters. Fonts such as Times New Roman, Century, Garamond, and Palatino are serif fonts.\n",
    "*  'sans-serif': This means without serif. Fonts such as Helvetica, Arial, Calibri, and DejaVu Sans are sans-serif.\n",
    "*  'monospace': Monospace fonts have characters of the same width. They are usually used for code.\n",
    "* 'cursive': Cursive features connected brush strokes, usually in italic, that give a sense of classical elegance.\n",
    "* 'fantasy': Decorative fonts that look funny."
   ]
  },
  {
   "cell_type": "markdown",
   "metadata": {
    "slideshow": {
     "slide_type": "slide"
    }
   },
   "source": [
    "## Legends"
   ]
  },
  {
   "cell_type": "code",
   "execution_count": null,
   "metadata": {
    "slideshow": {
     "slide_type": "fragment"
    }
   },
   "outputs": [],
   "source": []
  },
  {
   "cell_type": "markdown",
   "metadata": {},
   "source": [
    "#### Exercises\n",
    "\n",
    "![image.png](data:image/png;base64,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)"
   ]
  },
  {
   "cell_type": "code",
   "execution_count": null,
   "metadata": {},
   "outputs": [],
   "source": []
  },
  {
   "cell_type": "markdown",
   "metadata": {},
   "source": [
    "## Styles"
   ]
  },
  {
   "cell_type": "code",
   "execution_count": null,
   "metadata": {},
   "outputs": [],
   "source": []
  },
  {
   "cell_type": "markdown",
   "metadata": {
    "slideshow": {
     "slide_type": "slide"
    }
   },
   "source": [
    "## Ticks, tick labels, limits"
   ]
  },
  {
   "cell_type": "markdown",
   "metadata": {
    "slideshow": {
     "slide_type": "slide"
    }
   },
   "source": [
    "### Ticks"
   ]
  },
  {
   "cell_type": "code",
   "execution_count": null,
   "metadata": {
    "slideshow": {
     "slide_type": "fragment"
    }
   },
   "outputs": [],
   "source": []
  },
  {
   "cell_type": "markdown",
   "metadata": {
    "slideshow": {
     "slide_type": "slide"
    }
   },
   "source": [
    "### Tick labels"
   ]
  },
  {
   "cell_type": "code",
   "execution_count": null,
   "metadata": {
    "slideshow": {
     "slide_type": "fragment"
    }
   },
   "outputs": [],
   "source": []
  },
  {
   "cell_type": "markdown",
   "metadata": {
    "slideshow": {
     "slide_type": "slide"
    }
   },
   "source": [
    "### Limits"
   ]
  },
  {
   "cell_type": "code",
   "execution_count": null,
   "metadata": {
    "slideshow": {
     "slide_type": "fragment"
    }
   },
   "outputs": [],
   "source": []
  },
  {
   "cell_type": "markdown",
   "metadata": {
    "slideshow": {
     "slide_type": "slide"
    }
   },
   "source": [
    " "
   ]
  },
  {
   "cell_type": "markdown",
   "metadata": {},
   "source": [
    "### Axis scales\n",
    "\n",
    "\n",
    "![imagen.png](data:image/png;base64,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)\n",
    "\n",
    "\n"
   ]
  },
  {
   "cell_type": "code",
   "execution_count": null,
   "metadata": {},
   "outputs": [],
   "source": []
  },
  {
   "cell_type": "markdown",
   "metadata": {},
   "source": [
    "### Saving Figures to File\n",
    "\n",
    "One nice feature of Matplotlib is the ability to save figures in a wide variety of formats. Saving a figure can be done using the ``savefig()`` command.\n"
   ]
  },
  {
   "cell_type": "code",
   "execution_count": null,
   "metadata": {},
   "outputs": [],
   "source": []
  },
  {
   "cell_type": "markdown",
   "metadata": {},
   "source": [
    "### Contour plots\n",
    "\n",
    "For representing one variable that is a function of other 2"
   ]
  },
  {
   "cell_type": "code",
   "execution_count": null,
   "metadata": {},
   "outputs": [],
   "source": []
  },
  {
   "cell_type": "markdown",
   "metadata": {},
   "source": [
    "There are a few potential gotchas with ``imshow()``, however:\n",
    "\n",
    "- ``plt.imshow()`` doesn't accept an *x* and *y* grid, so you must manually specify the *extent* [*xmin*, *xmax*, *ymin*, *ymax*] of the image on the plot.\n",
    "- ``plt.imshow()`` by default follows the standard image array definition where the origin is in the upper left, not in the lower left as in most contour plots. This must be changed when showing gridded data.\n",
    "- ``plt.imshow()`` will automatically adjust the axis aspect ratio to match the input data; this can be changed by setting, for example, ``plt.axis(aspect='image')`` to make *x* and *y* units match."
   ]
  },
  {
   "cell_type": "markdown",
   "metadata": {},
   "source": [
    "### A note about 3D\n",
    "\n",
    "Never use 3D plots in a flat medium. That is all."
   ]
  },
  {
   "cell_type": "markdown",
   "metadata": {
    "slideshow": {
     "slide_type": "slide"
    }
   },
   "source": [
    "# Seaborn\n",
    "\n",
    "Seaborn is a statistical data visualization library. It's built on top of matplotlib and tries to \"make a well-defined set of hard things easy\" ([introduction to Seaborn](http://seaborn.pydata.org/introduction.html)).\n",
    "\n",
    "One advantage over matplotlib is that it works natively with DataFrame objects.\n",
    "\n",
    "\n",
    "https://www.datacamp.com/community/tutorials/seaborn-python-tutorial\n",
    "\n"
   ]
  },
  {
   "cell_type": "code",
   "execution_count": null,
   "metadata": {
    "slideshow": {
     "slide_type": "fragment"
    }
   },
   "outputs": [],
   "source": []
  },
  {
   "cell_type": "markdown",
   "metadata": {
    "slideshow": {
     "slide_type": "slide"
    }
   },
   "source": [
    "## Seaborn vs matplotlib\n",
    "\n"
   ]
  },
  {
   "cell_type": "markdown",
   "metadata": {
    "slideshow": {
     "slide_type": "slide"
    }
   },
   "source": [
    "## Distribution plots\n",
    "\n",
    "https://seaborn.pydata.org/tutorial/distributions.html"
   ]
  },
  {
   "cell_type": "markdown",
   "metadata": {
    "slideshow": {
     "slide_type": "slide"
    }
   },
   "source": [
    "### Scatter plots"
   ]
  },
  {
   "cell_type": "code",
   "execution_count": null,
   "metadata": {
    "slideshow": {
     "slide_type": "fragment"
    }
   },
   "outputs": [],
   "source": []
  },
  {
   "cell_type": "markdown",
   "metadata": {
    "slideshow": {
     "slide_type": "slide"
    }
   },
   "source": [
    "### Histogram"
   ]
  },
  {
   "cell_type": "code",
   "execution_count": null,
   "metadata": {
    "slideshow": {
     "slide_type": "fragment"
    }
   },
   "outputs": [],
   "source": []
  },
  {
   "cell_type": "markdown",
   "metadata": {
    "slideshow": {
     "slide_type": "fragment"
    }
   },
   "source": [
    "More on [distplot](https://seaborn.pydata.org/generated/seaborn.distplot.html)"
   ]
  },
  {
   "cell_type": "markdown",
   "metadata": {
    "slideshow": {
     "slide_type": "slide"
    }
   },
   "source": [
    "### Pairwise relationships"
   ]
  },
  {
   "cell_type": "code",
   "execution_count": null,
   "metadata": {
    "slideshow": {
     "slide_type": "fragment"
    }
   },
   "outputs": [],
   "source": []
  },
  {
   "cell_type": "markdown",
   "metadata": {
    "slideshow": {
     "slide_type": "slide"
    }
   },
   "source": [
    "## Linear relationships\n",
    "\n",
    "https://seaborn.pydata.org/tutorial/regression.html"
   ]
  },
  {
   "cell_type": "markdown",
   "metadata": {
    "slideshow": {
     "slide_type": "fragment"
    }
   },
   "source": [
    "### `lmplot()`"
   ]
  },
  {
   "cell_type": "code",
   "execution_count": null,
   "metadata": {
    "slideshow": {
     "slide_type": "fragment"
    }
   },
   "outputs": [],
   "source": []
  },
  {
   "cell_type": "markdown",
   "metadata": {
    "slideshow": {
     "slide_type": "slide"
    }
   },
   "source": [
    "## Categorical data\n",
    "\n",
    "https://www.kaggle.com/c/titanic/download/train.csv\n",
    "\n",
    "https://seaborn.pydata.org/tutorial/categorical.html"
   ]
  },
  {
   "cell_type": "code",
   "execution_count": null,
   "metadata": {
    "slideshow": {
     "slide_type": "fragment"
    }
   },
   "outputs": [],
   "source": []
  },
  {
   "cell_type": "markdown",
   "metadata": {
    "slideshow": {
     "slide_type": "fragment"
    }
   },
   "source": [
    "### Swarm plot"
   ]
  },
  {
   "cell_type": "code",
   "execution_count": null,
   "metadata": {
    "slideshow": {
     "slide_type": "fragment"
    }
   },
   "outputs": [],
   "source": []
  },
  {
   "cell_type": "markdown",
   "metadata": {
    "slideshow": {
     "slide_type": "slide"
    }
   },
   "source": [
    "### Boxplot"
   ]
  },
  {
   "cell_type": "code",
   "execution_count": null,
   "metadata": {
    "slideshow": {
     "slide_type": "fragment"
    }
   },
   "outputs": [],
   "source": []
  },
  {
   "cell_type": "markdown",
   "metadata": {
    "slideshow": {
     "slide_type": "slide"
    }
   },
   "source": [
    "### Barplot / countplot"
   ]
  },
  {
   "cell_type": "code",
   "execution_count": null,
   "metadata": {
    "slideshow": {
     "slide_type": "fragment"
    }
   },
   "outputs": [],
   "source": []
  },
  {
   "cell_type": "markdown",
   "metadata": {
    "slideshow": {
     "slide_type": "slide"
    }
   },
   "source": [
    "### Pointplot"
   ]
  },
  {
   "cell_type": "code",
   "execution_count": null,
   "metadata": {
    "slideshow": {
     "slide_type": "fragment"
    }
   },
   "outputs": [],
   "source": []
  },
  {
   "cell_type": "markdown",
   "metadata": {
    "slideshow": {
     "slide_type": "slide"
    }
   },
   "source": [
    "## Other types"
   ]
  },
  {
   "cell_type": "markdown",
   "metadata": {
    "slideshow": {
     "slide_type": "slide"
    }
   },
   "source": [
    "### Heatmap"
   ]
  },
  {
   "cell_type": "code",
   "execution_count": null,
   "metadata": {
    "slideshow": {
     "slide_type": "fragment"
    }
   },
   "outputs": [],
   "source": []
  },
  {
   "cell_type": "markdown",
   "metadata": {
    "slideshow": {
     "slide_type": "slide"
    }
   },
   "source": [
    "### Clustermap"
   ]
  },
  {
   "cell_type": "code",
   "execution_count": null,
   "metadata": {
    "slideshow": {
     "slide_type": "fragment"
    }
   },
   "outputs": [],
   "source": []
  },
  {
   "cell_type": "markdown",
   "metadata": {
    "collapsed": true,
    "slideshow": {
     "slide_type": "slide"
    }
   },
   "source": [
    " "
   ]
  },
  {
   "cell_type": "markdown",
   "metadata": {
    "slideshow": {
     "slide_type": "slide"
    }
   },
   "source": [
    "# Bokeh\n",
    "\n",
    "Bokeh \"is a Python interactive visualization library that targets\n",
    "modern web browsers for presentation\". \n",
    "\n",
    "Two components: A Python backend and a JS frontend. \n",
    "\n",
    "The way we use it is to declare our graphs in Python. \n",
    "\n",
    "The Python objects will in turn generate a series of JSON objects that describe a _scenegraph_. The JS component will generate the actual visualization from that scenegraph. The upside of this is that we don't need to work with JS, but our visualizations will be browser-based and interactive\n",
    "\n",
    "https://bokeh.pydata.org/en/latest/docs/gallery.html\n",
    "\n",
    "https://bokeh.pydata.org/en/latest/"
   ]
  },
  {
   "cell_type": "markdown",
   "metadata": {
    "collapsed": true,
    "slideshow": {
     "slide_type": "slide"
    }
   },
   "source": [
    " "
   ]
  },
  {
   "cell_type": "markdown",
   "metadata": {
    "slideshow": {
     "slide_type": "slide"
    }
   },
   "source": [
    "# Plotly\n",
    "\n",
    "https://www.analyticsvidhya.com/blog/2017/01/beginners-guide-to-create-beautiful-interactive-data-visualizations-using-plotly-in-r-and-python/\n",
    "\n",
    "Plotly is a multi-language tool for creating interactive visualizations. It's built on top  of D3."
   ]
  },
  {
   "cell_type": "markdown",
   "metadata": {
    "slideshow": {
     "slide_type": "slide"
    }
   },
   "source": [
    "## Dash\n",
    "\n",
    "\"Shiny for Python\" \n"
   ]
  },
  {
   "cell_type": "markdown",
   "metadata": {
    "slideshow": {
     "slide_type": "slide"
    }
   },
   "source": [
    "# See Also: Vega\n",
    "\n",
    "Used by the Altair library, which uses the [grammar of graphics](https://towardsdatascience.com/a-comprehensive-guide-to-the-grammar-of-graphics-for-effective-visualization-of-multi-dimensional-1f92b4ed4149).\n",
    "\n",
    "http://vega.github.io/"
   ]
  },
  {
   "cell_type": "markdown",
   "metadata": {
    "slideshow": {
     "slide_type": "slide"
    }
   },
   "source": [
    " "
   ]
  },
  {
   "cell_type": "markdown",
   "metadata": {
    "slideshow": {
     "slide_type": "slide"
    }
   },
   "source": [
    "# Additional references\n",
    "\n",
    "[Matplotlib documentation](http://matplotlib.org/contents.html)\n",
    "\n",
    "[The matplotlib FAQ](http://matplotlib.org/faq/usage_faq.html)\n",
    "\n",
    "[Matplotlib cheat sheet](https://s3.amazonaws.com/assets.datacamp.com/blog_assets/Python_Matplotlib_Cheat_Sheet.pdf)\n",
    "\n",
    "[Nicolas P. Rougier's matplotlib tutorial](http://www.labri.fr/perso/nrougier/teaching/matplotlib/)\n",
    "\n",
    "[Anatomy of Matplotlib](https://github.com/matplotlib/AnatomyOfMatplotlib)\n",
    "\n",
    "[$\\LaTeX$](https://www.latex-project.org/)\n",
    "\n",
    "[A quick look at altair](http://fernandoi.cl/blog/posts/altair/)\n",
    "\n",
    "\n",
    "[Bokeh User Guide](http://bokeh.pydata.org/en/latest/docs/user_guide.html)\n",
    "\n",
    "[Bokeh Tutorials](http://nbviewer.jupyter.org/github/bokeh/bokeh-notebooks/blob/master/index.ipynb)\n",
    "\n",
    "[Dash](https://plot.ly/dash/)\n",
    "\n",
    "[Dash being spotted before release](https://www.reddit.com/r/Python/comments/6imhxa/plotly_has_just_released_dash_20_a_shinylike_tool/)\n",
    "\n",
    "[Facets](https://pair-code.github.io/facets/)\n",
    "\n",
    "[Facets release Google research blog entry](https://research.googleblog.com/2017/07/facets-open-source-visualization-tool.html)"
   ]
  }
 ],
 "metadata": {
  "kernelspec": {
   "display_name": "Python 3",
   "language": "python",
   "name": "python3"
  },
  "language_info": {
   "codemirror_mode": {
    "name": "ipython",
    "version": 3
   },
   "file_extension": ".py",
   "mimetype": "text/x-python",
   "name": "python",
   "nbconvert_exporter": "python",
   "pygments_lexer": "ipython3",
   "version": "3.9.1"
  },
  "livereveal": {
   "scroll": true,
   "start_slideshow_at": "selected"
  }
 },
 "nbformat": 4,
 "nbformat_minor": 2
}
