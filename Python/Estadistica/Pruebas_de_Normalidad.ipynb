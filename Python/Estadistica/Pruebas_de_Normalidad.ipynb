{
 "cells": [
  {
   "cell_type": "markdown",
   "metadata": {},
   "source": [
    "# Pruebas de Normalidad con Python"
   ]
  },
  {
   "cell_type": "code",
   "execution_count": 1,
   "metadata": {},
   "outputs": [],
   "source": [
    "import numpy as np \n",
    "import pylab \n",
    "import scipy.stats as ss"
   ]
  },
  {
   "cell_type": "code",
   "execution_count": 2,
   "metadata": {},
   "outputs": [],
   "source": [
    "measurements = np.random.normal(size=100) #N(0,1)\n",
    "#measurements = np.random.normal(loc = 20, scale = 5, size=100) #N(20,5)"
   ]
  },
  {
   "cell_type": "code",
   "execution_count": 3,
   "metadata": {},
   "outputs": [
    {
     "data": {
      "text/plain": [
       "array([-8.97904470e-01, -1.22543404e+00, -5.17634534e-01, -2.74469777e-01,\n",
       "        1.92438835e-01, -1.35888791e+00,  6.73165294e-01, -1.84314250e+00,\n",
       "        1.11894177e-01,  2.08111600e-01,  5.62877557e-01,  1.30813646e+00,\n",
       "       -4.89482917e-02, -8.73532243e-01,  1.38257486e+00, -1.14828327e+00,\n",
       "       -1.69712446e-01,  1.39994662e-01, -1.18316055e+00, -3.66905668e-01,\n",
       "       -3.56335751e-01, -9.44280499e-01,  6.82786488e-01, -1.63429885e+00,\n",
       "       -3.69410724e-01, -4.75563579e-01, -1.12625874e-01,  2.12836853e+00,\n",
       "        1.01967906e+00, -1.66024522e+00, -1.16886157e-02, -9.76689908e-01,\n",
       "       -1.55967689e+00,  9.43773696e-01, -4.56106002e-01,  8.63904673e-01,\n",
       "       -2.39144918e-01, -3.09696328e-01, -1.50631371e+00, -1.17889547e+00,\n",
       "       -9.72775052e-01,  1.73732426e+00,  6.84106977e-01,  9.52992313e-01,\n",
       "       -3.67454592e-01,  3.77035385e-01, -9.24792922e-01,  6.19706431e-01,\n",
       "       -4.88212565e-01, -8.55884379e-01, -2.14945135e+00,  4.91486127e-01,\n",
       "        1.09418356e+00, -1.86774899e-01, -1.03785166e+00,  5.76753654e-01,\n",
       "       -5.48907352e-01,  2.59315019e-01,  2.47102566e+00,  1.23176101e+00,\n",
       "       -2.52886823e-04, -4.05385830e-01,  1.92201356e-01,  2.85408829e-01,\n",
       "        8.44328677e-01,  1.19974278e+00, -5.43435254e-01, -3.62909339e-01,\n",
       "        1.53410511e+00, -1.78466771e+00,  4.24170151e-01, -8.27828558e-01,\n",
       "       -1.60868741e-02, -1.49882882e+00,  1.84576963e+00, -6.81777952e-01,\n",
       "       -5.20525072e-01,  1.83079038e+00, -5.57970646e-01,  3.99757419e-01,\n",
       "        5.09386782e-02, -1.09335478e+00,  1.44223177e+00, -1.25548013e+00,\n",
       "       -1.64809256e+00,  4.47821086e-01, -8.28255562e-01,  2.07332175e+00,\n",
       "       -1.81452196e+00, -2.69660377e-01,  7.29768205e-01, -6.21306361e-01,\n",
       "       -8.56527690e-01, -8.75527295e-01, -2.15603435e-01, -7.44169719e-01,\n",
       "        2.40771858e-01, -1.18428405e+00,  1.26547284e-01,  1.13652267e+00])"
      ]
     },
     "execution_count": 3,
     "metadata": {},
     "output_type": "execute_result"
    }
   ],
   "source": [
    "measurements"
   ]
  },
  {
   "cell_type": "markdown",
   "metadata": {},
   "source": [
    "### Histograma"
   ]
  },
  {
   "cell_type": "code",
   "execution_count": 4,
   "metadata": {},
   "outputs": [
    {
     "data": {
      "text/plain": [
       "(array([ 4.,  9., 17., 18., 15., 14.,  9.,  8.,  3.,  3.]),\n",
       " array([-2.14945135, -1.68740365, -1.22535595, -0.76330825, -0.30126055,\n",
       "         0.16078715,  0.62283486,  1.08488256,  1.54693026,  2.00897796,\n",
       "         2.47102566]),\n",
       " <a list of 10 Patch objects>)"
      ]
     },
     "execution_count": 4,
     "metadata": {},
     "output_type": "execute_result"
    },
    {
     "data": {
      "image/png": "[encoded data removed]",
      "text/plain": [
       "<Figure size 432x288 with 1 Axes>"
      ]
     },
     "metadata": {
      "needs_background": "light"
     },
     "output_type": "display_data"
    }
   ],
   "source": [
    "pylab.hist(measurements)"
   ]
  },
  {
   "cell_type": "markdown",
   "metadata": {},
   "source": [
    "### Diagrama de caja o boxplot"
   ]
  },
  {
   "cell_type": "code",
   "execution_count": 5,
   "metadata": {},
   "outputs": [
    {
     "data": {
      "text/plain": [
       "{'whiskers': [<matplotlib.lines.Line2D at 0x7f4d341789e8>,\n",
       "  <matplotlib.lines.Line2D at 0x7f4d34178d30>],\n",
       " 'caps': [<matplotlib.lines.Line2D at 0x7f4d34178e10>,\n",
       "  <matplotlib.lines.Line2D at 0x7f4d34184400>],\n",
       " 'boxes': [<matplotlib.lines.Line2D at 0x7f4d341785c0>],\n",
       " 'medians': [<matplotlib.lines.Line2D at 0x7f4d34184748>],\n",
       " 'fliers': [<matplotlib.lines.Line2D at 0x7f4d34184a90>],\n",
       " 'means': []}"
      ]
     },
     "execution_count": 5,
     "metadata": {},
     "output_type": "execute_result"
    },
    {
     "data": {
      "image/png": "[encoded data removed]",
      "text/plain": [
       "<Figure size 432x288 with 1 Axes>"
      ]
     },
     "metadata": {
      "needs_background": "light"
     },
     "output_type": "display_data"
    }
   ],
   "source": [
    "pylab.boxplot(measurements)"
   ]
  },
  {
   "cell_type": "markdown",
   "metadata": {},
   "source": [
    "### Q-Q-Plot"
   ]
  },
  {
   "cell_type": "code",
   "execution_count": 6,
   "metadata": {},
   "outputs": [
    {
     "data": {
      "image/png": "[encoded data removed]",
      "text/plain": [
       "<Figure size 432x288 with 1 Axes>"
      ]
     },
     "metadata": {
      "needs_background": "light"
     },
     "output_type": "display_data"
    }
   ],
   "source": [
    "ss.probplot(measurements, dist=\"norm\", plot=pylab)\n",
    "pylab.show()"
   ]
  },
  {
   "cell_type": "markdown",
   "metadata": {},
   "source": [
    "### Contraste Kolmogorov-Smirnov (de normalidad p-valor)"
   ]
  },
  {
   "cell_type": "markdown",
   "metadata": {},
   "source": [
    "Queremos saber si la altura de los habitantes de una ciudad sigue una distribución normal. \n",
    "Para ello hemos tomado una muestra de 80 alturas."
   ]
  },
  {
   "cell_type": "code",
   "execution_count": 7,
   "metadata": {},
   "outputs": [
    {
     "name": "stdout",
     "output_type": "stream",
     "text": [
      "160.37437801610426\n",
      "17.413434203608496\n"
     ]
    }
   ],
   "source": [
    "import pandas as pd\n",
    "import scipy.stats as ss\n",
    "\n",
    "df = pd.read_csv(\"PruebasNorm_datos1.csv\")\n",
    "\n",
    "media, desviacion = ss.norm.fit(df[\"Altura\"])\n",
    "\n",
    "print(media) # media = 160,37\n",
    "print(desviacion) # desviacion = 17,41"
   ]
  },
  {
   "cell_type": "markdown",
   "metadata": {},
   "source": [
    "Si lo ajustamos a una normal, parece ser que encajaría con una distribución normal de media 160,37 y desviación típica 17,41."
   ]
  },
  {
   "cell_type": "markdown",
   "metadata": {},
   "source": [
    "Hemos hecho un ajuste, pero no sabemos cómo de bueno es realmente. Realizamos Kolmogorov-Smirnov."
   ]
  },
  {
   "cell_type": "code",
   "execution_count": 8,
   "metadata": {},
   "outputs": [],
   "source": [
    "d, pvalor = ss.kstest(df[\"Altura\"],\"norm\",args=(media,desviacion))\n",
    "# o alternativamente hace lo mismo\n",
    "#d, pvalor = ss.ktest(df[\"Altura\"],lambda x: ss.norm.cdf(x,media,desviacion))"
   ]
  },
  {
   "cell_type": "code",
   "execution_count": 9,
   "metadata": {},
   "outputs": [
    {
     "data": {
      "text/plain": [
       "0.07029940318559086"
      ]
     },
     "execution_count": 9,
     "metadata": {},
     "output_type": "execute_result"
    }
   ],
   "source": [
    "d"
   ]
  },
  {
   "cell_type": "code",
   "execution_count": 10,
   "metadata": {},
   "outputs": [
    {
     "data": {
      "text/plain": [
       "0.8240450968769732"
      ]
     },
     "execution_count": 10,
     "metadata": {},
     "output_type": "execute_result"
    }
   ],
   "source": [
    "pvalor"
   ]
  },
  {
   "cell_type": "markdown",
   "metadata": {},
   "source": [
    "La estadística d es la distancia máxima absoluta entre los CDF (funciones de distribución) de las dos vbles. Cuanto más cercano esté este número a 0, más probable es que las dos muestras se extraigan de la misma distribución.\n",
    "\n",
    "Hemos obtenido un pvalor grande por lo que podemos aceptar la hipotesis nula y concluir que estos datos sí que se podrían ajustar a una normal. Es decir, no podemos rechazarla, lo que no significa que haya que dar por hecho que es real.\n",
    "\n",
    "(Importante tener en cuenta que el pvalor no es una probabilidad, es un indicador)"
   ]
  },
  {
   "cell_type": "code",
   "execution_count": 11,
   "metadata": {},
   "outputs": [],
   "source": [
    "# ss.proportions_ztest(x, n, p_null, alternative = 'larger') # para proporciones"
   ]
  },
  {
   "cell_type": "code",
   "execution_count": 12,
   "metadata": {},
   "outputs": [],
   "source": [
    "# ss.ztest(data, value = 100, alternative = \"larger\") # para h0 media=100"
   ]
  },
  {
   "cell_type": "code",
   "execution_count": 13,
   "metadata": {},
   "outputs": [],
   "source": [
    "# ss.ztest(poblacion1, poblacion2) # para medias de dos poblaciones"
   ]
  }
 ],
 "metadata": {
  "kernelspec": {
   "display_name": "Python 3",
   "language": "python",
   "name": "python3"
  },
  "language_info": {
   "codemirror_mode": {
    "name": "ipython",
    "version": 3
   },
   "file_extension": ".py",
   "mimetype": "text/x-python",
   "name": "python",
   "nbconvert_exporter": "python",
   "pygments_lexer": "ipython3",
   "version": "3.7.1"
  }
 },
 "nbformat": 4,
 "nbformat_minor": 2
}
