{
 "cells": [
  {
   "cell_type": "markdown",
   "metadata": {},
   "source": [
    "# Pruebas de Normalidad con Python"
   ]
  },
  {
   "cell_type": "code",
   "execution_count": null,
   "metadata": {},
   "outputs": [],
   "source": [
    "import numpy as np \n",
    "import pylab \n",
    "import scipy.stats as ss"
   ]
  },
  {
   "cell_type": "code",
   "execution_count": null,
   "metadata": {},
   "outputs": [],
   "source": [
    "measurements = np.random.normal(size=100) #N(0,1)\n",
    "#measurements = np.random.normal(loc = 20, scale = 5, size=100) #N(20,5)"
   ]
  },
  {
   "cell_type": "markdown",
   "metadata": {},
   "source": [
    "### Histograma"
   ]
  },
  {
   "cell_type": "code",
   "execution_count": null,
   "metadata": {},
   "outputs": [],
   "source": [
    "pylab.hist(measurements)"
   ]
  },
  {
   "cell_type": "markdown",
   "metadata": {},
   "source": [
    "### Diagrama de caja o boxplot"
   ]
  },
  {
   "cell_type": "code",
   "execution_count": null,
   "metadata": {},
   "outputs": [],
   "source": [
    "pylab.boxplot(measurements)"
   ]
  },
  {
   "cell_type": "markdown",
   "metadata": {},
   "source": [
    "### Q-Q-Plot"
   ]
  },
  {
   "cell_type": "code",
   "execution_count": null,
   "metadata": {},
   "outputs": [],
   "source": [
    "ss.probplot(measurements, dist=\"norm\", plot=pylab)\n",
    "pylab.show()"
   ]
  },
  {
   "cell_type": "markdown",
   "metadata": {},
   "source": [
    "### Contraste Kolmogorov-Smirnov (de normalidad p-valor)"
   ]
  },
  {
   "cell_type": "markdown",
   "metadata": {},
   "source": [
    "Queremos saber si la altura de los habitantes de una ciudad sigue una distribución normal. \n",
    "Para ello hemos tomado una muestra de 80 alturas."
   ]
  },
  {
   "cell_type": "code",
   "execution_count": null,
   "metadata": {},
   "outputs": [],
   "source": [
    "import pandas as pd\n",
    "import scipy.stats as ss\n",
    "\n",
    "df = pd.read_csv(\"PruebasNorm_datos1.csv\")\n",
    "\n",
    "media, desviacion = ss.norm.fit(df[\"Altura\"])\n",
    "\n",
    "print(media) # media = 160,37\n",
    "print(desviacion) # desviacion = 17,41"
   ]
  },
  {
   "cell_type": "markdown",
   "metadata": {},
   "source": [
    "Si lo ajustamos a una normal, parece ser que encajaría con una distribución normal de media 160,37 y desviación típica 17,41."
   ]
  },
  {
   "cell_type": "markdown",
   "metadata": {},
   "source": [
    "Hemos hecho un ajuste, pero no sabemos cómo de bueno es realmente. Realizamos Kolmogorov-Smirnov."
   ]
  },
  {
   "cell_type": "code",
   "execution_count": null,
   "metadata": {},
   "outputs": [],
   "source": [
    "d, pvalor = ss.kstest(df[\"Altura\"],\"norm\",args=(media,desviacion))\n",
    "# o alternativamente hace lo mismo\n",
    "#d, pvalor = ss.ktest(df[\"Altura\"],lambda x: ss.norm.cdf(x,media,desviacion))"
   ]
  },
  {
   "cell_type": "code",
   "execution_count": null,
   "metadata": {},
   "outputs": [],
   "source": [
    "d"
   ]
  },
  {
   "cell_type": "code",
   "execution_count": null,
   "metadata": {},
   "outputs": [],
   "source": [
    "pvalor"
   ]
  },
  {
   "cell_type": "markdown",
   "metadata": {},
   "source": [
    "La estadística d es la distancia máxima absoluta entre los CDF (funciones de distribución) de las dos vbles. Cuanto más cercano esté este número a 0, más probable es que las dos muestras se extraigan de la misma distribución.\n",
    "\n",
    "Hemos obtenido un pvalor grande por lo que podemos aceptar la hipotesis nula y concluir que estos datos sí que se podrían ajustar a una normal. Es decir, no podemos rechazarla, lo que no significa que haya que dar por hecho que es real.\n",
    "\n",
    "(Importante tener en cuenta que el pvalor no es una probabilidad, es un indicador)"
   ]
  },
  {
   "cell_type": "code",
   "execution_count": null,
   "metadata": {},
   "outputs": [],
   "source": [
    "# ss.proportions_ztest(x, n, p_null, alternative = 'larger') # para proporciones"
   ]
  },
  {
   "cell_type": "code",
   "execution_count": null,
   "metadata": {},
   "outputs": [],
   "source": [
    "# ss.ztest(data, value = 100, alternative = \"larger\") # para h0 media=100"
   ]
  },
  {
   "cell_type": "code",
   "execution_count": null,
   "metadata": {},
   "outputs": [],
   "source": [
    "# ss.ztest(poblacion1, poblacion2) # para medias de dos poblaciones"
   ]
  }
 ],
 "metadata": {
  "kernelspec": {
   "display_name": "Python 3",
   "language": "python",
   "name": "python3"
  },
  "language_info": {
   "codemirror_mode": {
    "name": "ipython",
    "version": 3
   },
   "file_extension": ".py",
   "mimetype": "text/x-python",
   "name": "python",
   "nbconvert_exporter": "python",
   "pygments_lexer": "ipython3",
   "version": "3.6.5"
  }
 },
 "nbformat": 4,
 "nbformat_minor": 2
}
